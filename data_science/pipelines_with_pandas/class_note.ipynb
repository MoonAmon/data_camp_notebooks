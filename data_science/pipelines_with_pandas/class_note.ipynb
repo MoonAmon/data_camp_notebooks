{
 "cells": [
  {
   "cell_type": "code",
   "execution_count": 2,
   "id": "65ec1ca1",
   "metadata": {},
   "outputs": [
    {
     "name": "stdout",
     "output_type": "stream",
     "text": [
      "Tokyo\n",
      "43300\n",
      "Frankfurt\n",
      "74990\n",
      "London\n",
      "458000\n",
      "New York City\n",
      "34009\n",
      "Paris\n",
      "34099\n"
     ]
    }
   ],
   "source": [
    "class Cidade:\n",
    "    def __init__(self, nome, cep):\n",
    "        self.nome = nome\n",
    "        self.cep = cep\n",
    "       \n",
    "cidades = []\n",
    "nomes = ['Tokyo', 'Frankfurt', 'London', 'New York City', 'Paris']\n",
    "ceps = [43300, 74990, 458000, 34009, 34099]\n",
    "\n",
    "for name, cep in zip(nomes, ceps):\n",
    "    cidade = Cidade(name, cep)\n",
    "    cidades.append(cidade)\n",
    "    \n",
    "for cidade in cidades:\n",
    "    print(cidade.nome)\n",
    "    print(cidade.cep)"
   ]
  },
  {
   "cell_type": "code",
   "execution_count": 3,
   "id": "58f897b7",
   "metadata": {},
   "outputs": [
    {
     "name": "stdout",
     "output_type": "stream",
     "text": [
      "789\n",
      "José\n",
      "900\n",
      "3000\n",
      "987\n",
      "Ana\n",
      "1900\n",
      "4000\n"
     ]
    }
   ],
   "source": [
    "class Conta:\n",
    "    def __init__(self, numero, cliente, saldo, limite):\n",
    "        self.numero = numero\n",
    "        self.cliente = cliente\n",
    "        self.saldo = saldo\n",
    "        self.limite = limite\n",
    "        \n",
    "    def deposito(self, valor):\n",
    "        self.saldo += valor\n",
    "        return self.saldo\n",
    "    \n",
    "    def mudar_limite(self, novo_limite):\n",
    "        self.limite = novo_limite\n",
    "        return self.limite\n",
    "    \n",
    "    def mudar_cliente(self, novo_cliente):\n",
    "        self.cliente = novo_cliente\n",
    "        return self.cliente\n",
    "    \n",
    "    def mudar_numero(self, novo_numero):\n",
    "        self.numero = novo_numero\n",
    "        return self.numero\n",
    "    \n",
    "    def saque(self, valor):\n",
    "        if valor > self.saldo:\n",
    "            print('Saldo insuficiente')\n",
    "        else:\n",
    "            self.saldo -= valor\n",
    "            return self.saldo\n",
    "\n",
    "conta1 = Conta(123, 'João', 1000, 2000)\n",
    "conta2 = Conta(456, 'Maria', 2000, 3000)\n",
    "\n",
    "conta1.deposito(100)\n",
    "conta1.saque(200)\n",
    "conta1.mudar_limite(3000)\n",
    "conta1.mudar_cliente('José')\n",
    "conta1.mudar_numero(789)\n",
    "\n",
    "conta2.deposito(200)\n",
    "conta2.saque(300)\n",
    "conta2.mudar_limite(4000)\n",
    "conta2.mudar_cliente('Ana')\n",
    "conta2.mudar_numero(987)\n",
    "\n",
    "print(conta1.numero)\n",
    "print(conta1.cliente)\n",
    "print(conta1.saldo)\n",
    "print(conta1.limite)\n",
    "\n",
    "print(conta2.numero)\n",
    "print(conta2.cliente)\n",
    "print(conta2.saldo)\n",
    "print(conta2.limite)\n"
   ]
  }
 ],
 "metadata": {
  "kernelspec": {
   "display_name": "Python 3",
   "language": "python",
   "name": "python3"
  },
  "language_info": {
   "codemirror_mode": {
    "name": "ipython",
    "version": 3
   },
   "file_extension": ".py",
   "mimetype": "text/x-python",
   "name": "python",
   "nbconvert_exporter": "python",
   "pygments_lexer": "ipython3",
   "version": "3.12.0"
  }
 },
 "nbformat": 4,
 "nbformat_minor": 5
}
