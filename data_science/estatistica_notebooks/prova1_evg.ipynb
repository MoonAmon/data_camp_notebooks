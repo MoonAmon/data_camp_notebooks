{
 "cells": [
  {
   "cell_type": "markdown",
   "metadata": {},
   "source": [
    "# Estatística Descritiva - Exercício Avaliativo 1"
   ]
  },
  {
   "cell_type": "code",
   "execution_count": 1,
   "metadata": {},
   "outputs": [],
   "source": [
    "# Importando as bibliotecas\n",
    "import pandas as pd\n",
    "import numpy as np"
   ]
  },
  {
   "cell_type": "markdown",
   "metadata": {},
   "source": [
    "A tabela abaixo se refere à série anual para a variação do índice nacional de preços ao consumidor (INPC), referenciado aos 12 últimos meses, levantado pelo Instituto Brasileiro de Geografia - IBGE:"
   ]
  },
  {
   "cell_type": "code",
   "execution_count": 21,
   "metadata": {},
   "outputs": [
    {
     "name": "stdout",
     "output_type": "stream",
     "text": [
      "Media: 5.43, desvio padrão: 0.47, coeficiente da variação 8.63\n"
     ]
    }
   ],
   "source": [
    "# Criando um dict da amostragem\n",
    "df_ibge_dict = {'Jan':5.63, 'Fev':5.47, 'Mar':4.97, 'Abr':4.84, 'Mai':4.86, 'Jun':4.90, 'Jul':5.36, 'Ago':5.39, 'Set':5.58, 'Out':5.99, 'Nov':5.95, 'Dez':6.2}\n",
    "\n",
    "# Convertendo para tupla \n",
    "df_ibge_tuple = list(df_ibge_dict.items())\n",
    "\n",
    "# Criando as labels do index\n",
    "index_ibge = ['Mês/2012','Variação (%)']\n",
    "\n",
    "# Criando o dataframe da amostragem\n",
    "df_ibge = pd.DataFrame(df_ibge_tuple, columns=index_ibge).transpose()\n",
    "\n",
    "# Calculando o desvio padrão\n",
    "desvio_padrao = df_ibge.loc['Variação (%)'].astype(float).std()\n",
    "\n",
    "# Calculando a média\n",
    "media = df_ibge.loc['Variação (%)'].astype(float).mean()\n",
    "\n",
    "# Calculando o coeficiente de variação\n",
    "coeficiente_var = (desvio_padrao / media) * 100\n",
    "\n",
    "# Exibindo os resulatados\n",
    "print(f\"Media: {round(media, 2)}, desvio padrão: {round(desvio_padrao, 2)}, coeficiente da variação {round(coeficiente_var,2)}\")"
   ]
  }
 ],
 "metadata": {
  "kernelspec": {
   "display_name": "Python 3",
   "language": "python",
   "name": "python3"
  },
  "language_info": {
   "codemirror_mode": {
    "name": "ipython",
    "version": 3
   },
   "file_extension": ".py",
   "mimetype": "text/x-python",
   "name": "python",
   "nbconvert_exporter": "python",
   "pygments_lexer": "ipython3",
   "version": "3.12.0"
  }
 },
 "nbformat": 4,
 "nbformat_minor": 2
}
