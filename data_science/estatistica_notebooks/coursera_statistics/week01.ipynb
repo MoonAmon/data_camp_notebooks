{
 "cells": [
  {
   "cell_type": "markdown",
   "metadata": {},
   "source": [
    "## Data Type - 1\n",
    "\n",
    "- Types of Data\n",
    "    - Cross-Sectional\n",
    "    - Time-series\n",
    "\n",
    "## Variable Types - 1\n",
    "\n",
    "- Categorical (nominal)\n",
    "    - Properties:    \n",
    "- Ordinal data\n",
    "    - Properties:\n",
    "- Ratio data (continuous data)\n",
    "    - Properties:\n",
    "- Interval data\n",
    "    - Properties:\n"
   ]
  }
 ],
 "metadata": {
  "language_info": {
   "name": "python"
  }
 },
 "nbformat": 4,
 "nbformat_minor": 2
}
