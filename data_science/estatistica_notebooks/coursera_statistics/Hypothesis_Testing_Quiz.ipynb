{
 "cells": [
  {
   "cell_type": "markdown",
   "source": [
    "# Hypothesis Testing - Practice Quiz "
   ],
   "metadata": {
    "collapsed": false
   },
   "id": "d8b9097f48517b75"
  },
  {
   "cell_type": "code",
   "outputs": [
    {
     "name": "stdout",
     "output_type": "stream",
     "text": [
      "Requirement already satisfied: scipy in c:\\users\\user\\appdata\\local\\programs\\python\\python312\\lib\\site-packages (1.11.4)\n",
      "Requirement already satisfied: numpy<1.28.0,>=1.21.6 in c:\\users\\user\\appdata\\local\\programs\\python\\python312\\lib\\site-packages (from scipy) (1.26.2)\n"
     ]
    }
   ],
   "source": [
    "!pip install scipy"
   ],
   "metadata": {
    "collapsed": false,
    "ExecuteTime": {
     "end_time": "2024-01-03T20:09:13.174162800Z",
     "start_time": "2024-01-03T20:09:10.257808500Z"
    }
   },
   "id": "352b09dfb98ab159",
   "execution_count": 2
  },
  {
   "cell_type": "markdown",
   "source": [
    "## The weekly earnings of bus drivers are normally distributed with a mean of 395. If only 0.84% of  the  bus  drivers  have  a  weekly  income  of  more  than  429.35,  the  standard  deviation  of  the weekly earnings of the bus drivers is approximately __________."
   ],
   "metadata": {
    "collapsed": false
   },
   "id": "dd48bca574040221"
  },
  {
   "cell_type": "code",
   "outputs": [
    {
     "name": "stdout",
     "output_type": "stream",
     "text": [
      "14.366038719928381\n"
     ]
    }
   ],
   "source": [
    "import math\n",
    "import scipy.stats as st\n",
    "\n",
    "mean = 395\n",
    "p = 0.84/100\n",
    "x = 429.35\n",
    "\n",
    "z = st.norm.isf(p)\n",
    "sigma = (x - mean)/z\n",
    "print(sigma)"
   ],
   "metadata": {
    "collapsed": false,
    "ExecuteTime": {
     "end_time": "2024-01-03T20:09:22.420324200Z",
     "start_time": "2024-01-03T20:09:18.724782200Z"
    }
   },
   "id": "af924b01c6666705",
   "execution_count": 3
  },
  {
   "cell_type": "markdown",
   "source": [
    "For the following samples assume they follow a normal distribution and we assume equal variance, we will like to know if there is a difference between both sample means. If we perform a two-sample t-test for independent samples. What is the p-value for the test Statistics?\n",
    "\n",
    "Sample1 = 9, 11, 10,11,10,12, 9,11,12, 9, 10\n",
    "\n",
    "Sample2 = 10, 13, 10, 13, 12, 9, 11, 12, 12, 12, 13"
   ],
   "metadata": {
    "collapsed": false
   },
   "id": "279d22e696ad2ae6"
  },
  {
   "cell_type": "code",
   "outputs": [
    {
     "name": "stdout",
     "output_type": "stream",
     "text": [
      "O valor de t é -2.2164816032790386 e o valor de p é 0.03841461541539729\n"
     ]
    }
   ],
   "source": [
    "# Definindo as amostras\n",
    "sample1 = [9, 11, 10, 11, 10, 12, 9, 11, 12, 9 ,10]\n",
    "sample2 = [10, 13, 10, 13, 12, 9, 11, 12, 12, 12, 13]\n",
    "\n",
    "# Realizando o teste t de duas amostras para médias independentes\n",
    "t_stat, p_value = st.ttest_ind(sample1, sample2)\n",
    "\n",
    "print(f\"O valor de t é {t_stat} e o valor de p é {p_value}\")"
   ],
   "metadata": {
    "collapsed": false,
    "ExecuteTime": {
     "end_time": "2024-01-03T20:24:51.277794300Z",
     "start_time": "2024-01-03T20:24:51.046580700Z"
    }
   },
   "id": "8164b1c6a683f36a",
   "execution_count": 4
  },
  {
   "cell_type": "markdown",
   "source": [],
   "metadata": {
    "collapsed": false
   },
   "id": "bd3eaa3f846dd9f"
  }
 ],
 "metadata": {
  "kernelspec": {
   "display_name": "Python 3",
   "language": "python",
   "name": "python3"
  },
  "language_info": {
   "codemirror_mode": {
    "name": "ipython",
    "version": 2
   },
   "file_extension": ".py",
   "mimetype": "text/x-python",
   "name": "python",
   "nbconvert_exporter": "python",
   "pygments_lexer": "ipython2",
   "version": "2.7.6"
  }
 },
 "nbformat": 4,
 "nbformat_minor": 5
}
