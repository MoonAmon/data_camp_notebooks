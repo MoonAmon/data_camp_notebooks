{
 "cells": [
  {
   "cell_type": "markdown",
   "source": [
    "# Hypothesis Testing - Graded Quiz"
   ],
   "metadata": {
    "collapsed": false
   },
   "id": "44c3542e2b55a201"
  },
  {
   "cell_type": "code",
   "outputs": [],
   "source": [
    "import math\n",
    "import pandas as pd\n",
    "import scipy.stats as stats"
   ],
   "metadata": {
    "collapsed": false,
    "ExecuteTime": {
     "end_time": "2024-01-03T21:14:46.828625100Z",
     "start_time": "2024-01-03T21:14:46.815271100Z"
    }
   },
   "id": "106143c08da21b71",
   "execution_count": 19
  },
  {
   "cell_type": "markdown",
   "source": [
    "## Consider a normally distributed data set with mean μ = 63.18 inches and standard deviation σ= 13.27 inches. What is the z-score when x = 91.54 inches? (To 3 decimal places) "
   ],
   "metadata": {
    "collapsed": false
   },
   "id": "b69c21434f285eeb"
  },
  {
   "cell_type": "code",
   "outputs": [
    {
     "name": "stdout",
     "output_type": "stream",
     "text": [
      "O z-score é 2.137\n"
     ]
    }
   ],
   "source": [
    "# Definir as variaveis\n",
    "x = 91.54\n",
    "mean = 63.18\n",
    "std_dev = 13.27\n",
    "\n",
    "# Calcular o z-score\n",
    "z = (x - mean) / std_dev\n",
    "\n",
    "# Print o resultado\n",
    "print(f\"O z-score é {z:.3f}\")"
   ],
   "metadata": {
    "collapsed": false,
    "ExecuteTime": {
     "end_time": "2024-01-03T20:33:15.132435700Z",
     "start_time": "2024-01-03T20:33:15.121354500Z"
    }
   },
   "id": "ef6b9d8dbb3469d",
   "execution_count": 2
  },
  {
   "cell_type": "markdown",
   "source": [
    "## Battery life of smartphones is of great concern to customers. A consumer group tested four brands of smartphones to determine the battery life. Samples of phones of each brand were fully charged and left to run until the battery died. The table above displays the number of hours each of the batteries lasted. What test will be be using to test the difference in means?"
   ],
   "metadata": {
    "collapsed": false
   },
   "id": "24ea17a77d62ce79"
  },
  {
   "cell_type": "code",
   "outputs": [
    {
     "data": {
      "text/plain": "               A          B          C          D\ncount   4.000000   4.000000   4.000000   4.000000\nmean   22.500000  22.000000  19.750000  24.250000\nstd     2.645751   3.651484   2.362908   2.061553\nmin    19.000000  18.000000  18.000000  22.000000\n25%    21.250000  19.500000  18.000000  23.500000\n50%    23.000000  22.000000  19.000000  24.000000\n75%    24.250000  24.500000  20.750000  24.750000\nmax    25.000000  26.000000  23.000000  27.000000",
      "text/html": "<div>\n<style scoped>\n    .dataframe tbody tr th:only-of-type {\n        vertical-align: middle;\n    }\n\n    .dataframe tbody tr th {\n        vertical-align: top;\n    }\n\n    .dataframe thead th {\n        text-align: right;\n    }\n</style>\n<table border=\"1\" class=\"dataframe\">\n  <thead>\n    <tr style=\"text-align: right;\">\n      <th></th>\n      <th>A</th>\n      <th>B</th>\n      <th>C</th>\n      <th>D</th>\n    </tr>\n  </thead>\n  <tbody>\n    <tr>\n      <th>count</th>\n      <td>4.000000</td>\n      <td>4.000000</td>\n      <td>4.000000</td>\n      <td>4.000000</td>\n    </tr>\n    <tr>\n      <th>mean</th>\n      <td>22.500000</td>\n      <td>22.000000</td>\n      <td>19.750000</td>\n      <td>24.250000</td>\n    </tr>\n    <tr>\n      <th>std</th>\n      <td>2.645751</td>\n      <td>3.651484</td>\n      <td>2.362908</td>\n      <td>2.061553</td>\n    </tr>\n    <tr>\n      <th>min</th>\n      <td>19.000000</td>\n      <td>18.000000</td>\n      <td>18.000000</td>\n      <td>22.000000</td>\n    </tr>\n    <tr>\n      <th>25%</th>\n      <td>21.250000</td>\n      <td>19.500000</td>\n      <td>18.000000</td>\n      <td>23.500000</td>\n    </tr>\n    <tr>\n      <th>50%</th>\n      <td>23.000000</td>\n      <td>22.000000</td>\n      <td>19.000000</td>\n      <td>24.000000</td>\n    </tr>\n    <tr>\n      <th>75%</th>\n      <td>24.250000</td>\n      <td>24.500000</td>\n      <td>20.750000</td>\n      <td>24.750000</td>\n    </tr>\n    <tr>\n      <th>max</th>\n      <td>25.000000</td>\n      <td>26.000000</td>\n      <td>23.000000</td>\n      <td>27.000000</td>\n    </tr>\n  </tbody>\n</table>\n</div>"
     },
     "execution_count": 11,
     "metadata": {},
     "output_type": "execute_result"
    }
   ],
   "source": [
    "# Definir variaveis\n",
    "A = [24, 19, 22, 25]\n",
    "B = [26, 24, 20, 18]\n",
    "C = [18, 18, 20, 23]\n",
    "D = [27, 24, 22, 24]\n",
    "\n",
    "# Definir dict\n",
    "all_values = {'A':A,\n",
    "              'B':B,\n",
    "              'C':C,\n",
    "              'D':D}\n",
    "\n",
    "# Criar DataFrame\n",
    "df = pd.DataFrame(all_values)\n",
    "\n",
    "df.describe()"
   ],
   "metadata": {
    "collapsed": false,
    "ExecuteTime": {
     "end_time": "2024-01-03T20:56:27.735832500Z",
     "start_time": "2024-01-03T20:56:27.682782400Z"
    }
   },
   "id": "42669cb8bb51f685",
   "execution_count": 11
  },
  {
   "cell_type": "markdown",
   "source": [
    "### **Resposta: ANOVA**"
   ],
   "metadata": {
    "collapsed": false
   },
   "id": "dc44540f3b752955"
  },
  {
   "cell_type": "markdown",
   "source": [
    "## A room  in a laboratory is only considered safe if the mean radiation level is 400 or less. When a sample of 10 radiation measurements were taken, the mean value of the radiation was 414 with a standard deviation of 17. There are concerns that mean radiation is above 414. Radiation levels in the lab are known to follow a normal distribution with standard deviation 22. We will like to conduct a hypothesis test at the 5% level of signiﬁcance to determine whether there is evidence that the laboratory is unsafe.\n",
    "\n",
    "What will be the appropriate test?"
   ],
   "metadata": {
    "collapsed": false
   },
   "id": "c81bd19bd126e5c7"
  },
  {
   "cell_type": "code",
   "outputs": [
    {
     "name": "stdout",
     "output_type": "stream",
     "text": [
      "O t-statistic é 37.243073, e o p-value é 3.597243997859854e-11\n"
     ]
    }
   ],
   "source": [
    "# Defenir variaveis \n",
    "sample_data = [414, 415, 413, 414, 416, 412, 415, 413, 414, 415]\n",
    "std_dev = 22\n",
    "\n",
    "# Calcular o test statistic e o p-value\n",
    "t_stat, p_value = stats.ttest_1samp(sample_data, mean) \n",
    "\n",
    "# Print os resultados\n",
    "print(f\"O t-statistic é {t_stat:3f}, e o p-value é {p_value:3}\")"
   ],
   "metadata": {
    "collapsed": false,
    "ExecuteTime": {
     "end_time": "2024-01-03T21:09:07.201054700Z",
     "start_time": "2024-01-03T21:09:07.190197500Z"
    }
   },
   "id": "4e78445640c68a93",
   "execution_count": 17
  },
  {
   "cell_type": "markdown",
   "source": [
    "## The mineral content of a particular brand of  supplement pills is normally distributed with mean 490 mg and variance of 400. What is the probability that a randomly selected pill contains at least 500 mg of minerals?"
   ],
   "metadata": {
    "collapsed": false
   },
   "id": "4b59df50c488b97e"
  },
  {
   "cell_type": "code",
   "outputs": [
    {
     "name": "stdout",
     "output_type": "stream",
     "text": [
      "A probabilidade de escolher um pirula de 500 mg aleatoriamente é de 0.3085375387259869\n"
     ]
    }
   ],
   "source": [
    "# Definir variaveis\n",
    "mean = 490\n",
    "variance = 400\n",
    "\n",
    "# Calcular o desvio padrão\n",
    "std_dev = math.sqrt(variance)\n",
    "\n",
    "# Definir o valor do evento\n",
    "event_value = 500\n",
    "\n",
    "# Calcular a probabilidade do evento\n",
    "prob = 1 - stats.norm(mean, std_dev).cdf(event_value)\n",
    "\n",
    "print(f\"A probabilidade de escolher um pirula de 500 mg aleatoriamente é de {prob}\")"
   ],
   "metadata": {
    "collapsed": false,
    "ExecuteTime": {
     "end_time": "2024-01-03T21:15:45.769033500Z",
     "start_time": "2024-01-03T21:15:45.745578400Z"
    }
   },
   "id": "99e48fa09a3e6f04",
   "execution_count": 23
  },
  {
   "cell_type": "markdown",
   "source": [
    "## The time X taken by a cashier in a grocery store express lane to complete a transaction follows a normal distribution with mean 90 seconds and standard deviation 20 seconds.What is the first quartile of the distribution of X (in seconds)?"
   ],
   "metadata": {
    "collapsed": false
   },
   "id": "1d5f19299f68c564"
  },
  {
   "cell_type": "code",
   "outputs": [
    {
     "name": "stdout",
     "output_type": "stream",
     "text": [
      "O primeiro quartil é 76.51020499607837 segundos.\n"
     ]
    }
   ],
   "source": [
    "# Definir a média e o desvio padrão\n",
    "mean = 90\n",
    "std_dev = 20\n",
    "\n",
    "# Calcular o primeiro quartil\n",
    "q1 = stats.norm(mean, std_dev).ppf(0.25)\n",
    "\n",
    "print(f\"O primeiro quartil é {q1} segundos.\")"
   ],
   "metadata": {
    "collapsed": false,
    "ExecuteTime": {
     "end_time": "2024-01-03T21:21:58.973874500Z",
     "start_time": "2024-01-03T21:21:58.954122800Z"
    }
   },
   "id": "61450a27a9ba1722",
   "execution_count": 25
  },
  {
   "cell_type": "markdown",
   "source": [
    "# The average hourly wage at a fast-food restaurant is 5.85 with a standard deviation of 0.35. Assume that the wages are normally distributed. The probability that a selected worker earns more than 6.90 is"
   ],
   "metadata": {
    "collapsed": false
   },
   "id": "d910ff57960c3dcb"
  },
  {
   "cell_type": "code",
   "outputs": [
    {
     "name": "stdout",
     "output_type": "stream",
     "text": [
      "A probabilidade de um funcionario aleatorio ganhar mais que $8.90 por hora é de 0.0013498980316301035\n"
     ]
    }
   ],
   "source": [
    "# Definir a média e o devio padrão\n",
    "mean = 5.85\n",
    "std_dev = 0.35\n",
    "\n",
    "# Definir o valor do evento\n",
    "event_value = 6.90\n",
    "\n",
    "# Calcular a probabilidade do evento acontecer\n",
    "prob = 1 - stats.norm(mean, std_dev).cdf(event_value)\n",
    "\n",
    "print(f\"A probabilidade de um funcionario aleatorio ganhar mais que $8.90 por hora é de {prob}\")"
   ],
   "metadata": {
    "collapsed": false,
    "ExecuteTime": {
     "end_time": "2024-01-03T21:26:39.920152800Z",
     "start_time": "2024-01-03T21:26:39.833977600Z"
    }
   },
   "id": "2bc8453351299373",
   "execution_count": 26
  }
 ],
 "metadata": {
  "kernelspec": {
   "display_name": "Python 3",
   "language": "python",
   "name": "python3"
  },
  "language_info": {
   "codemirror_mode": {
    "name": "ipython",
    "version": 2
   },
   "file_extension": ".py",
   "mimetype": "text/x-python",
   "name": "python",
   "nbconvert_exporter": "python",
   "pygments_lexer": "ipython2",
   "version": "2.7.6"
  }
 },
 "nbformat": 4,
 "nbformat_minor": 5
}
