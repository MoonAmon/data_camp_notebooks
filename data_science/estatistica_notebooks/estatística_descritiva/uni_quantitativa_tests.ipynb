{
 "cells": [
  {
   "cell_type": "code",
   "execution_count": 1,
   "id": "initial_id",
   "metadata": {
    "collapsed": true,
    "ExecuteTime": {
     "end_time": "2024-01-09T15:33:40.327004200Z",
     "start_time": "2024-01-09T15:33:38.263034900Z"
    }
   },
   "outputs": [],
   "source": [
    "import pandas as pd\n",
    "import matplotlib.pyplot as plt"
   ]
  },
  {
   "cell_type": "code",
   "outputs": [
    {
     "name": "stdout",
     "output_type": "stream",
     "text": [
      "<class 'pandas.core.frame.DataFrame'>\n",
      "RangeIndex: 6348 entries, 0 to 6347\n",
      "Data columns (total 35 columns):\n",
      " #   Column             Non-Null Count  Dtype  \n",
      "---  ------             --------------  -----  \n",
      " 0   Unnamed: 0         6348 non-null   int64  \n",
      " 1   album              6348 non-null   object \n",
      " 2   artists            6348 non-null   object \n",
      " 3   available_markets  6348 non-null   object \n",
      " 4   disc_number        6348 non-null   int64  \n",
      " 5   duration_ms_x      6348 non-null   int64  \n",
      " 6   explicit           6348 non-null   bool   \n",
      " 7   external_ids       6348 non-null   object \n",
      " 8   external_urls      6348 non-null   object \n",
      " 9   href               6348 non-null   object \n",
      " 10  id                 6348 non-null   object \n",
      " 11  is_local           6348 non-null   bool   \n",
      " 12  name               6348 non-null   object \n",
      " 13  popularity         6348 non-null   int64  \n",
      " 14  preview_url        4459 non-null   object \n",
      " 15  track_number       6348 non-null   int64  \n",
      " 16  type_x             6348 non-null   object \n",
      " 17  uri_x              6348 non-null   object \n",
      " 18  danceability       6348 non-null   float64\n",
      " 19  energy             6348 non-null   float64\n",
      " 20  key                6348 non-null   int64  \n",
      " 21  loudness           6348 non-null   float64\n",
      " 22  mode               6348 non-null   int64  \n",
      " 23  speechiness        6348 non-null   float64\n",
      " 24  acousticness       6348 non-null   float64\n",
      " 25  instrumentalness   6348 non-null   float64\n",
      " 26  liveness           6348 non-null   float64\n",
      " 27  valence            6348 non-null   float64\n",
      " 28  tempo              6348 non-null   float64\n",
      " 29  type_y             6348 non-null   object \n",
      " 30  uri_y              6348 non-null   object \n",
      " 31  track_href         6348 non-null   object \n",
      " 32  analysis_url       6348 non-null   object \n",
      " 33  duration_ms_y      6348 non-null   int64  \n",
      " 34  time_signature     6348 non-null   int64  \n",
      "dtypes: bool(2), float64(9), int64(9), object(15)\n",
      "memory usage: 1.6+ MB\n"
     ]
    }
   ],
   "source": [
    "df = pd.read_csv('datasets/2000_tracks_features.csv')\n",
    "df.info()"
   ],
   "metadata": {
    "collapsed": false,
    "ExecuteTime": {
     "end_time": "2024-01-09T15:34:01.604662100Z",
     "start_time": "2024-01-09T15:34:01.348090900Z"
    }
   },
   "id": "5cf44d01f473e6a7",
   "execution_count": 2
  },
  {
   "cell_type": "code",
   "outputs": [
    {
     "data": {
      "text/plain": "                                   name  danceability  energy  \\\n0                            Sentinelas         0.737   0.636   \n25                       Clint Eastwood         0.663   0.694   \n26                          Tarde Livre         0.629   0.622   \n30                        Snow (Hey Oh)         0.427   0.900   \n39                           Massarrara         0.552   0.910   \n...                                 ...           ...     ...   \n6343  i apologise if you feel something         0.211   0.361   \n6344                            Thunder         0.605   0.822   \n6345                      チンギスハンとヘップバーン         0.507   0.889   \n6346                            Mai tai         0.747   0.775   \n6347                               Fire         0.281   0.900   \n\n      instrumentalness  speechiness  loundness  \n0             0.000000       0.0264     -7.822  \n25            0.000000       0.1710     -8.627  \n26            0.000000       0.0292     -9.483  \n30            0.000017       0.0499     -3.674  \n39            0.000000       0.1740     -5.812  \n...                ...          ...        ...  \n6343          0.028400       0.0346    -10.247  \n6344          0.134000       0.0438     -4.833  \n6345          0.000000       0.1010     -3.796  \n6346          0.267000       0.1510     -4.682  \n6347          0.000002       0.0506     -3.148  \n\n[1170 rows x 6 columns]",
      "text/html": "<div>\n<style scoped>\n    .dataframe tbody tr th:only-of-type {\n        vertical-align: middle;\n    }\n\n    .dataframe tbody tr th {\n        vertical-align: top;\n    }\n\n    .dataframe thead th {\n        text-align: right;\n    }\n</style>\n<table border=\"1\" class=\"dataframe\">\n  <thead>\n    <tr style=\"text-align: right;\">\n      <th></th>\n      <th>name</th>\n      <th>danceability</th>\n      <th>energy</th>\n      <th>instrumentalness</th>\n      <th>speechiness</th>\n      <th>loundness</th>\n    </tr>\n  </thead>\n  <tbody>\n    <tr>\n      <th>0</th>\n      <td>Sentinelas</td>\n      <td>0.737</td>\n      <td>0.636</td>\n      <td>0.000000</td>\n      <td>0.0264</td>\n      <td>-7.822</td>\n    </tr>\n    <tr>\n      <th>25</th>\n      <td>Clint Eastwood</td>\n      <td>0.663</td>\n      <td>0.694</td>\n      <td>0.000000</td>\n      <td>0.1710</td>\n      <td>-8.627</td>\n    </tr>\n    <tr>\n      <th>26</th>\n      <td>Tarde Livre</td>\n      <td>0.629</td>\n      <td>0.622</td>\n      <td>0.000000</td>\n      <td>0.0292</td>\n      <td>-9.483</td>\n    </tr>\n    <tr>\n      <th>30</th>\n      <td>Snow (Hey Oh)</td>\n      <td>0.427</td>\n      <td>0.900</td>\n      <td>0.000017</td>\n      <td>0.0499</td>\n      <td>-3.674</td>\n    </tr>\n    <tr>\n      <th>39</th>\n      <td>Massarrara</td>\n      <td>0.552</td>\n      <td>0.910</td>\n      <td>0.000000</td>\n      <td>0.1740</td>\n      <td>-5.812</td>\n    </tr>\n    <tr>\n      <th>...</th>\n      <td>...</td>\n      <td>...</td>\n      <td>...</td>\n      <td>...</td>\n      <td>...</td>\n      <td>...</td>\n    </tr>\n    <tr>\n      <th>6343</th>\n      <td>i apologise if you feel something</td>\n      <td>0.211</td>\n      <td>0.361</td>\n      <td>0.028400</td>\n      <td>0.0346</td>\n      <td>-10.247</td>\n    </tr>\n    <tr>\n      <th>6344</th>\n      <td>Thunder</td>\n      <td>0.605</td>\n      <td>0.822</td>\n      <td>0.134000</td>\n      <td>0.0438</td>\n      <td>-4.833</td>\n    </tr>\n    <tr>\n      <th>6345</th>\n      <td>チンギスハンとヘップバーン</td>\n      <td>0.507</td>\n      <td>0.889</td>\n      <td>0.000000</td>\n      <td>0.1010</td>\n      <td>-3.796</td>\n    </tr>\n    <tr>\n      <th>6346</th>\n      <td>Mai tai</td>\n      <td>0.747</td>\n      <td>0.775</td>\n      <td>0.267000</td>\n      <td>0.1510</td>\n      <td>-4.682</td>\n    </tr>\n    <tr>\n      <th>6347</th>\n      <td>Fire</td>\n      <td>0.281</td>\n      <td>0.900</td>\n      <td>0.000002</td>\n      <td>0.0506</td>\n      <td>-3.148</td>\n    </tr>\n  </tbody>\n</table>\n<p>1170 rows × 6 columns</p>\n</div>"
     },
     "execution_count": 15,
     "metadata": {},
     "output_type": "execute_result"
    }
   ],
   "source": [
    "# Separando valores para analise\n",
    "df_tests = dict()\n",
    "df_tests['name'] = df['name']\n",
    "df_tests['danceability'] = df['danceability']\n",
    "df_tests['energy'] = df['energy']\n",
    "df_tests['instrumentalness'] = df['instrumentalness']\n",
    "df_tests['speechiness'] = df['speechiness']\n",
    "df_tests['loundness'] = df['loudness']\n",
    "df_tests = pd.DataFrame(df_tests)\n",
    "\n",
    "# Drop duplicatas\n",
    "df_tests = df_tests.drop_duplicates()\n",
    "\n",
    "df_tests"
   ],
   "metadata": {
    "collapsed": false,
    "ExecuteTime": {
     "end_time": "2024-01-09T15:43:19.593140100Z",
     "start_time": "2024-01-09T15:43:19.550390300Z"
    }
   },
   "id": "704d2241b6f3d038",
   "execution_count": 15
  },
  {
   "cell_type": "code",
   "outputs": [
    {
     "name": "stdout",
     "output_type": "stream",
     "text": [
      "Valor mín: 0.0231 Valor máx: 0.998\n"
     ]
    }
   ],
   "source": [
    "# Valores mínimos e máximos de energy\n",
    "print(f\"Valor mín: {df_tests['energy'].min()} Valor máx: {df_tests['energy'].max()}\")"
   ],
   "metadata": {
    "collapsed": false,
    "ExecuteTime": {
     "end_time": "2024-01-09T15:50:30.487026800Z",
     "start_time": "2024-01-09T15:50:30.454287Z"
    }
   },
   "id": "e41117e47c20a01b",
   "execution_count": 17
  },
  {
   "cell_type": "code",
   "outputs": [
    {
     "name": "stdout",
     "output_type": "stream",
     "text": [
      "<class 'pandas.core.series.Series'>\n",
      "CategoricalIndex: 10 entries, (0.8, 0.9] to (0.0, 0.1]\n",
      "Series name: count\n",
      "Non-Null Count  Dtype\n",
      "--------------  -----\n",
      "10 non-null     int64\n",
      "dtypes: int64(1)\n",
      "memory usage: 550.0 bytes\n"
     ]
    }
   ],
   "source": [
    "# Separar as classes\n",
    "bins = [0, 0.1, 0.2, 0.3, 0.4, 0.5, 0.6, 0.7, 0.8, 0.9, 1]\n",
    "\n",
    "# Criar a coluna de classes\n",
    "df_tests['energy_class'] = pd.cut(df_tests['energy'], bins=bins)\n",
    "\n",
    "# Criar dataframe com as classes e as músicas\n",
    "df_energy = df_tests[['name','energy_class']]\n",
    "\n",
    "# Criar contagem das classes\n",
    "df_energy = df_energy['energy_class'].value_counts()\n",
    "\n",
    "df_energy"
   ],
   "metadata": {
    "collapsed": false,
    "ExecuteTime": {
     "end_time": "2024-01-09T16:18:24.317170200Z",
     "start_time": "2024-01-09T16:18:24.285662400Z"
    }
   },
   "id": "e249913d87965aee",
   "execution_count": 35
  },
  {
   "cell_type": "code",
   "outputs": [
    {
     "data": {
      "text/plain": "<Figure size 640x480 with 1 Axes>",
      "image/png": "[encoded data removed]"
     },
     "metadata": {},
     "output_type": "display_data"
    }
   ],
   "source": [
    "plt.bar(df_energy.index.astype(str), df_energy.values)\n",
    "plt.grid(True)\n",
    "plt.show()"
   ],
   "metadata": {
    "collapsed": false,
    "ExecuteTime": {
     "end_time": "2024-01-09T16:22:18.941176100Z",
     "start_time": "2024-01-09T16:22:18.715857200Z"
    }
   },
   "id": "e05d450bdc6d76f5",
   "execution_count": 46
  }
 ],
 "metadata": {
  "kernelspec": {
   "display_name": "Python 3",
   "language": "python",
   "name": "python3"
  },
  "language_info": {
   "codemirror_mode": {
    "name": "ipython",
    "version": 2
   },
   "file_extension": ".py",
   "mimetype": "text/x-python",
   "name": "python",
   "nbconvert_exporter": "python",
   "pygments_lexer": "ipython2",
   "version": "2.7.6"
  }
 },
 "nbformat": 4,
 "nbformat_minor": 5
}
