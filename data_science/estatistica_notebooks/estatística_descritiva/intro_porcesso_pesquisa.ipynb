{
 "cells": [
  {
   "cell_type": "markdown",
   "metadata": {},
   "source": [
    "# Introdução ao Processo de Pesquisa"
   ]
  },
  {
   "cell_type": "markdown",
   "metadata": {},
   "source": [
    "## Por que pesquisamos?\n",
    "\n",
    "Desejamos repsonder questões interessantes sobre o mundo.\n",
    "\n",
    "## Etapas da Pesquisa\n",
    "\n",
    "1. Leia a literatura relevante\n",
    "2. Gere uma ideia de pesquisa\n",
    "3. Gere uma hipótese de pesquisa\n",
    "4. Faça o delineamento do estudo\n",
    "5. Realize o estudo\n",
    "6. Analise os dados\n",
    "7. Decida sobre a veracidade da resposta\n",
    "\n",
    "## O que é a Estatística?\n",
    "\n",
    "Ciência que tem por objetivo a **coleta, análise e interpretação de dados qualitativos e quantitativos.**\n",
    "\n",
    "- Estatística Descritiva\n",
    "- Estatística Probabilística\n",
    "- Estatística Inferencial\n",
    "\n",
    "## Por que estudar Estatística?\n",
    "\n",
    "- Análise crítica\n",
    "- Independência\n",
    "- Análise estatística\n",
    "\n"
   ]
  }
 ],
 "metadata": {
  "language_info": {
   "name": "python"
  }
 },
 "nbformat": 4,
 "nbformat_minor": 2
}
