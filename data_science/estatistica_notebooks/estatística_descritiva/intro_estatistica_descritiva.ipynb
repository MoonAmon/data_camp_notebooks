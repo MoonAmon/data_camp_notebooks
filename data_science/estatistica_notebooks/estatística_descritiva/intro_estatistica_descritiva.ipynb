{
 "cells": [
  {
   "cell_type": "markdown",
   "source": [
    "# Estatística Descritiva"
   ],
   "metadata": {
    "collapsed": false
   },
   "id": "e3e617f4d8d6b19a"
  },
  {
   "cell_type": "markdown",
   "source": [
    "## O que é a Estatística Descritiva?\n",
    "\n",
    "Organizar, resumir e apresentar os dados (tabelas, gráficos e medidas-resumo).\n",
    "- Não há conclusões nesta etapa\n",
    "- Observar determinados aspectos relevantes e começar a delinear hipóteses\n"
   ],
   "metadata": {
    "collapsed": false
   },
   "id": "5d247f2fb2a2d53f"
  },
  {
   "cell_type": "markdown",
   "source": [
    "## Grupos\n",
    "\n",
    "- Univariada\n",
    "- Bivariada\n",
    "- Multivariada\n",
    "\n",
    "## Univariada\n",
    "\n"
   ],
   "metadata": {
    "collapsed": false
   },
   "id": "b6dd57ce55057a32"
  }
 ],
 "metadata": {
  "kernelspec": {
   "display_name": "Python 3",
   "language": "python",
   "name": "python3"
  },
  "language_info": {
   "codemirror_mode": {
    "name": "ipython",
    "version": 2
   },
   "file_extension": ".py",
   "mimetype": "text/x-python",
   "name": "python",
   "nbconvert_exporter": "python",
   "pygments_lexer": "ipython2",
   "version": "2.7.6"
  }
 },
 "nbformat": 4,
 "nbformat_minor": 5
}
