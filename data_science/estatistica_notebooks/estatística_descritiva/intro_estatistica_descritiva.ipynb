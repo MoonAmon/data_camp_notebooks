{
 "cells": [
  {
   "cell_type": "markdown",
   "id": "e3e617f4d8d6b19a",
   "metadata": {
    "collapsed": false
   },
   "source": [
    "# Estatística Descritiva"
   ]
  },
  {
   "cell_type": "markdown",
   "id": "5d247f2fb2a2d53f",
   "metadata": {
    "collapsed": false
   },
   "source": [
    "## O que é a Estatística Descritiva?\n",
    "\n",
    "Organizar, resumir e apresentar os dados (tabelas, gráficos e medidas-resumo).\n",
    "- Não há conclusões nesta etapa\n",
    "- Observar determinados aspectos relevantes e começar a delinear hipóteses\n"
   ]
  },
  {
   "cell_type": "markdown",
   "id": "f716d849",
   "metadata": {},
   "source": [
    "## Variável\n",
    "\n",
    "Conceitos que foram mensurados de alguma forma\n",
    "\n",
    "- Característica de uma população (amostra) em estudo, possível de ser medida, contada ou categorizada.\n",
    "- Assumem diferentes valores, dependendo da pessoa, situação ou tempo.\n",
    "- Um e apenas um resultado por respondente.\n",
    "\n",
    "## Tipos\n",
    "\n",
    "- Qualitativa\n",
    "\n",
    "Representam características de indivíduo, objeto ou elemento que não podem ser medidas ou quantificadas. As respostas são dadas em categorias.\n",
    "\n",
    "- Quantitativa\n",
    "\n",
    "Representam características de um indivíduo, objeto ou elemento resultantes de uma contagem (conjunto finito de valores) ou de uma mensuração (conjunto infinito de valores). São, em geral, mais informativas do que as qualitativas.\n",
    "\n",
    "### Qualitativas\n",
    "\n",
    "- **Nominal**\n",
    "\n",
    "Classifica as unidades em **classes** ou **categorias** em relação à característica representada, **não** estabelecendo qualquer relação de **grandeza** ou **ordem**. **Não há hierarquia**\n",
    "\n",
    "*Exemplos: sexo, cor dos olhos, fumante/não fumante, doente/sadio*\n",
    "\n",
    "- **Ordinal**\n",
    "\n",
    "Classifica as unidades em **classes** ou **categorias** em relação à característica representada, estabelecendo qualquer relação de **grandeza** ou de **ordem**, mas **não** há **intervalos iguais entre pontos adjacentes** na escala.\n",
    "\n",
    "*Exemplos: avaliação do atendimento, grau de escolaridade, classe social, faixa etária*\n",
    "\n",
    "### Quantitativas\n",
    "\n",
    "- **Intervalar**\n",
    "\n",
    "**Ordena** as unidades quanto à característica mensurada e a **diferença entre pontos adjacentes é igual**, mas **não tem um ponto zero** (origem).\n",
    "\n",
    "*Exemplos: temperatura, altitude, QI, ano censitário*\n",
    "\n",
    "- **Razão**\n",
    "\n",
    "**Ordena** as unidades quanto à característica mesurada e a **diferença entre pontos adjacentes é igual**, **tem um ponto zero** (origem) e o zero expressa a ausência de quantidade. É possível calcular a **razão**.\n",
    "\n",
    "*Exemplos: n° de sintomas de uma doença, renda, idade, distância percorrida*\n",
    "\n",
    "## Número de Categorias e Escalas de Precisão\n",
    "\n",
    "- Qualitativas\n",
    "\n",
    "2: Dicotômica ou Binária\n",
    "3 ou +: Policotônica\n",
    "\n",
    "- Quantitativas\n",
    "\n",
    "Discreta: Contagem de números inteiros *Exemplo: número de..., sintomas, alunos, casas*\n",
    "Contínua: Números decimais *Exemplo: peso, altura, temperatura...*\n"
   ]
  },
  {
   "cell_type": "markdown",
   "id": "b6dd57ce55057a32",
   "metadata": {
    "collapsed": false
   },
   "source": [
    "## Grupos\n",
    "\n",
    "- Univariada\n",
    "- Bivariada\n",
    "- Multivariada\n"
   ]
  },
  {
   "cell_type": "markdown",
   "id": "a5d49150",
   "metadata": {},
   "source": [
    "\n",
    "## Univariada Qualitativa - Tabalas e Gráficos\n",
    "\n",
    "### **Tabela de Distribuição de Frequências**\n",
    "\n",
    "![Tabela de Distribuição de Frequências](img/tabela_distribuicao.png)\n",
    "\n",
    "- Frequência absoluta\n",
    "- Frequência relativa\n",
    "- Frequência acumulada\n",
    "- Frequência relativa acumulada\n",
    "\n",
    "### *Gráfico de Barras*\n",
    "\n",
    "- Representa, por meio de barras, as frequências absolutas ou realativa de cada possível categoria.\n",
    "- Cada entidade da variável categórica é representada como uma barra.\n",
    "- O tamanho da barra representa seu valor numérico.\n",
    "\n",
    "#### Barras Horizontais\n",
    "\n",
    "Muito usadas quando os nomes das categorias são extensos.\n",
    "\n",
    "#### Barras Verticais\n",
    "\n",
    "Muitos usadas com variáveis ordinais.\n",
    "\n",
    "### *Gráfico de Setores (Pizza)*\n",
    "\n",
    "- Representa as frenquências relativas de cada possível categoria.\n",
    "- É frequentemente usado para mostrar porcentagem, em que a soma dos setores é igual a 100%.\n"
   ]
  },
  {
   "cell_type": "markdown",
   "id": "7f0ad306",
   "metadata": {},
   "source": [
    "## Univariada Quantitativa\n",
    "\n",
    "### Tabela de Distribuição de Frequências\n",
    "\n",
    "- Podemos construir distribuições de frequências agrupando resultados em classes pré-estabelecidas.\n",
    "- As classes são mutuamente exclusivas;\n",
    "- Todo valor observado deve pertencer a uma e apenas uma classe.\n",
    "\n",
    "1. Ordenação\n",
    "\n",
    "- O número de classes a ser usada é uma escolha arbitrária.\n",
    "- Maior o conjunto de dados, mais classes podem ser usadas.\n",
    "- Em geral, são usadas de 5 a 20 classes.\n",
    "- Usar, aproximadamente, raiz quadrada (n) classes, em que n é a quantidade de valores.\n",
    "\n",
    "### Gráficos\n",
    "\n",
    "#### Histograma\n",
    "\n",
    "- São retângulos justapostos, feitos sobre as classes da variável em estudo.\n",
    "- A altura de cada retângulo é proporcional à frequência (absoluta, relativa ou acumulada) observada da correspondente classe.\n",
    "- Permite identificar a distribuição e a frequência dos dados.\n",
    "- As barras dos histogramas são normalmente chamados de \"bins\".\n",
    "- Tente vários tamanhos de bins, isso pode levar a conclusões diferentes.\n",
    "\n",
    "#### Gráficos de Densidade\n",
    "\n",
    "- Representação da distribuição de uma variável numérica.\n",
    "- É uma versão suavizada do histograma e é usada no mesmo conceito.\n",
    "\n",
    "#### Boxplot\n",
    "\n",
    "#### Linha\n",
    "\n",
    "- Mostra a evolução ou tendência dos dados de uma variável quantitativa, geralmente contínua, em intervalos regulares.\n",
    "- Muito comum em análises de séries temporais.\n",
    "\n"
   ]
  }
 ],
 "metadata": {
  "kernelspec": {
   "display_name": "Python 3",
   "language": "python",
   "name": "python3"
  },
  "language_info": {
   "codemirror_mode": {
    "name": "ipython",
    "version": 2
   },
   "file_extension": ".py",
   "mimetype": "text/x-python",
   "name": "python",
   "nbconvert_exporter": "python",
   "pygments_lexer": "ipython2",
   "version": "2.7.6"
  }
 },
 "nbformat": 4,
 "nbformat_minor": 5
}
