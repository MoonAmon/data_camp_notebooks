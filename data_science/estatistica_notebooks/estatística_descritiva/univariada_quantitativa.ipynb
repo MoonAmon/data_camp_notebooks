{
 "cells": [
  {
   "cell_type": "markdown",
   "source": [
    "# Estatística Descritiva Univariada Quantitativa"
   ],
   "metadata": {
    "collapsed": false
   },
   "id": "f09e24a20a33746c"
  },
  {
   "cell_type": "markdown",
   "source": [
    "## Medidas-resumo\n",
    "\n",
    "- Posição\n",
    "    - Tendência Central\n",
    "        - Média\n",
    "        - Moda\n",
    "        - Mediana  \n",
    "    - Separatrizes\n",
    "        - Quartis\n",
    "        - Decis\n",
    "        - Percentis  \n",
    "- Dispersão\n",
    "    - Amplitude\n",
    "    - Desvio-médio Absoluto\n",
    "    - Variância  \n",
    "    - Desvio-padrão\n",
    "    - Coeficiente de Variação\n",
    "- Forma\n",
    "\n",
    "### Posição\n",
    "\n",
    "#### Tendência Central\n",
    "\n",
    "- Média Simples\n",
    "\n",
    "Soma dos valores dividida pelo número de valores observados (n).\n",
    "\n",
    "## $ \\bar{X} = \\frac{\\sum_{i=1}^{n} X_i}{n} $\n",
    "\n",
    "*A média é um rseumo dos dados e, por isso, pode esconder informações relevantes.*\n",
    "\n",
    "- Média Ponderada\n",
    "\n",
    "A ponderação é feita sempre que precisamos dar mais importância a um caso do que a outro (atribuir pesos diferentes).\n",
    "\n",
    "## $ \\bar{X} = \\frac{ \\sum_{i=1}^{n} X_i \\times p_i}{ \\sum_{i=1}^{n} p_i } $\n",
    "\n",
    "A média resume o conjunto de dados em termos de uma posição central, mas, em geral, não fornece informação sobre outros aspectos da distribuição.\n",
    "Para melhorar o resumo dos dados, podemos apresentar, ao lado da média aritmética, uma medida de dispersão, como a variância ou o desvio padrão. \n",
    "A média aritmética é fortemente influenciada por valores discrepantes.\n",
    "\n",
    "- Mediana\n",
    "\n",
    "Medida de localização do centro da distribuição de um conjunto de dados **ordenados** de forma crescente. \n",
    "Seu valor separa a série em duas partes iguais, de modo que 50% dos elementos são menores ou iguais à mediana e os outros 50% são maiores ou iguais à mediana.\n",
    "\n",
    "1. Ordenação\n",
    "\n",
    "Se for impar:\n",
    "Mediana é o ponto central, do valores ordenados\n",
    "\n",
    "Se for par:\n",
    "Calcular o ponto central com os dois números centrais somando a média dos valores\n",
    "\n",
    "- Moda\n",
    "\n",
    "Corresponde à observação que ocorre com maior frequência. \n",
    "A moda é a única medida de posição que também pode ser utilizada para variáveis qualitativas.\n",
    "\n",
    "### Observações\n",
    "\n",
    "**- Média: Indicada quando não há valores extremos nos dados.**\n",
    "**- Mediana:**\n",
    "**- Moda:**\n"
   ],
   "metadata": {
    "collapsed": false
   },
   "id": "11fd4cef5e46be71"
  },
  {
   "cell_type": "markdown",
   "source": [
    "\n",
    "**- Medidas de tendência central:** afetadas por valores extremos e, apenas com o uso destas medidas, não é possível que o pesquisador tenha uma ideia clara de como a dispersão e simetria dos dados se comportam.\n",
    "**- Alternativa:** medidas separatrizes, como quartis, decis e percentis."
   ],
   "metadata": {
    "collapsed": false
   },
   "id": "d59dc0d46410f5ff"
  },
  {
   "cell_type": "markdown",
   "source": [
    "### Medidas Separatrizes\n"
   ],
   "metadata": {
    "collapsed": false
   },
   "id": "2271fd29811f3906"
  },
  {
   "cell_type": "markdown",
   "source": [
    "### Disperção\n",
    "\n",
    "- Amplitude\n",
    "\n",
    "Medida mais simples, representa a diferença entre o maior e o menor valor do conjunto de observações.\n",
    "\n",
    "## $ A = X_{máx} - X_{mín} $\n",
    "\n",
    "*Não informa como os valores variam entre as extremidades.*\n",
    "\n",
    "- Desvio-médio Absoluto\n",
    "\n",
    "Desvio: diferença entre cada valor observado e a média da variável.\n",
    "Desvio-médio absoluto: média aritmética dos desvios absolutos.\n",
    "\n",
    "## $ D_m = \\frac{\\sum_{i=1}^{n} |X_i - X|}{n} $\n",
    "\n",
    "- Variância\n",
    "\n",
    "Avalia o quanto os dados estão dispersos em relação à média aritmética.\n",
    "Quanto maior a variância, maior a dispersão dos dados.\n",
    "\n",
    "## $ S^2 = \\frac{\\sum_{i=1}^{n} (X_i - X)^2}{n - 1} $\n",
    "\n",
    "*média amostral*\n",
    "*O valor tende a ser muito grande e de difícil interpretação.*\n",
    "\n",
    "- Desvio-padrão\n",
    "\n",
    "Raiz quadrada da variância, fornece o resultado na mesma ordem de grandeza da variável.\n",
    "\n",
    "## $ S = \\sqrt{S^2} $\n",
    "\n",
    "- Coeficiente de Variação\n",
    "\n",
    "Medida de dispersão relativa que fornece a variação dos dados em relação à média.\n",
    "Quanto menor for o seu valor, mais homogêneos serão os dados (menor a dispersão em torno da média).\n",
    "\n",
    "## $ CV = \\frac{S}{\\bar{X}} \\times 100(\\%) $\n",
    "\n",
    "Por ser adimensional, permite a comparação de variáveis com unidades diferentes.\n",
    "\n",
    "**CV < 30%:** conjunto de dados razoavelmente homogêneos;\n",
    "**CV > 30%:** conjunto de dados pode ser considerado heterogêneo."
   ],
   "metadata": {
    "collapsed": false
   },
   "id": "da62bf0c5f22a4a7"
  },
  {
   "cell_type": "markdown",
   "source": [],
   "metadata": {
    "collapsed": false
   },
   "id": "bffe76a5087d163"
  }
 ],
 "metadata": {
  "kernelspec": {
   "display_name": "Python 3",
   "language": "python",
   "name": "python3"
  },
  "language_info": {
   "codemirror_mode": {
    "name": "ipython",
    "version": 2
   },
   "file_extension": ".py",
   "mimetype": "text/x-python",
   "name": "python",
   "nbconvert_exporter": "python",
   "pygments_lexer": "ipython2",
   "version": "2.7.6"
  }
 },
 "nbformat": 4,
 "nbformat_minor": 5
}
