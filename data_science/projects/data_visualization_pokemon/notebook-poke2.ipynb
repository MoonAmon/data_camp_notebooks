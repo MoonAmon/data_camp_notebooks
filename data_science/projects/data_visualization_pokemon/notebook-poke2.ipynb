{
 "cells": [
  {
   "cell_type": "markdown",
   "source": [
    "# Getting the Data\n"
   ],
   "metadata": {
    "collapsed": false
   },
   "id": "7a95ecb406cbe880"
  },
  {
   "cell_type": "code",
   "execution_count": 48,
   "id": "initial_id",
   "metadata": {
    "collapsed": true,
    "ExecuteTime": {
     "end_time": "2023-08-29T02:04:51.797213100Z",
     "start_time": "2023-08-29T02:04:51.781144400Z"
    }
   },
   "outputs": [],
   "source": [
    "import pokebase as pb\n",
    "import pandas as pd\n",
    "import numpy as np"
   ]
  },
  {
   "cell_type": "code",
   "execution_count": 35,
   "outputs": [
    {
     "ename": "HTTPError",
     "evalue": "404 Client Error: Not Found for url: https://pokeapi.co/api/v2/location/21/",
     "output_type": "error",
     "traceback": [
      "\u001B[1;31m---------------------------------------------------------------------------\u001B[0m",
      "\u001B[1;31mHTTPError\u001B[0m                                 Traceback (most recent call last)",
      "Cell \u001B[1;32mIn[35], line 14\u001B[0m\n\u001B[0;32m     11\u001B[0m game_list \u001B[38;5;241m=\u001B[39m []\n\u001B[0;32m     13\u001B[0m \u001B[38;5;28;01mfor\u001B[39;00m loc \u001B[38;5;129;01min\u001B[39;00m \u001B[38;5;28mrange\u001B[39m(\u001B[38;5;241m120\u001B[39m):\n\u001B[1;32m---> 14\u001B[0m     temp \u001B[38;5;241m=\u001B[39m \u001B[43mpb\u001B[49m\u001B[38;5;241;43m.\u001B[39;49m\u001B[43mlocation\u001B[49m\u001B[43m(\u001B[49m\u001B[43mloc\u001B[49m\u001B[43m \u001B[49m\u001B[38;5;241;43m+\u001B[39;49m\u001B[43m \u001B[49m\u001B[38;5;241;43m1\u001B[39;49m\u001B[43m)\u001B[49m\n\u001B[0;32m     15\u001B[0m     names_list\u001B[38;5;241m.\u001B[39mappend(temp\u001B[38;5;241m.\u001B[39mname)\n\u001B[0;32m     16\u001B[0m     region_list\u001B[38;5;241m.\u001B[39mappend(temp\u001B[38;5;241m.\u001B[39mregion)\n",
      "File \u001B[1;32m~\\OneDrive\\Área de Trabalho\\repoGit\\data_camp_notebooks\\venv\\Lib\\site-packages\\pokebase\\loaders.py:323\u001B[0m, in \u001B[0;36mlocation\u001B[1;34m(id_, **kwargs)\u001B[0m\n\u001B[0;32m    314\u001B[0m \u001B[38;5;28;01mdef\u001B[39;00m \u001B[38;5;21mlocation\u001B[39m(id_, \u001B[38;5;241m*\u001B[39m\u001B[38;5;241m*\u001B[39mkwargs):\n\u001B[0;32m    315\u001B[0m \u001B[38;5;250m    \u001B[39m\u001B[38;5;124;03m\"\"\"Quick location lookup.\u001B[39;00m\n\u001B[0;32m    316\u001B[0m \n\u001B[0;32m    317\u001B[0m \u001B[38;5;124;03m    See https://pokeapi.co/docsv2/#locations for attributes and more detailed\u001B[39;00m\n\u001B[1;32m   (...)\u001B[0m\n\u001B[0;32m    321\u001B[0m \u001B[38;5;124;03m    :return: NamedAPIResource with the appropriate data\u001B[39;00m\n\u001B[0;32m    322\u001B[0m \u001B[38;5;124;03m    \"\"\"\u001B[39;00m\n\u001B[1;32m--> 323\u001B[0m     \u001B[38;5;28;01mreturn\u001B[39;00m \u001B[43mAPIResource\u001B[49m\u001B[43m(\u001B[49m\u001B[38;5;124;43m'\u001B[39;49m\u001B[38;5;124;43mlocation\u001B[39;49m\u001B[38;5;124;43m'\u001B[39;49m\u001B[43m,\u001B[49m\u001B[43m \u001B[49m\u001B[43mid_\u001B[49m\u001B[43m,\u001B[49m\u001B[43m \u001B[49m\u001B[38;5;241;43m*\u001B[39;49m\u001B[38;5;241;43m*\u001B[39;49m\u001B[43mkwargs\u001B[49m\u001B[43m)\u001B[49m\n",
      "File \u001B[1;32m~\\OneDrive\\Área de Trabalho\\repoGit\\data_camp_notebooks\\venv\\Lib\\site-packages\\pokebase\\interface.py:99\u001B[0m, in \u001B[0;36mAPIResource.__init__\u001B[1;34m(self, endpoint, name_or_id, lazy_load, force_lookup)\u001B[0m\n\u001B[0;32m     96\u001B[0m \u001B[38;5;28mself\u001B[39m\u001B[38;5;241m.\u001B[39m__force_lookup \u001B[38;5;241m=\u001B[39m force_lookup\n\u001B[0;32m     98\u001B[0m \u001B[38;5;28;01mif\u001B[39;00m \u001B[38;5;129;01mnot\u001B[39;00m lazy_load:\n\u001B[1;32m---> 99\u001B[0m     \u001B[38;5;28;43mself\u001B[39;49m\u001B[38;5;241;43m.\u001B[39;49m\u001B[43m_load\u001B[49m\u001B[43m(\u001B[49m\u001B[43m)\u001B[49m\n\u001B[0;32m    100\u001B[0m     \u001B[38;5;28mself\u001B[39m\u001B[38;5;241m.\u001B[39m__loaded \u001B[38;5;241m=\u001B[39m \u001B[38;5;28;01mTrue\u001B[39;00m\n",
      "File \u001B[1;32m~\\OneDrive\\Área de Trabalho\\repoGit\\data_camp_notebooks\\venv\\Lib\\site-packages\\pokebase\\interface.py:136\u001B[0m, in \u001B[0;36mAPIResource._load\u001B[1;34m(self)\u001B[0m\n\u001B[0;32m    126\u001B[0m \u001B[38;5;28;01mdef\u001B[39;00m \u001B[38;5;21m_load\u001B[39m(\u001B[38;5;28mself\u001B[39m):\n\u001B[0;32m    127\u001B[0m \u001B[38;5;250m    \u001B[39m\u001B[38;5;124;03m\"\"\"Function to collect reference data and connect it to the instance as\u001B[39;00m\n\u001B[0;32m    128\u001B[0m \u001B[38;5;124;03m     attributes.\u001B[39;00m\n\u001B[0;32m    129\u001B[0m \n\u001B[1;32m   (...)\u001B[0m\n\u001B[0;32m    133\u001B[0m \u001B[38;5;124;03m    :return None\u001B[39;00m\n\u001B[0;32m    134\u001B[0m \u001B[38;5;124;03m    \"\"\"\u001B[39;00m\n\u001B[1;32m--> 136\u001B[0m     data \u001B[38;5;241m=\u001B[39m \u001B[43mget_data\u001B[49m\u001B[43m(\u001B[49m\u001B[38;5;28;43mself\u001B[39;49m\u001B[38;5;241;43m.\u001B[39;49m\u001B[43mendpoint\u001B[49m\u001B[43m,\u001B[49m\u001B[43m \u001B[49m\u001B[38;5;28;43mself\u001B[39;49m\u001B[38;5;241;43m.\u001B[39;49m\u001B[43mid_\u001B[49m\u001B[43m,\u001B[49m\u001B[43m \u001B[49m\u001B[43mforce_lookup\u001B[49m\u001B[38;5;241;43m=\u001B[39;49m\u001B[38;5;28;43mself\u001B[39;49m\u001B[38;5;241;43m.\u001B[39;49m\u001B[43m__force_lookup\u001B[49m\u001B[43m)\u001B[49m\n\u001B[0;32m    138\u001B[0m     \u001B[38;5;66;03m# Make our custom objects from the data.\u001B[39;00m\n\u001B[0;32m    139\u001B[0m     \u001B[38;5;28;01mfor\u001B[39;00m key, val \u001B[38;5;129;01min\u001B[39;00m data\u001B[38;5;241m.\u001B[39mitems():\n",
      "File \u001B[1;32m~\\OneDrive\\Área de Trabalho\\repoGit\\data_camp_notebooks\\venv\\Lib\\site-packages\\pokebase\\api.py:43\u001B[0m, in \u001B[0;36mget_data\u001B[1;34m(endpoint, resource_id, subresource, **kwargs)\u001B[0m\n\u001B[0;32m     40\u001B[0m     \u001B[38;5;28;01mexcept\u001B[39;00m \u001B[38;5;167;01mKeyError\u001B[39;00m:\n\u001B[0;32m     41\u001B[0m         \u001B[38;5;28;01mpass\u001B[39;00m\n\u001B[1;32m---> 43\u001B[0m data \u001B[38;5;241m=\u001B[39m \u001B[43m_call_api\u001B[49m\u001B[43m(\u001B[49m\u001B[43mendpoint\u001B[49m\u001B[43m,\u001B[49m\u001B[43m \u001B[49m\u001B[43mresource_id\u001B[49m\u001B[43m,\u001B[49m\u001B[43m \u001B[49m\u001B[43msubresource\u001B[49m\u001B[43m)\u001B[49m\n\u001B[0;32m     44\u001B[0m save(data, endpoint, resource_id, subresource)\n\u001B[0;32m     46\u001B[0m \u001B[38;5;28;01mreturn\u001B[39;00m data\n",
      "File \u001B[1;32m~\\OneDrive\\Área de Trabalho\\repoGit\\data_camp_notebooks\\venv\\Lib\\site-packages\\pokebase\\api.py:17\u001B[0m, in \u001B[0;36m_call_api\u001B[1;34m(endpoint, resource_id, subresource)\u001B[0m\n\u001B[0;32m     14\u001B[0m get_endpoint_list \u001B[38;5;241m=\u001B[39m resource_id \u001B[38;5;129;01mis\u001B[39;00m \u001B[38;5;28;01mNone\u001B[39;00m\n\u001B[0;32m     16\u001B[0m response \u001B[38;5;241m=\u001B[39m requests\u001B[38;5;241m.\u001B[39mget(url)\n\u001B[1;32m---> 17\u001B[0m \u001B[43mresponse\u001B[49m\u001B[38;5;241;43m.\u001B[39;49m\u001B[43mraise_for_status\u001B[49m\u001B[43m(\u001B[49m\u001B[43m)\u001B[49m\n\u001B[0;32m     19\u001B[0m data \u001B[38;5;241m=\u001B[39m response\u001B[38;5;241m.\u001B[39mjson()\n\u001B[0;32m     21\u001B[0m \u001B[38;5;28;01mif\u001B[39;00m get_endpoint_list \u001B[38;5;129;01mand\u001B[39;00m data[\u001B[38;5;124m'\u001B[39m\u001B[38;5;124mcount\u001B[39m\u001B[38;5;124m'\u001B[39m] \u001B[38;5;241m!=\u001B[39m \u001B[38;5;28mlen\u001B[39m(data[\u001B[38;5;124m'\u001B[39m\u001B[38;5;124mresults\u001B[39m\u001B[38;5;124m'\u001B[39m]):\n\u001B[0;32m     22\u001B[0m     \u001B[38;5;66;03m# We got a section of all results; we want ALL of them.\u001B[39;00m\n",
      "File \u001B[1;32m~\\OneDrive\\Área de Trabalho\\repoGit\\data_camp_notebooks\\venv\\Lib\\site-packages\\requests\\models.py:1021\u001B[0m, in \u001B[0;36mResponse.raise_for_status\u001B[1;34m(self)\u001B[0m\n\u001B[0;32m   1016\u001B[0m     http_error_msg \u001B[38;5;241m=\u001B[39m (\n\u001B[0;32m   1017\u001B[0m         \u001B[38;5;124mf\u001B[39m\u001B[38;5;124m\"\u001B[39m\u001B[38;5;132;01m{\u001B[39;00m\u001B[38;5;28mself\u001B[39m\u001B[38;5;241m.\u001B[39mstatus_code\u001B[38;5;132;01m}\u001B[39;00m\u001B[38;5;124m Server Error: \u001B[39m\u001B[38;5;132;01m{\u001B[39;00mreason\u001B[38;5;132;01m}\u001B[39;00m\u001B[38;5;124m for url: \u001B[39m\u001B[38;5;132;01m{\u001B[39;00m\u001B[38;5;28mself\u001B[39m\u001B[38;5;241m.\u001B[39murl\u001B[38;5;132;01m}\u001B[39;00m\u001B[38;5;124m\"\u001B[39m\n\u001B[0;32m   1018\u001B[0m     )\n\u001B[0;32m   1020\u001B[0m \u001B[38;5;28;01mif\u001B[39;00m http_error_msg:\n\u001B[1;32m-> 1021\u001B[0m     \u001B[38;5;28;01mraise\u001B[39;00m HTTPError(http_error_msg, response\u001B[38;5;241m=\u001B[39m\u001B[38;5;28mself\u001B[39m)\n",
      "\u001B[1;31mHTTPError\u001B[0m: 404 Client Error: Not Found for url: https://pokeapi.co/api/v2/location/21/"
     ]
    }
   ],
   "source": [
    "locations = {\n",
    "    'id':{},\n",
    "    'name':{},\n",
    "    'region':{},\n",
    "    'game_indices':{}\n",
    "}\n",
    "\n",
    "id_list = []\n",
    "names_list = []\n",
    "region_list = []\n",
    "game_list = []\n",
    "\n",
    "for loc in range(120):\n",
    "    temp = pb.location(loc + 1)\n",
    "    if \n",
    "    names_list.append(temp.name)\n",
    "    region_list.append(temp.region)\n",
    "print(names_list)\n",
    "print(region_list)\n"
   ],
   "metadata": {
    "collapsed": false,
    "ExecuteTime": {
     "end_time": "2023-08-29T01:33:31.168704200Z",
     "start_time": "2023-08-29T01:33:28.222993200Z"
    }
   },
   "id": "38df724ec581e711"
  },
  {
   "cell_type": "code",
   "execution_count": 45,
   "outputs": [
    {
     "name": "stdout",
     "output_type": "stream",
     "text": [
      "Not found\n",
      "Not found\n",
      "Not found\n",
      "Not found\n",
      "Not found\n",
      "Not found\n",
      "Not found\n",
      "Not found\n",
      "Not found\n",
      "Not found\n",
      "Not found\n",
      "Not found\n",
      "Not found\n",
      "['canalave-city', 'eterna-city', 'pastoria-city', 'sunyshore-city', 'sinnoh-pokemon-league', 'oreburgh-mine', 'valley-windworks', 'eterna-forest', 'fuego-ironworks', 'mt-coronet', 'great-marsh', 'solaceon-ruins', 'sinnoh-victory-road', 'ravaged-path', 'oreburgh-gate', 'stark-mountain', 'spring-path', 'turnback-cave', 'snowpoint-temple', 'wayward-cave', 'ruin-maniac-cave', 'trophy-garden', 'iron-island', 'old-chateau', 'lake-verity', 'lake-valor', 'lake-acuity', 'valor-lakefront', 'acuity-lakefront', 'sinnoh-route-201', 'sinnoh-route-202', 'sinnoh-route-203', 'sinnoh-route-204', 'sinnoh-route-205', 'sinnoh-route-206', 'sinnoh-route-207', 'sinnoh-route-208', 'sinnoh-route-209', 'lost-tower', 'sinnoh-route-210', 'sinnoh-route-211', 'sinnoh-route-212', 'sinnoh-route-213', 'sinnoh-route-214', 'sinnoh-route-215', 'sinnoh-route-216', 'sinnoh-route-217', 'sinnoh-route-218', 'sinnoh-route-219', 'sinnoh-route-221', 'sinnoh-route-222', 'sinnoh-route-224', 'sinnoh-route-225', 'sinnoh-route-227', 'sinnoh-route-228', 'sinnoh-route-229', 'twinleaf-town', 'celestic-town', 'resort-area', 'sinnoh-sea-route-220', 'sinnoh-sea-route-223', 'sinnoh-sea-route-226', 'sinnoh-sea-route-230', 'blackthorn-city', 'burned-tower', 'celadon-city', 'cerulean-city', 'cherrygrove-city', 'cianwood-city', 'cinnabar-island', 'dark-cave', 'digletts-cave', 'dragons-den', 'ecruteak-city', 'fuchsia-city', 'ice-path', 'ilex-forest', 'lake-of-rage', 'mt-moon', 'mt-mortar', 'mt-silver', 'national-park', 'new-bark-town', 'olivine-city', 'pallet-town', 'rock-tunnel', 'kanto-route-1', 'kanto-route-10', 'kanto-route-11', 'kanto-route-12', 'kanto-route-13', 'kanto-route-14', 'kanto-route-15', 'kanto-route-16', 'kanto-route-17', 'kanto-route-18', 'kanto-sea-route-19', 'kanto-route-2', 'kanto-sea-route-20', 'kanto-sea-route-21', 'kanto-route-22', 'kanto-route-24', 'kanto-route-25', 'kanto-route-26', 'kanto-route-27', 'kanto-route-28', 'johto-route-29', 'kanto-route-3', 'johto-route-30', 'johto-route-31', 'johto-route-32', 'johto-route-33', 'johto-route-34', 'johto-route-35', 'johto-route-36', 'johto-route-37', 'johto-route-38', 'johto-route-39', 'kanto-route-4', 'johto-sea-route-40', 'johto-sea-route-41', 'johto-route-42', 'johto-route-43', 'johto-route-44', 'johto-route-45', 'johto-route-46', 'johto-route-47', 'johto-route-48', 'kanto-route-5', 'kanto-route-6', 'kanto-route-7', 'kanto-route-8', 'kanto-route-9', 'ruins-of-alph', 'seafoam-islands', 'slowpoke-well', 'sprout-tower', 'bell-tower', 'tohjo-falls', 'union-cave', 'cerulean-cave', 'unknown-all-poliwag', 'unknown-all-rattata', 'unknown-all-bugs', 'vermilion-city', 'kanto-victory-road-1', 'violet-city', 'viridian-city', 'viridian-forest', 'whirl-islands', 'kanto-route-23', 'power-plant', 'kanto-victory-road-2', 'pokemon-tower', 'pokemon-mansion', 'kanto-safari-zone', 'sandgem-town', 'floaroma-town', 'solaceon-town', 'jubilife-city', 'oreburgh-city', 'hearthome-city', 'veilstone-city', 'snowpoint-city', 'spear-pillar', 'pal-park', 'amity-square', 'floaroma-meadow', 'fullmoon-island', 'sendoff-spring', 'flower-paradise', 'maniac-tunnel', 'galactic-hq', 'verity-lakefront', 'newmoon-island', 'sinnoh-battle-tower', 'fight-area', 'survival-area', 'seabreak-path', 'sinnoh-hall-of-origin-1', 'sinnoh-hall-of-origin-2', 'verity-cavern', 'valor-cavern', 'acuity-cavern', 'jubilife-tv', 'poketch-co', 'gts', 'trainers-school', 'mining-museum', 'sinnoh-flower-shop', 'sinnoh-cycle-shop', 'contest-hall', 'poffin-house', 'sinnoh-foreign-building', 'pokemon-day-care', 'veilstone-store', 'sinnoh-game-corner', 'canalave-library', 'vista-lighthouse', 'sunyshore-market', 'footstep-house', 'sinnoh-cafe', 'grand-lake', 'sinnoh-restaurant', 'battle-park', 'battle-frontier', 'battle-factory', 'battle-castle', 'battle-arcade', 'battle-hall', 'distortion-world', 'sinnoh-global-terminal', 'sinnoh-villa', 'battleground', 'rotoms-room', 'tg-eterna-bldg', 'iron-ruins', 'iceberg-ruins', 'rock-peak-ruins', 'azalea-town', 'goldenrod-city', 'mahogany-town', 'pewter-city', 'lavender-town', 'indigo-plateau', 'saffron-city', 'johto-lighthouse', 'team-rocket-hq', 'goldenrod-tunnel', 'mt-silver-cave', 'pokeathlon-dome', 'ss-aqua', 'safari-zone-gate', 'cliff-cave', 'frontier-access', 'bellchime-trail', 'sinjoh-ruins', 'embedded-tower', 'pokewalker', 'cliff-edge-gate', 'radio-tower', 'day-care-couple', 'link-trade-arrive', 'link-trade-met', 'kanto', 'johto', 'hoenn', 'sinnoh', 'distant-land', 'traveling-man', 'riley', 'cynthia', 'mystery-zone', 'lovely-place', 'pokemon-ranger', 'faraway-place', 'pokemon-movie', 'pokemon-movie-06', 'pokemon-movie-07', 'pokemon-movie-08', 'pokemon-movie-09', 'pokemon-movie-10', 'pokemon-movie-11', 'pokemon-movie-12', 'pokemon-movie-13', 'pokemon-movie-14', 'pokemon-movie-15', 'pokemon-movie-16', 'pokemon-cartoon', 'space-world', 'space-world-06', 'space-world-07', 'space-world-08', 'space-world-09', 'space-world-10', 'space-world-11', 'space-world-12', 'space-world-13', 'space-world-14', 'space-world-15', 'space-world-16', 'pokemon-festa', 'pokemon-festa-06', 'pokemon-festa-07', 'pokemon-festa-08', 'pokemon-festa-09', 'pokemon-festa-10', 'pokemon-festa-11', 'pokemon-festa-12', 'pokemon-festa-13', 'pokemon-festa-14', 'pokemon-festa-15', 'pokemon-festa-16', 'pokepark', 'pokepark-06', 'pokepark-07', 'pokepark-08', 'pokepark-09', 'pokepark-10', 'pokepark-11', 'pokepark-12', 'pokepark-13', 'pokepark-14', 'pokepark-15', 'pokepark-16', 'pokemon-center', 'pc-tokyo', 'pc-osaka', 'pc-fukuoka', 'pc-nagoya', 'pc-sapporo', 'pc-yokohama', 'nintendo-world', 'pokemon-event', 'pokemon-event-06', 'pokemon-event-07', 'pokemon-event-08', 'pokemon-event-09', 'pokemon-event-10', 'pokemon-event-11', 'pokemon-event-12', 'pokemon-event-13', 'pokemon-event-14', 'pokemon-event-15', 'pokemon-event-16', 'wi-fi-event', 'wi-fi-gift', 'pokemon-fan-club', 'event-site', 'concert-event', 'mr-pokemon', 'primo', 'unova-mystery-zone', 'unova-faraway-place', 'nuvema-town', 'accumula-town', 'striaton-city', 'nacrene-city', 'castelia-city', 'nimbasa-city', 'driftveil-city', 'mistralton-city', 'icirrus-city', 'opelucid-city', 'unova-route-1', 'unova-route-2', 'unova-route-3', 'unova-route-4', 'unova-route-5', 'unova-route-6', 'unova-route-7', 'unova-route-8', 'unova-route-9', 'unova-route-10', 'unova-route-11', 'unova-route-12', 'unova-route-13', 'unova-route-14', 'unova-route-15', 'unova-route-16', 'unova-route-17', 'unova-route-18', 'dreamyard', 'pinwheel-forest', 'desert-resort', 'relic-castle', 'cold-storage', 'chargestone-cave', 'twist-mountain', 'dragonspiral-tower', 'unova-victory-road', 'lacunosa-town', 'undella-town', 'anville-town', 'unova-pokemon-league', 'ns-castle', 'royal-unova', 'gear-station', 'battle-subway', 'musical-theater', 'black-city', 'white-forest', 'unity-tower', 'wellspring-cave', 'mistralton-cave', 'rumination-field', 'celestial-tower', 'moor-of-icirrus', 'unova-shopping-mall', 'challengers-cave', 'poke-transfer-lab', 'giant-chasm', 'liberty-garden', 'p2-laboratory', 'skyarrow-bridge', 'driftveil-drawbridge', 'tubeline-bridge', 'village-bridge', 'marvelous-bridge', 'entralink', 'abundant-shrine', 'undella-bay', 'lostlorn-forest', 'trial-chamber', 'guidance-chamber', 'entree-forest', 'accumula-gate', 'undella-gate', 'nacrene-gate', 'castelia-gate', 'nimbasa-gate', 'opelucid-gate', 'black-gate', 'white-gate', 'bridge-gate', 'route-gate', 'abyssal-ruins', 'petalburg-city', 'slateport-city', 'lilycove-city', 'mossdeep-city', 'sootopolis-city', 'ever-grande-city', 'meteor-falls', 'rusturf-tunnel', 'granite-cave', 'petalburg-woods', 'jagged-pass', 'fiery-path', 'mt-pyre', 'seafloor-cavern', 'cave-of-origin', 'hoenn-victory-road', 'shoal-cave', 'new-mauville', 'abandoned-ship', 'sky-pillar', 'hoenn-route-101', 'hoenn-route-102', 'hoenn-route-103', 'hoenn-route-104', 'hoenn-route-105', 'hoenn-route-106', 'hoenn-route-107', 'hoenn-route-108', 'hoenn-route-109', 'hoenn-route-110', 'hoenn-route-111', 'hoenn-route-112', 'hoenn-route-113', 'hoenn-route-114', 'hoenn-route-115', 'hoenn-route-116', 'hoenn-route-117', 'hoenn-route-118', 'hoenn-route-119', 'hoenn-route-120', 'hoenn-route-121', 'hoenn-route-122', 'hoenn-route-123', 'hoenn-route-124', 'hoenn-route-125', 'hoenn-route-126', 'hoenn-route-127', 'hoenn-route-128', 'hoenn-route-129', 'hoenn-route-130', 'hoenn-route-131', 'hoenn-route-132', 'hoenn-route-133', 'hoenn-route-134', 'hoenn-safari-zone', 'dewford-town', 'pacifidlog-town', 'magma-hideout', 'mirage-tower', 'desert-underpass', 'artisan-cave', 'hoenn-altering-cave', 'monean-chamber', 'liptoo-chamber', 'weepth-chamber', 'dilford-chamber', 'scufib-chamber', 'rixy-chamber', 'viapos-chamber', 'ss-anne']\n"
     ]
    }
   ],
   "source": [
    "def get_name_locations(lista):\n",
    "    \"\"\"Retorna lista das locations para a lista fornecida fornecida\"\"\"\n",
    "    for id in range(500):\n",
    "        try:\n",
    "            temp = pb.location(id)\n",
    "            lista.append(temp.name)\n",
    "        except:\n",
    "            print(\"Not found\")\n",
    "    return lista\n",
    "regions = []\n",
    "new_region = get_name_locations(regions)\n",
    "print(regions)"
   ],
   "metadata": {
    "collapsed": false,
    "ExecuteTime": {
     "end_time": "2023-08-29T02:00:55.174754700Z",
     "start_time": "2023-08-29T01:46:58.860077Z"
    }
   },
   "id": "631ecf8794adaadc"
  },
  {
   "cell_type": "code",
   "execution_count": 70,
   "outputs": [
    {
     "data": {
      "text/plain": "      id                   name\n0      0          canalave-city\n1      1            eterna-city\n2      2          pastoria-city\n3      3         sunyshore-city\n4      4  sinnoh-pokemon-league\n..   ...                    ...\n482  482        dilford-chamber\n483  483         scufib-chamber\n484  484           rixy-chamber\n485  485         viapos-chamber\n486  486                ss-anne\n\n[487 rows x 2 columns]",
      "text/html": "<div>\n<style scoped>\n    .dataframe tbody tr th:only-of-type {\n        vertical-align: middle;\n    }\n\n    .dataframe tbody tr th {\n        vertical-align: top;\n    }\n\n    .dataframe thead th {\n        text-align: right;\n    }\n</style>\n<table border=\"1\" class=\"dataframe\">\n  <thead>\n    <tr style=\"text-align: right;\">\n      <th></th>\n      <th>id</th>\n      <th>name</th>\n    </tr>\n  </thead>\n  <tbody>\n    <tr>\n      <th>0</th>\n      <td>0</td>\n      <td>canalave-city</td>\n    </tr>\n    <tr>\n      <th>1</th>\n      <td>1</td>\n      <td>eterna-city</td>\n    </tr>\n    <tr>\n      <th>2</th>\n      <td>2</td>\n      <td>pastoria-city</td>\n    </tr>\n    <tr>\n      <th>3</th>\n      <td>3</td>\n      <td>sunyshore-city</td>\n    </tr>\n    <tr>\n      <th>4</th>\n      <td>4</td>\n      <td>sinnoh-pokemon-league</td>\n    </tr>\n    <tr>\n      <th>...</th>\n      <td>...</td>\n      <td>...</td>\n    </tr>\n    <tr>\n      <th>482</th>\n      <td>482</td>\n      <td>dilford-chamber</td>\n    </tr>\n    <tr>\n      <th>483</th>\n      <td>483</td>\n      <td>scufib-chamber</td>\n    </tr>\n    <tr>\n      <th>484</th>\n      <td>484</td>\n      <td>rixy-chamber</td>\n    </tr>\n    <tr>\n      <th>485</th>\n      <td>485</td>\n      <td>viapos-chamber</td>\n    </tr>\n    <tr>\n      <th>486</th>\n      <td>486</td>\n      <td>ss-anne</td>\n    </tr>\n  </tbody>\n</table>\n<p>487 rows × 2 columns</p>\n</div>"
     },
     "execution_count": 70,
     "metadata": {},
     "output_type": "execute_result"
    }
   ],
   "source": [
    "id_lista = list(range(len(regions)))\n",
    "dict_location = {\n",
    "    'id': id_lista,\n",
    "    'name': regions\n",
    "}\n",
    "\n",
    "locations_df = pd.DataFrame(dict_location)\n",
    "locations_df"
   ],
   "metadata": {
    "collapsed": false,
    "ExecuteTime": {
     "end_time": "2023-08-29T02:23:55.390826400Z",
     "start_time": "2023-08-29T02:23:55.352339Z"
    }
   },
   "id": "c67e5de0b9a5a195"
  },
  {
   "cell_type": "code",
   "execution_count": 68,
   "outputs": [
    {
     "name": "stdout",
     "output_type": "stream",
     "text": [
      "['generation-i', 'generation-ii', 'generation-iii', 'generation-iv', 'generation-v', 'generation-vi', 'generation-vii', 'generation-viii']\n"
     ]
    }
   ],
   "source": [
    "def get_name_gen(list):\n",
    "    \"\"\"Retorna lista dos nomes das gerações\"\"\"\n",
    "    for id in range(8):\n",
    "        try:\n",
    "            temp = pb.generation(id+1)\n",
    "            list.append(temp.name)\n",
    "        except:\n",
    "            print(id + \" Not Found\")\n",
    "    return list\n",
    "litinhya = []\n",
    "new_litinhya = get_name_gen(litinhya)\n",
    "print(new_litinhya)"
   ],
   "metadata": {
    "collapsed": false,
    "ExecuteTime": {
     "end_time": "2023-08-29T02:22:10.844678300Z",
     "start_time": "2023-08-29T02:21:38.602732100Z"
    }
   },
   "id": "6bb6db0ce9b04ddf"
  }
 ],
 "metadata": {
  "kernelspec": {
   "display_name": "Python 3",
   "language": "python",
   "name": "python3"
  },
  "language_info": {
   "codemirror_mode": {
    "name": "ipython",
    "version": 2
   },
   "file_extension": ".py",
   "mimetype": "text/x-python",
   "name": "python",
   "nbconvert_exporter": "python",
   "pygments_lexer": "ipython2",
   "version": "2.7.6"
  }
 },
 "nbformat": 4,
 "nbformat_minor": 5
}
