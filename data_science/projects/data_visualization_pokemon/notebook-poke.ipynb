{
 "cells": [
  {
   "cell_type": "markdown",
   "source": [
    "# Pokedex analystic"
   ],
   "metadata": {
    "collapsed": false
   },
   "id": "3e548e45d08acd91"
  },
  {
   "cell_type": "code",
   "execution_count": 4,
   "outputs": [],
   "source": [
    "import pandas as pd\n",
    "import numpy as np\n",
    "import datetime as dt\n",
    "import matplotlib.pyplot as plt\n",
    "from sqlalchemy import create_engine\n",
    "\n",
    "pokedex = pd.read_csv('datasets/Pokemon.csv')"
   ],
   "metadata": {
    "collapsed": false,
    "ExecuteTime": {
     "end_time": "2023-08-28T19:39:53.495336389Z",
     "start_time": "2023-08-28T19:39:52.772631971Z"
    }
   },
   "id": "37f2c2ee2e828f75"
  },
  {
   "cell_type": "code",
   "execution_count": 5,
   "outputs": [
    {
     "data": {
      "text/plain": "   #                   Name Type 1  Type 2  Total  HP  Attack  Defense  \\\n0  1              Bulbasaur  Grass  Poison    318  45      49       49   \n1  2                Ivysaur  Grass  Poison    405  60      62       63   \n2  3               Venusaur  Grass  Poison    525  80      82       83   \n3  3  VenusaurMega Venusaur  Grass  Poison    625  80     100      123   \n4  4             Charmander   Fire     NaN    309  39      52       43   \n\n   Sp. Atk  Sp. Def  Speed  Generation  Legendary  \n0       65       65     45           1      False  \n1       80       80     60           1      False  \n2      100      100     80           1      False  \n3      122      120     80           1      False  \n4       60       50     65           1      False  ",
      "text/html": "<div>\n<style scoped>\n    .dataframe tbody tr th:only-of-type {\n        vertical-align: middle;\n    }\n\n    .dataframe tbody tr th {\n        vertical-align: top;\n    }\n\n    .dataframe thead th {\n        text-align: right;\n    }\n</style>\n<table border=\"1\" class=\"dataframe\">\n  <thead>\n    <tr style=\"text-align: right;\">\n      <th></th>\n      <th>#</th>\n      <th>Name</th>\n      <th>Type 1</th>\n      <th>Type 2</th>\n      <th>Total</th>\n      <th>HP</th>\n      <th>Attack</th>\n      <th>Defense</th>\n      <th>Sp. Atk</th>\n      <th>Sp. Def</th>\n      <th>Speed</th>\n      <th>Generation</th>\n      <th>Legendary</th>\n    </tr>\n  </thead>\n  <tbody>\n    <tr>\n      <th>0</th>\n      <td>1</td>\n      <td>Bulbasaur</td>\n      <td>Grass</td>\n      <td>Poison</td>\n      <td>318</td>\n      <td>45</td>\n      <td>49</td>\n      <td>49</td>\n      <td>65</td>\n      <td>65</td>\n      <td>45</td>\n      <td>1</td>\n      <td>False</td>\n    </tr>\n    <tr>\n      <th>1</th>\n      <td>2</td>\n      <td>Ivysaur</td>\n      <td>Grass</td>\n      <td>Poison</td>\n      <td>405</td>\n      <td>60</td>\n      <td>62</td>\n      <td>63</td>\n      <td>80</td>\n      <td>80</td>\n      <td>60</td>\n      <td>1</td>\n      <td>False</td>\n    </tr>\n    <tr>\n      <th>2</th>\n      <td>3</td>\n      <td>Venusaur</td>\n      <td>Grass</td>\n      <td>Poison</td>\n      <td>525</td>\n      <td>80</td>\n      <td>82</td>\n      <td>83</td>\n      <td>100</td>\n      <td>100</td>\n      <td>80</td>\n      <td>1</td>\n      <td>False</td>\n    </tr>\n    <tr>\n      <th>3</th>\n      <td>3</td>\n      <td>VenusaurMega Venusaur</td>\n      <td>Grass</td>\n      <td>Poison</td>\n      <td>625</td>\n      <td>80</td>\n      <td>100</td>\n      <td>123</td>\n      <td>122</td>\n      <td>120</td>\n      <td>80</td>\n      <td>1</td>\n      <td>False</td>\n    </tr>\n    <tr>\n      <th>4</th>\n      <td>4</td>\n      <td>Charmander</td>\n      <td>Fire</td>\n      <td>NaN</td>\n      <td>309</td>\n      <td>39</td>\n      <td>52</td>\n      <td>43</td>\n      <td>60</td>\n      <td>50</td>\n      <td>65</td>\n      <td>1</td>\n      <td>False</td>\n    </tr>\n  </tbody>\n</table>\n</div>"
     },
     "execution_count": 5,
     "metadata": {},
     "output_type": "execute_result"
    }
   ],
   "source": [
    "pokedex.head()"
   ],
   "metadata": {
    "collapsed": false,
    "ExecuteTime": {
     "end_time": "2023-08-28T19:39:53.601121560Z",
     "start_time": "2023-08-28T19:39:52.802140781Z"
    }
   },
   "id": "ad9cf5cd142210e5"
  },
  {
   "cell_type": "code",
   "execution_count": 6,
   "outputs": [
    {
     "name": "stdout",
     "output_type": "stream",
     "text": [
      "<class 'pandas.core.frame.DataFrame'>\n",
      "RangeIndex: 800 entries, 0 to 799\n",
      "Data columns (total 13 columns):\n",
      " #   Column      Non-Null Count  Dtype \n",
      "---  ------      --------------  ----- \n",
      " 0   #           800 non-null    int64 \n",
      " 1   Name        800 non-null    object\n",
      " 2   Type 1      800 non-null    object\n",
      " 3   Type 2      414 non-null    object\n",
      " 4   Total       800 non-null    int64 \n",
      " 5   HP          800 non-null    int64 \n",
      " 6   Attack      800 non-null    int64 \n",
      " 7   Defense     800 non-null    int64 \n",
      " 8   Sp. Atk     800 non-null    int64 \n",
      " 9   Sp. Def     800 non-null    int64 \n",
      " 10  Speed       800 non-null    int64 \n",
      " 11  Generation  800 non-null    int64 \n",
      " 12  Legendary   800 non-null    bool  \n",
      "dtypes: bool(1), int64(9), object(3)\n",
      "memory usage: 75.9+ KB\n"
     ]
    }
   ],
   "source": [
    "pokedex.info()"
   ],
   "metadata": {
    "collapsed": false,
    "ExecuteTime": {
     "end_time": "2023-08-28T19:39:53.602864169Z",
     "start_time": "2023-08-28T19:39:52.881025580Z"
    }
   },
   "id": "a1ed0fc69ae73baf"
  },
  {
   "cell_type": "code",
   "execution_count": 7,
   "outputs": [
    {
     "data": {
      "text/plain": "(800, 13)"
     },
     "execution_count": 7,
     "metadata": {},
     "output_type": "execute_result"
    }
   ],
   "source": [
    "pokedex.shape"
   ],
   "metadata": {
    "collapsed": false,
    "ExecuteTime": {
     "end_time": "2023-08-28T19:39:53.604711077Z",
     "start_time": "2023-08-28T19:39:52.882024230Z"
    }
   },
   "id": "6bae23bfa6cfed37"
  },
  {
   "cell_type": "code",
   "execution_count": 8,
   "outputs": [
    {
     "data": {
      "text/plain": "                #      Total          HP      Attack     Defense     Sp. Atk  \\\ncount  800.000000  800.00000  800.000000  800.000000  800.000000  800.000000   \nmean   362.813750  435.10250   69.258750   79.001250   73.842500   72.820000   \nstd    208.343798  119.96304   25.534669   32.457366   31.183501   32.722294   \nmin      1.000000  180.00000    1.000000    5.000000    5.000000   10.000000   \n25%    184.750000  330.00000   50.000000   55.000000   50.000000   49.750000   \n50%    364.500000  450.00000   65.000000   75.000000   70.000000   65.000000   \n75%    539.250000  515.00000   80.000000  100.000000   90.000000   95.000000   \nmax    721.000000  780.00000  255.000000  190.000000  230.000000  194.000000   \n\n          Sp. Def       Speed  Generation  \ncount  800.000000  800.000000   800.00000  \nmean    71.902500   68.277500     3.32375  \nstd     27.828916   29.060474     1.66129  \nmin     20.000000    5.000000     1.00000  \n25%     50.000000   45.000000     2.00000  \n50%     70.000000   65.000000     3.00000  \n75%     90.000000   90.000000     5.00000  \nmax    230.000000  180.000000     6.00000  ",
      "text/html": "<div>\n<style scoped>\n    .dataframe tbody tr th:only-of-type {\n        vertical-align: middle;\n    }\n\n    .dataframe tbody tr th {\n        vertical-align: top;\n    }\n\n    .dataframe thead th {\n        text-align: right;\n    }\n</style>\n<table border=\"1\" class=\"dataframe\">\n  <thead>\n    <tr style=\"text-align: right;\">\n      <th></th>\n      <th>#</th>\n      <th>Total</th>\n      <th>HP</th>\n      <th>Attack</th>\n      <th>Defense</th>\n      <th>Sp. Atk</th>\n      <th>Sp. Def</th>\n      <th>Speed</th>\n      <th>Generation</th>\n    </tr>\n  </thead>\n  <tbody>\n    <tr>\n      <th>count</th>\n      <td>800.000000</td>\n      <td>800.00000</td>\n      <td>800.000000</td>\n      <td>800.000000</td>\n      <td>800.000000</td>\n      <td>800.000000</td>\n      <td>800.000000</td>\n      <td>800.000000</td>\n      <td>800.00000</td>\n    </tr>\n    <tr>\n      <th>mean</th>\n      <td>362.813750</td>\n      <td>435.10250</td>\n      <td>69.258750</td>\n      <td>79.001250</td>\n      <td>73.842500</td>\n      <td>72.820000</td>\n      <td>71.902500</td>\n      <td>68.277500</td>\n      <td>3.32375</td>\n    </tr>\n    <tr>\n      <th>std</th>\n      <td>208.343798</td>\n      <td>119.96304</td>\n      <td>25.534669</td>\n      <td>32.457366</td>\n      <td>31.183501</td>\n      <td>32.722294</td>\n      <td>27.828916</td>\n      <td>29.060474</td>\n      <td>1.66129</td>\n    </tr>\n    <tr>\n      <th>min</th>\n      <td>1.000000</td>\n      <td>180.00000</td>\n      <td>1.000000</td>\n      <td>5.000000</td>\n      <td>5.000000</td>\n      <td>10.000000</td>\n      <td>20.000000</td>\n      <td>5.000000</td>\n      <td>1.00000</td>\n    </tr>\n    <tr>\n      <th>25%</th>\n      <td>184.750000</td>\n      <td>330.00000</td>\n      <td>50.000000</td>\n      <td>55.000000</td>\n      <td>50.000000</td>\n      <td>49.750000</td>\n      <td>50.000000</td>\n      <td>45.000000</td>\n      <td>2.00000</td>\n    </tr>\n    <tr>\n      <th>50%</th>\n      <td>364.500000</td>\n      <td>450.00000</td>\n      <td>65.000000</td>\n      <td>75.000000</td>\n      <td>70.000000</td>\n      <td>65.000000</td>\n      <td>70.000000</td>\n      <td>65.000000</td>\n      <td>3.00000</td>\n    </tr>\n    <tr>\n      <th>75%</th>\n      <td>539.250000</td>\n      <td>515.00000</td>\n      <td>80.000000</td>\n      <td>100.000000</td>\n      <td>90.000000</td>\n      <td>95.000000</td>\n      <td>90.000000</td>\n      <td>90.000000</td>\n      <td>5.00000</td>\n    </tr>\n    <tr>\n      <th>max</th>\n      <td>721.000000</td>\n      <td>780.00000</td>\n      <td>255.000000</td>\n      <td>190.000000</td>\n      <td>230.000000</td>\n      <td>194.000000</td>\n      <td>230.000000</td>\n      <td>180.000000</td>\n      <td>6.00000</td>\n    </tr>\n  </tbody>\n</table>\n</div>"
     },
     "execution_count": 8,
     "metadata": {},
     "output_type": "execute_result"
    }
   ],
   "source": [
    "pokedex.describe()"
   ],
   "metadata": {
    "collapsed": false,
    "ExecuteTime": {
     "end_time": "2023-08-28T19:39:53.634564512Z",
     "start_time": "2023-08-28T19:39:52.892610597Z"
    }
   },
   "id": "4759f2722cc1d411"
  },
  {
   "cell_type": "code",
   "execution_count": 9,
   "outputs": [
    {
     "data": {
      "text/plain": "array([[1, 'Bulbasaur', 'Grass', ..., 45, 1, False],\n       [2, 'Ivysaur', 'Grass', ..., 60, 1, False],\n       [3, 'Venusaur', 'Grass', ..., 80, 1, False],\n       ...,\n       [720, 'HoopaHoopa Confined', 'Psychic', ..., 70, 6, True],\n       [720, 'HoopaHoopa Unbound', 'Psychic', ..., 80, 6, True],\n       [721, 'Volcanion', 'Fire', ..., 70, 6, True]], dtype=object)"
     },
     "execution_count": 9,
     "metadata": {},
     "output_type": "execute_result"
    }
   ],
   "source": [
    "pokedex.values"
   ],
   "metadata": {
    "collapsed": false,
    "ExecuteTime": {
     "end_time": "2023-08-28T19:39:53.640902371Z",
     "start_time": "2023-08-28T19:39:52.977411544Z"
    }
   },
   "id": "6b1de31cf6778a5a"
  },
  {
   "cell_type": "code",
   "execution_count": 10,
   "outputs": [
    {
     "data": {
      "text/plain": "       #                       Name   Type 1  Type 2  Total   HP  Attack  \\\n431  386          DeoxysSpeed Forme  Psychic     NaN    600   50      95   \n315  291                    Ninjask      Bug  Flying    456   61      90   \n428  386         DeoxysNormal Forme  Psychic     NaN    600   50     150   \n154  142  AerodactylMega Aerodactyl     Rock  Flying    615   80     135   \n71    65      AlakazamMega Alakazam  Psychic     NaN    590   55      50   \n..   ...                        ...      ...     ...    ...  ...     ...   \n658  597                  Ferroseed    Grass   Steel    305   44      50   \n486  438                     Bonsly     Rock     NaN    290   50      80   \n359  328                   Trapinch   Ground     NaN    290   45     100   \n230  213                    Shuckle      Bug    Rock    505   20      10   \n495  446                   Munchlax   Normal     NaN    390  135      85   \n\n     Defense  Sp. Atk  Sp. Def  Speed  Generation  Legendary  \n431       90       95       90    180           3       True  \n315       45       50       50    160           3      False  \n428       50      150       50    150           3       True  \n154       85       70       95    150           1      False  \n71        65      175       95    150           1      False  \n..       ...      ...      ...    ...         ...        ...  \n658       91       24       86     10           5      False  \n486       95       10       45     10           4      False  \n359       45       45       45     10           3      False  \n230      230       10      230      5           2      False  \n495       40       40       85      5           4      False  \n\n[800 rows x 13 columns]",
      "text/html": "<div>\n<style scoped>\n    .dataframe tbody tr th:only-of-type {\n        vertical-align: middle;\n    }\n\n    .dataframe tbody tr th {\n        vertical-align: top;\n    }\n\n    .dataframe thead th {\n        text-align: right;\n    }\n</style>\n<table border=\"1\" class=\"dataframe\">\n  <thead>\n    <tr style=\"text-align: right;\">\n      <th></th>\n      <th>#</th>\n      <th>Name</th>\n      <th>Type 1</th>\n      <th>Type 2</th>\n      <th>Total</th>\n      <th>HP</th>\n      <th>Attack</th>\n      <th>Defense</th>\n      <th>Sp. Atk</th>\n      <th>Sp. Def</th>\n      <th>Speed</th>\n      <th>Generation</th>\n      <th>Legendary</th>\n    </tr>\n  </thead>\n  <tbody>\n    <tr>\n      <th>431</th>\n      <td>386</td>\n      <td>DeoxysSpeed Forme</td>\n      <td>Psychic</td>\n      <td>NaN</td>\n      <td>600</td>\n      <td>50</td>\n      <td>95</td>\n      <td>90</td>\n      <td>95</td>\n      <td>90</td>\n      <td>180</td>\n      <td>3</td>\n      <td>True</td>\n    </tr>\n    <tr>\n      <th>315</th>\n      <td>291</td>\n      <td>Ninjask</td>\n      <td>Bug</td>\n      <td>Flying</td>\n      <td>456</td>\n      <td>61</td>\n      <td>90</td>\n      <td>45</td>\n      <td>50</td>\n      <td>50</td>\n      <td>160</td>\n      <td>3</td>\n      <td>False</td>\n    </tr>\n    <tr>\n      <th>428</th>\n      <td>386</td>\n      <td>DeoxysNormal Forme</td>\n      <td>Psychic</td>\n      <td>NaN</td>\n      <td>600</td>\n      <td>50</td>\n      <td>150</td>\n      <td>50</td>\n      <td>150</td>\n      <td>50</td>\n      <td>150</td>\n      <td>3</td>\n      <td>True</td>\n    </tr>\n    <tr>\n      <th>154</th>\n      <td>142</td>\n      <td>AerodactylMega Aerodactyl</td>\n      <td>Rock</td>\n      <td>Flying</td>\n      <td>615</td>\n      <td>80</td>\n      <td>135</td>\n      <td>85</td>\n      <td>70</td>\n      <td>95</td>\n      <td>150</td>\n      <td>1</td>\n      <td>False</td>\n    </tr>\n    <tr>\n      <th>71</th>\n      <td>65</td>\n      <td>AlakazamMega Alakazam</td>\n      <td>Psychic</td>\n      <td>NaN</td>\n      <td>590</td>\n      <td>55</td>\n      <td>50</td>\n      <td>65</td>\n      <td>175</td>\n      <td>95</td>\n      <td>150</td>\n      <td>1</td>\n      <td>False</td>\n    </tr>\n    <tr>\n      <th>...</th>\n      <td>...</td>\n      <td>...</td>\n      <td>...</td>\n      <td>...</td>\n      <td>...</td>\n      <td>...</td>\n      <td>...</td>\n      <td>...</td>\n      <td>...</td>\n      <td>...</td>\n      <td>...</td>\n      <td>...</td>\n      <td>...</td>\n    </tr>\n    <tr>\n      <th>658</th>\n      <td>597</td>\n      <td>Ferroseed</td>\n      <td>Grass</td>\n      <td>Steel</td>\n      <td>305</td>\n      <td>44</td>\n      <td>50</td>\n      <td>91</td>\n      <td>24</td>\n      <td>86</td>\n      <td>10</td>\n      <td>5</td>\n      <td>False</td>\n    </tr>\n    <tr>\n      <th>486</th>\n      <td>438</td>\n      <td>Bonsly</td>\n      <td>Rock</td>\n      <td>NaN</td>\n      <td>290</td>\n      <td>50</td>\n      <td>80</td>\n      <td>95</td>\n      <td>10</td>\n      <td>45</td>\n      <td>10</td>\n      <td>4</td>\n      <td>False</td>\n    </tr>\n    <tr>\n      <th>359</th>\n      <td>328</td>\n      <td>Trapinch</td>\n      <td>Ground</td>\n      <td>NaN</td>\n      <td>290</td>\n      <td>45</td>\n      <td>100</td>\n      <td>45</td>\n      <td>45</td>\n      <td>45</td>\n      <td>10</td>\n      <td>3</td>\n      <td>False</td>\n    </tr>\n    <tr>\n      <th>230</th>\n      <td>213</td>\n      <td>Shuckle</td>\n      <td>Bug</td>\n      <td>Rock</td>\n      <td>505</td>\n      <td>20</td>\n      <td>10</td>\n      <td>230</td>\n      <td>10</td>\n      <td>230</td>\n      <td>5</td>\n      <td>2</td>\n      <td>False</td>\n    </tr>\n    <tr>\n      <th>495</th>\n      <td>446</td>\n      <td>Munchlax</td>\n      <td>Normal</td>\n      <td>NaN</td>\n      <td>390</td>\n      <td>135</td>\n      <td>85</td>\n      <td>40</td>\n      <td>40</td>\n      <td>85</td>\n      <td>5</td>\n      <td>4</td>\n      <td>False</td>\n    </tr>\n  </tbody>\n</table>\n<p>800 rows × 13 columns</p>\n</div>"
     },
     "execution_count": 10,
     "metadata": {},
     "output_type": "execute_result"
    }
   ],
   "source": [
    "pokedex.sort_values('Speed', ascending=False)"
   ],
   "metadata": {
    "collapsed": false,
    "ExecuteTime": {
     "end_time": "2023-08-28T19:39:53.645954211Z",
     "start_time": "2023-08-28T19:39:53.021021484Z"
    }
   },
   "id": "c14473c70b241800"
  },
  {
   "cell_type": "code",
   "execution_count": 11,
   "outputs": [
    {
     "data": {
      "text/plain": "0                  Bulbasaur\n1                    Ivysaur\n2                   Venusaur\n3      VenusaurMega Venusaur\n4                 Charmander\n               ...          \n795                  Diancie\n796      DiancieMega Diancie\n797      HoopaHoopa Confined\n798       HoopaHoopa Unbound\n799                Volcanion\nName: Name, Length: 800, dtype: object"
     },
     "execution_count": 11,
     "metadata": {},
     "output_type": "execute_result"
    }
   ],
   "source": [
    "pokedex['Name']"
   ],
   "metadata": {
    "collapsed": false,
    "ExecuteTime": {
     "end_time": "2023-08-28T19:39:53.648680411Z",
     "start_time": "2023-08-28T19:39:53.039894732Z"
    }
   },
   "id": "db2bf78677a0d45c"
  },
  {
   "cell_type": "code",
   "execution_count": 12,
   "outputs": [
    {
     "data": {
      "text/plain": "       #                 Name    Type 1    Type 2  Total   HP  Attack  \\\n156  144             Articuno       Ice    Flying    580   90      85   \n157  145               Zapdos  Electric    Flying    580   90      90   \n158  146              Moltres      Fire    Flying    580   90     100   \n162  150               Mewtwo   Psychic       NaN    680  106     110   \n163  150  MewtwoMega Mewtwo X   Psychic  Fighting    780  106     190   \n..   ...                  ...       ...       ...    ...  ...     ...   \n795  719              Diancie      Rock     Fairy    600   50     100   \n796  719  DiancieMega Diancie      Rock     Fairy    700   50     160   \n797  720  HoopaHoopa Confined   Psychic     Ghost    600   80     110   \n798  720   HoopaHoopa Unbound   Psychic      Dark    680   80     160   \n799  721            Volcanion      Fire     Water    600   80     110   \n\n     Defense  Sp. Atk  Sp. Def  Speed  Generation  Legendary  \n156      100       95      125     85           1       True  \n157       85      125       90    100           1       True  \n158       90      125       85     90           1       True  \n162       90      154       90    130           1       True  \n163      100      154      100    130           1       True  \n..       ...      ...      ...    ...         ...        ...  \n795      150      100      150     50           6       True  \n796      110      160      110    110           6       True  \n797       60      150      130     70           6       True  \n798       60      170      130     80           6       True  \n799      120      130       90     70           6       True  \n\n[65 rows x 13 columns]",
      "text/html": "<div>\n<style scoped>\n    .dataframe tbody tr th:only-of-type {\n        vertical-align: middle;\n    }\n\n    .dataframe tbody tr th {\n        vertical-align: top;\n    }\n\n    .dataframe thead th {\n        text-align: right;\n    }\n</style>\n<table border=\"1\" class=\"dataframe\">\n  <thead>\n    <tr style=\"text-align: right;\">\n      <th></th>\n      <th>#</th>\n      <th>Name</th>\n      <th>Type 1</th>\n      <th>Type 2</th>\n      <th>Total</th>\n      <th>HP</th>\n      <th>Attack</th>\n      <th>Defense</th>\n      <th>Sp. Atk</th>\n      <th>Sp. Def</th>\n      <th>Speed</th>\n      <th>Generation</th>\n      <th>Legendary</th>\n    </tr>\n  </thead>\n  <tbody>\n    <tr>\n      <th>156</th>\n      <td>144</td>\n      <td>Articuno</td>\n      <td>Ice</td>\n      <td>Flying</td>\n      <td>580</td>\n      <td>90</td>\n      <td>85</td>\n      <td>100</td>\n      <td>95</td>\n      <td>125</td>\n      <td>85</td>\n      <td>1</td>\n      <td>True</td>\n    </tr>\n    <tr>\n      <th>157</th>\n      <td>145</td>\n      <td>Zapdos</td>\n      <td>Electric</td>\n      <td>Flying</td>\n      <td>580</td>\n      <td>90</td>\n      <td>90</td>\n      <td>85</td>\n      <td>125</td>\n      <td>90</td>\n      <td>100</td>\n      <td>1</td>\n      <td>True</td>\n    </tr>\n    <tr>\n      <th>158</th>\n      <td>146</td>\n      <td>Moltres</td>\n      <td>Fire</td>\n      <td>Flying</td>\n      <td>580</td>\n      <td>90</td>\n      <td>100</td>\n      <td>90</td>\n      <td>125</td>\n      <td>85</td>\n      <td>90</td>\n      <td>1</td>\n      <td>True</td>\n    </tr>\n    <tr>\n      <th>162</th>\n      <td>150</td>\n      <td>Mewtwo</td>\n      <td>Psychic</td>\n      <td>NaN</td>\n      <td>680</td>\n      <td>106</td>\n      <td>110</td>\n      <td>90</td>\n      <td>154</td>\n      <td>90</td>\n      <td>130</td>\n      <td>1</td>\n      <td>True</td>\n    </tr>\n    <tr>\n      <th>163</th>\n      <td>150</td>\n      <td>MewtwoMega Mewtwo X</td>\n      <td>Psychic</td>\n      <td>Fighting</td>\n      <td>780</td>\n      <td>106</td>\n      <td>190</td>\n      <td>100</td>\n      <td>154</td>\n      <td>100</td>\n      <td>130</td>\n      <td>1</td>\n      <td>True</td>\n    </tr>\n    <tr>\n      <th>...</th>\n      <td>...</td>\n      <td>...</td>\n      <td>...</td>\n      <td>...</td>\n      <td>...</td>\n      <td>...</td>\n      <td>...</td>\n      <td>...</td>\n      <td>...</td>\n      <td>...</td>\n      <td>...</td>\n      <td>...</td>\n      <td>...</td>\n    </tr>\n    <tr>\n      <th>795</th>\n      <td>719</td>\n      <td>Diancie</td>\n      <td>Rock</td>\n      <td>Fairy</td>\n      <td>600</td>\n      <td>50</td>\n      <td>100</td>\n      <td>150</td>\n      <td>100</td>\n      <td>150</td>\n      <td>50</td>\n      <td>6</td>\n      <td>True</td>\n    </tr>\n    <tr>\n      <th>796</th>\n      <td>719</td>\n      <td>DiancieMega Diancie</td>\n      <td>Rock</td>\n      <td>Fairy</td>\n      <td>700</td>\n      <td>50</td>\n      <td>160</td>\n      <td>110</td>\n      <td>160</td>\n      <td>110</td>\n      <td>110</td>\n      <td>6</td>\n      <td>True</td>\n    </tr>\n    <tr>\n      <th>797</th>\n      <td>720</td>\n      <td>HoopaHoopa Confined</td>\n      <td>Psychic</td>\n      <td>Ghost</td>\n      <td>600</td>\n      <td>80</td>\n      <td>110</td>\n      <td>60</td>\n      <td>150</td>\n      <td>130</td>\n      <td>70</td>\n      <td>6</td>\n      <td>True</td>\n    </tr>\n    <tr>\n      <th>798</th>\n      <td>720</td>\n      <td>HoopaHoopa Unbound</td>\n      <td>Psychic</td>\n      <td>Dark</td>\n      <td>680</td>\n      <td>80</td>\n      <td>160</td>\n      <td>60</td>\n      <td>170</td>\n      <td>130</td>\n      <td>80</td>\n      <td>6</td>\n      <td>True</td>\n    </tr>\n    <tr>\n      <th>799</th>\n      <td>721</td>\n      <td>Volcanion</td>\n      <td>Fire</td>\n      <td>Water</td>\n      <td>600</td>\n      <td>80</td>\n      <td>110</td>\n      <td>120</td>\n      <td>130</td>\n      <td>90</td>\n      <td>70</td>\n      <td>6</td>\n      <td>True</td>\n    </tr>\n  </tbody>\n</table>\n<p>65 rows × 13 columns</p>\n</div>"
     },
     "execution_count": 12,
     "metadata": {},
     "output_type": "execute_result"
    }
   ],
   "source": [
    "pokedex[pokedex['Legendary'] == True]"
   ],
   "metadata": {
    "collapsed": false,
    "ExecuteTime": {
     "end_time": "2023-08-28T19:39:53.657786092Z",
     "start_time": "2023-08-28T19:39:53.081829338Z"
    }
   },
   "id": "539f24e1b0daca6f"
  },
  {
   "cell_type": "code",
   "execution_count": 13,
   "outputs": [
    {
     "name": "stdout",
     "output_type": "stream",
     "text": [
      "       #      Name Type 1  Type 2  Total  HP  Attack  Defense  Sp. Atk  \\\n",
      "156  144  Articuno    Ice  Flying    580  90      85      100       95   \n",
      "243  225  Delibird    Ice  Flying    330  45      55       45       65   \n",
      "\n",
      "     Sp. Def  Speed  Generation  Legendary  \n",
      "156      125     85           1       True  \n",
      "243       45     75           2      False  \n"
     ]
    }
   ],
   "source": [
    "poke_ice_or_electric = pokedex[(pokedex['Type 1'] == 'Ice') & (pokedex['Type 2'] == 'Flying')]\n",
    "print(poke_ice_or_electric)"
   ],
   "metadata": {
    "collapsed": false,
    "ExecuteTime": {
     "end_time": "2023-08-28T19:39:53.659520411Z",
     "start_time": "2023-08-28T19:39:53.127927923Z"
    }
   },
   "id": "6f8b9169677a52ef"
  },
  {
   "cell_type": "markdown",
   "source": [
    "# Creating database \n",
    "Preparation the data"
   ],
   "metadata": {
    "collapsed": false
   },
   "id": "b1af05b23eaa10e3"
  },
  {
   "cell_type": "markdown",
   "source": [
    "## Tabela `Poke status`\n",
    "\n",
    "| Coluna    | Tipo    | Descrição                                |\n",
    "|-----------|---------|------------------------------------------|\n",
    "| id        | serial  | Identificador único do Pokémon           |\n",
    "| name      | text    | Nome do Pokémon                          |\n",
    "| total     | integer | Total de estatísticas do Pokémon         |\n",
    "| HP        | integer | Pontos de vida do Pokémon                |\n",
    "| Attack    | integer | Estatística de ataque do Pokémon         |\n",
    "| Defense   | integer | Estatística de defesa do Pokémon         |\n",
    "| Sp. Atk   | integer | Estatística de ataque especial do Pokémon|\n",
    "| Sp. Def   | integer | Estatística de defesa especial do Pokémon|\n",
    "| Speed     | integer | Velocidade do Pokémon                    |\n",
    "\n",
    "## Tabela `Poke Legendary`\n",
    "\n",
    "| Coluna    | Tipo    | Descrição                           |\n",
    "|-----------|---------|-------------------------------------|\n",
    "| id        | serial  | Identificador único do Pokémon      |\n",
    "| name      | text    | Nome do Pokémon                     |\n",
    "| type_1    | text    | Primeiro tipo do Pokémon            |\n",
    "| type_2    | text    | Segundo tipo do Pokémon (opcional)  |\n"
   ],
   "metadata": {
    "collapsed": false
   },
   "id": "235a688232fcda52"
  },
  {
   "cell_type": "code",
   "execution_count": 14,
   "outputs": [
    {
     "data": {
      "text/plain": "   #                   Name  Total  HP  Attack  Defense  Sp. Atk  Sp. Def  \\\n0  1              Bulbasaur    318  45      49       49       65       65   \n1  2                Ivysaur    405  60      62       63       80       80   \n2  3               Venusaur    525  80      82       83      100      100   \n3  3  VenusaurMega Venusaur    625  80     100      123      122      120   \n4  4             Charmander    309  39      52       43       60       50   \n\n   Speed  \n0     45  \n1     60  \n2     80  \n3     80  \n4     65  ",
      "text/html": "<div>\n<style scoped>\n    .dataframe tbody tr th:only-of-type {\n        vertical-align: middle;\n    }\n\n    .dataframe tbody tr th {\n        vertical-align: top;\n    }\n\n    .dataframe thead th {\n        text-align: right;\n    }\n</style>\n<table border=\"1\" class=\"dataframe\">\n  <thead>\n    <tr style=\"text-align: right;\">\n      <th></th>\n      <th>#</th>\n      <th>Name</th>\n      <th>Total</th>\n      <th>HP</th>\n      <th>Attack</th>\n      <th>Defense</th>\n      <th>Sp. Atk</th>\n      <th>Sp. Def</th>\n      <th>Speed</th>\n    </tr>\n  </thead>\n  <tbody>\n    <tr>\n      <th>0</th>\n      <td>1</td>\n      <td>Bulbasaur</td>\n      <td>318</td>\n      <td>45</td>\n      <td>49</td>\n      <td>49</td>\n      <td>65</td>\n      <td>65</td>\n      <td>45</td>\n    </tr>\n    <tr>\n      <th>1</th>\n      <td>2</td>\n      <td>Ivysaur</td>\n      <td>405</td>\n      <td>60</td>\n      <td>62</td>\n      <td>63</td>\n      <td>80</td>\n      <td>80</td>\n      <td>60</td>\n    </tr>\n    <tr>\n      <th>2</th>\n      <td>3</td>\n      <td>Venusaur</td>\n      <td>525</td>\n      <td>80</td>\n      <td>82</td>\n      <td>83</td>\n      <td>100</td>\n      <td>100</td>\n      <td>80</td>\n    </tr>\n    <tr>\n      <th>3</th>\n      <td>3</td>\n      <td>VenusaurMega Venusaur</td>\n      <td>625</td>\n      <td>80</td>\n      <td>100</td>\n      <td>123</td>\n      <td>122</td>\n      <td>120</td>\n      <td>80</td>\n    </tr>\n    <tr>\n      <th>4</th>\n      <td>4</td>\n      <td>Charmander</td>\n      <td>309</td>\n      <td>39</td>\n      <td>52</td>\n      <td>43</td>\n      <td>60</td>\n      <td>50</td>\n      <td>65</td>\n    </tr>\n  </tbody>\n</table>\n</div>"
     },
     "execution_count": 14,
     "metadata": {},
     "output_type": "execute_result"
    }
   ],
   "source": [
    "# Creating poke status table\n",
    "poke_status = pokedex[['#','Name','Total','HP','Attack','Defense','Sp. Atk','Sp. Def','Speed']]\n",
    "poke_status.head()"
   ],
   "metadata": {
    "collapsed": false,
    "ExecuteTime": {
     "end_time": "2023-08-28T19:39:53.666538805Z",
     "start_time": "2023-08-28T19:39:53.128674674Z"
    }
   },
   "id": "a9bd79848be0d73d"
  },
  {
   "cell_type": "code",
   "execution_count": 15,
   "outputs": [
    {
     "data": {
      "text/plain": "       #                 Name    Type 1    Type 2  Generation\n156  144             Articuno       Ice    Flying           1\n157  145               Zapdos  Electric    Flying           1\n158  146              Moltres      Fire    Flying           1\n162  150               Mewtwo   Psychic       NaN           1\n163  150  MewtwoMega Mewtwo X   Psychic  Fighting           1",
      "text/html": "<div>\n<style scoped>\n    .dataframe tbody tr th:only-of-type {\n        vertical-align: middle;\n    }\n\n    .dataframe tbody tr th {\n        vertical-align: top;\n    }\n\n    .dataframe thead th {\n        text-align: right;\n    }\n</style>\n<table border=\"1\" class=\"dataframe\">\n  <thead>\n    <tr style=\"text-align: right;\">\n      <th></th>\n      <th>#</th>\n      <th>Name</th>\n      <th>Type 1</th>\n      <th>Type 2</th>\n      <th>Generation</th>\n    </tr>\n  </thead>\n  <tbody>\n    <tr>\n      <th>156</th>\n      <td>144</td>\n      <td>Articuno</td>\n      <td>Ice</td>\n      <td>Flying</td>\n      <td>1</td>\n    </tr>\n    <tr>\n      <th>157</th>\n      <td>145</td>\n      <td>Zapdos</td>\n      <td>Electric</td>\n      <td>Flying</td>\n      <td>1</td>\n    </tr>\n    <tr>\n      <th>158</th>\n      <td>146</td>\n      <td>Moltres</td>\n      <td>Fire</td>\n      <td>Flying</td>\n      <td>1</td>\n    </tr>\n    <tr>\n      <th>162</th>\n      <td>150</td>\n      <td>Mewtwo</td>\n      <td>Psychic</td>\n      <td>NaN</td>\n      <td>1</td>\n    </tr>\n    <tr>\n      <th>163</th>\n      <td>150</td>\n      <td>MewtwoMega Mewtwo X</td>\n      <td>Psychic</td>\n      <td>Fighting</td>\n      <td>1</td>\n    </tr>\n  </tbody>\n</table>\n</div>"
     },
     "execution_count": 15,
     "metadata": {},
     "output_type": "execute_result"
    }
   ],
   "source": [
    "# Selecting only pokemon legendary == True\n",
    "poke_legen = pokedex[pokedex['Legendary'] == True]\n",
    "\n",
    "# Droping the column\n",
    "poke_drop = ['Total','HP','Attack','Defense','Sp. Atk','Sp. Def','Speed','Legendary']\n",
    "poke_legen = poke_legen.drop(poke_drop, axis=1) # axis 1 for column, 0 for row\n",
    "poke_legen.head()"
   ],
   "metadata": {
    "collapsed": false,
    "ExecuteTime": {
     "end_time": "2023-08-28T19:39:53.671773929Z",
     "start_time": "2023-08-28T19:39:53.175598358Z"
    }
   },
   "id": "fdce0545f1491ff2"
  },
  {
   "cell_type": "code",
   "execution_count": 16,
   "outputs": [],
   "source": [
    "# Renaming the columns\n",
    "poke_legen_clean = poke_legen.rename(columns={'#':'id','Name':'name','Type 1':'type_1','Type 2':'type_2','Generation':'gen'})\n",
    "poke_status_clean = poke_status.rename(columns={'#':'id','Name':'name','Total':'total','HP':'hp','Attack':'atk','Defense':'def','Sp. Atk':'sp_atk','Sp. Def':'sp_def','Speed':'speed'})"
   ],
   "metadata": {
    "collapsed": false,
    "ExecuteTime": {
     "end_time": "2023-08-28T19:39:53.673489546Z",
     "start_time": "2023-08-28T19:39:53.207782049Z"
    }
   },
   "id": "9c4538541f84da2a"
  },
  {
   "cell_type": "code",
   "execution_count": 17,
   "outputs": [
    {
     "data": {
      "text/plain": "      id                 name    type_1    type_2  gen\n156  144             Articuno       Ice    Flying    1\n157  145               Zapdos  Electric    Flying    1\n158  146              Moltres      Fire    Flying    1\n162  150               Mewtwo   Psychic       NaN    1\n163  150  MewtwoMega Mewtwo X   Psychic  Fighting    1\n..   ...                  ...       ...       ...  ...\n795  719              Diancie      Rock     Fairy    6\n796  719  DiancieMega Diancie      Rock     Fairy    6\n797  720  HoopaHoopa Confined   Psychic     Ghost    6\n798  720   HoopaHoopa Unbound   Psychic      Dark    6\n799  721            Volcanion      Fire     Water    6\n\n[65 rows x 5 columns]",
      "text/html": "<div>\n<style scoped>\n    .dataframe tbody tr th:only-of-type {\n        vertical-align: middle;\n    }\n\n    .dataframe tbody tr th {\n        vertical-align: top;\n    }\n\n    .dataframe thead th {\n        text-align: right;\n    }\n</style>\n<table border=\"1\" class=\"dataframe\">\n  <thead>\n    <tr style=\"text-align: right;\">\n      <th></th>\n      <th>id</th>\n      <th>name</th>\n      <th>type_1</th>\n      <th>type_2</th>\n      <th>gen</th>\n    </tr>\n  </thead>\n  <tbody>\n    <tr>\n      <th>156</th>\n      <td>144</td>\n      <td>Articuno</td>\n      <td>Ice</td>\n      <td>Flying</td>\n      <td>1</td>\n    </tr>\n    <tr>\n      <th>157</th>\n      <td>145</td>\n      <td>Zapdos</td>\n      <td>Electric</td>\n      <td>Flying</td>\n      <td>1</td>\n    </tr>\n    <tr>\n      <th>158</th>\n      <td>146</td>\n      <td>Moltres</td>\n      <td>Fire</td>\n      <td>Flying</td>\n      <td>1</td>\n    </tr>\n    <tr>\n      <th>162</th>\n      <td>150</td>\n      <td>Mewtwo</td>\n      <td>Psychic</td>\n      <td>NaN</td>\n      <td>1</td>\n    </tr>\n    <tr>\n      <th>163</th>\n      <td>150</td>\n      <td>MewtwoMega Mewtwo X</td>\n      <td>Psychic</td>\n      <td>Fighting</td>\n      <td>1</td>\n    </tr>\n    <tr>\n      <th>...</th>\n      <td>...</td>\n      <td>...</td>\n      <td>...</td>\n      <td>...</td>\n      <td>...</td>\n    </tr>\n    <tr>\n      <th>795</th>\n      <td>719</td>\n      <td>Diancie</td>\n      <td>Rock</td>\n      <td>Fairy</td>\n      <td>6</td>\n    </tr>\n    <tr>\n      <th>796</th>\n      <td>719</td>\n      <td>DiancieMega Diancie</td>\n      <td>Rock</td>\n      <td>Fairy</td>\n      <td>6</td>\n    </tr>\n    <tr>\n      <th>797</th>\n      <td>720</td>\n      <td>HoopaHoopa Confined</td>\n      <td>Psychic</td>\n      <td>Ghost</td>\n      <td>6</td>\n    </tr>\n    <tr>\n      <th>798</th>\n      <td>720</td>\n      <td>HoopaHoopa Unbound</td>\n      <td>Psychic</td>\n      <td>Dark</td>\n      <td>6</td>\n    </tr>\n    <tr>\n      <th>799</th>\n      <td>721</td>\n      <td>Volcanion</td>\n      <td>Fire</td>\n      <td>Water</td>\n      <td>6</td>\n    </tr>\n  </tbody>\n</table>\n<p>65 rows × 5 columns</p>\n</div>"
     },
     "execution_count": 17,
     "metadata": {},
     "output_type": "execute_result"
    }
   ],
   "source": [
    "poke_legen_clean"
   ],
   "metadata": {
    "collapsed": false,
    "ExecuteTime": {
     "end_time": "2023-08-28T19:39:53.677038984Z",
     "start_time": "2023-08-28T19:39:53.234240529Z"
    }
   },
   "id": "99035b4eb3ba4941"
  },
  {
   "cell_type": "code",
   "execution_count": 18,
   "outputs": [
    {
     "data": {
      "text/plain": "      id                   name  total  hp  atk  def  sp_atk  sp_def  speed\n0      1              Bulbasaur    318  45   49   49      65      65     45\n1      2                Ivysaur    405  60   62   63      80      80     60\n2      3               Venusaur    525  80   82   83     100     100     80\n3      3  VenusaurMega Venusaur    625  80  100  123     122     120     80\n4      4             Charmander    309  39   52   43      60      50     65\n..   ...                    ...    ...  ..  ...  ...     ...     ...    ...\n795  719                Diancie    600  50  100  150     100     150     50\n796  719    DiancieMega Diancie    700  50  160  110     160     110    110\n797  720    HoopaHoopa Confined    600  80  110   60     150     130     70\n798  720     HoopaHoopa Unbound    680  80  160   60     170     130     80\n799  721              Volcanion    600  80  110  120     130      90     70\n\n[800 rows x 9 columns]",
      "text/html": "<div>\n<style scoped>\n    .dataframe tbody tr th:only-of-type {\n        vertical-align: middle;\n    }\n\n    .dataframe tbody tr th {\n        vertical-align: top;\n    }\n\n    .dataframe thead th {\n        text-align: right;\n    }\n</style>\n<table border=\"1\" class=\"dataframe\">\n  <thead>\n    <tr style=\"text-align: right;\">\n      <th></th>\n      <th>id</th>\n      <th>name</th>\n      <th>total</th>\n      <th>hp</th>\n      <th>atk</th>\n      <th>def</th>\n      <th>sp_atk</th>\n      <th>sp_def</th>\n      <th>speed</th>\n    </tr>\n  </thead>\n  <tbody>\n    <tr>\n      <th>0</th>\n      <td>1</td>\n      <td>Bulbasaur</td>\n      <td>318</td>\n      <td>45</td>\n      <td>49</td>\n      <td>49</td>\n      <td>65</td>\n      <td>65</td>\n      <td>45</td>\n    </tr>\n    <tr>\n      <th>1</th>\n      <td>2</td>\n      <td>Ivysaur</td>\n      <td>405</td>\n      <td>60</td>\n      <td>62</td>\n      <td>63</td>\n      <td>80</td>\n      <td>80</td>\n      <td>60</td>\n    </tr>\n    <tr>\n      <th>2</th>\n      <td>3</td>\n      <td>Venusaur</td>\n      <td>525</td>\n      <td>80</td>\n      <td>82</td>\n      <td>83</td>\n      <td>100</td>\n      <td>100</td>\n      <td>80</td>\n    </tr>\n    <tr>\n      <th>3</th>\n      <td>3</td>\n      <td>VenusaurMega Venusaur</td>\n      <td>625</td>\n      <td>80</td>\n      <td>100</td>\n      <td>123</td>\n      <td>122</td>\n      <td>120</td>\n      <td>80</td>\n    </tr>\n    <tr>\n      <th>4</th>\n      <td>4</td>\n      <td>Charmander</td>\n      <td>309</td>\n      <td>39</td>\n      <td>52</td>\n      <td>43</td>\n      <td>60</td>\n      <td>50</td>\n      <td>65</td>\n    </tr>\n    <tr>\n      <th>...</th>\n      <td>...</td>\n      <td>...</td>\n      <td>...</td>\n      <td>...</td>\n      <td>...</td>\n      <td>...</td>\n      <td>...</td>\n      <td>...</td>\n      <td>...</td>\n    </tr>\n    <tr>\n      <th>795</th>\n      <td>719</td>\n      <td>Diancie</td>\n      <td>600</td>\n      <td>50</td>\n      <td>100</td>\n      <td>150</td>\n      <td>100</td>\n      <td>150</td>\n      <td>50</td>\n    </tr>\n    <tr>\n      <th>796</th>\n      <td>719</td>\n      <td>DiancieMega Diancie</td>\n      <td>700</td>\n      <td>50</td>\n      <td>160</td>\n      <td>110</td>\n      <td>160</td>\n      <td>110</td>\n      <td>110</td>\n    </tr>\n    <tr>\n      <th>797</th>\n      <td>720</td>\n      <td>HoopaHoopa Confined</td>\n      <td>600</td>\n      <td>80</td>\n      <td>110</td>\n      <td>60</td>\n      <td>150</td>\n      <td>130</td>\n      <td>70</td>\n    </tr>\n    <tr>\n      <th>798</th>\n      <td>720</td>\n      <td>HoopaHoopa Unbound</td>\n      <td>680</td>\n      <td>80</td>\n      <td>160</td>\n      <td>60</td>\n      <td>170</td>\n      <td>130</td>\n      <td>80</td>\n    </tr>\n    <tr>\n      <th>799</th>\n      <td>721</td>\n      <td>Volcanion</td>\n      <td>600</td>\n      <td>80</td>\n      <td>110</td>\n      <td>120</td>\n      <td>130</td>\n      <td>90</td>\n      <td>70</td>\n    </tr>\n  </tbody>\n</table>\n<p>800 rows × 9 columns</p>\n</div>"
     },
     "execution_count": 18,
     "metadata": {},
     "output_type": "execute_result"
    }
   ],
   "source": [
    "poke_status_clean"
   ],
   "metadata": {
    "collapsed": false,
    "ExecuteTime": {
     "end_time": "2023-08-28T19:39:53.684517656Z",
     "start_time": "2023-08-28T19:39:53.266751771Z"
    }
   },
   "id": "44548af359360110"
  },
  {
   "cell_type": "code",
   "execution_count": 28,
   "outputs": [],
   "source": [
    "db_url = 'sqlite:///../pokemon-db.sqlite'\n",
    "\n",
    "# Crating engine database\n",
    "engine = create_engine(db_url)"
   ],
   "metadata": {
    "collapsed": false,
    "ExecuteTime": {
     "end_time": "2023-08-28T19:42:48.262220004Z",
     "start_time": "2023-08-28T19:42:48.205335139Z"
    }
   },
   "id": "184fc1c49401e403"
  },
  {
   "cell_type": "code",
   "execution_count": 29,
   "outputs": [
    {
     "data": {
      "text/plain": "   Unnamed: 0  id                   name  total  hp  atk  def  sp_atk  sp_def  \\\n0           0   1              Bulbasaur    318  45   49   49      65      65   \n1           1   2                Ivysaur    405  60   62   63      80      80   \n2           2   3               Venusaur    525  80   82   83     100     100   \n3           3   3  VenusaurMega Venusaur    625  80  100  123     122     120   \n4           4   4             Charmander    309  39   52   43      60      50   \n\n   speed  \n0     45  \n1     60  \n2     80  \n3     80  \n4     65  ",
      "text/html": "<div>\n<style scoped>\n    .dataframe tbody tr th:only-of-type {\n        vertical-align: middle;\n    }\n\n    .dataframe tbody tr th {\n        vertical-align: top;\n    }\n\n    .dataframe thead th {\n        text-align: right;\n    }\n</style>\n<table border=\"1\" class=\"dataframe\">\n  <thead>\n    <tr style=\"text-align: right;\">\n      <th></th>\n      <th>Unnamed: 0</th>\n      <th>id</th>\n      <th>name</th>\n      <th>total</th>\n      <th>hp</th>\n      <th>atk</th>\n      <th>def</th>\n      <th>sp_atk</th>\n      <th>sp_def</th>\n      <th>speed</th>\n    </tr>\n  </thead>\n  <tbody>\n    <tr>\n      <th>0</th>\n      <td>0</td>\n      <td>1</td>\n      <td>Bulbasaur</td>\n      <td>318</td>\n      <td>45</td>\n      <td>49</td>\n      <td>49</td>\n      <td>65</td>\n      <td>65</td>\n      <td>45</td>\n    </tr>\n    <tr>\n      <th>1</th>\n      <td>1</td>\n      <td>2</td>\n      <td>Ivysaur</td>\n      <td>405</td>\n      <td>60</td>\n      <td>62</td>\n      <td>63</td>\n      <td>80</td>\n      <td>80</td>\n      <td>60</td>\n    </tr>\n    <tr>\n      <th>2</th>\n      <td>2</td>\n      <td>3</td>\n      <td>Venusaur</td>\n      <td>525</td>\n      <td>80</td>\n      <td>82</td>\n      <td>83</td>\n      <td>100</td>\n      <td>100</td>\n      <td>80</td>\n    </tr>\n    <tr>\n      <th>3</th>\n      <td>3</td>\n      <td>3</td>\n      <td>VenusaurMega Venusaur</td>\n      <td>625</td>\n      <td>80</td>\n      <td>100</td>\n      <td>123</td>\n      <td>122</td>\n      <td>120</td>\n      <td>80</td>\n    </tr>\n    <tr>\n      <th>4</th>\n      <td>4</td>\n      <td>4</td>\n      <td>Charmander</td>\n      <td>309</td>\n      <td>39</td>\n      <td>52</td>\n      <td>43</td>\n      <td>60</td>\n      <td>50</td>\n      <td>65</td>\n    </tr>\n  </tbody>\n</table>\n</div>"
     },
     "execution_count": 29,
     "metadata": {},
     "output_type": "execute_result"
    }
   ],
   "source": [
    "# open csv table poke status\n",
    "table_status = pd.read_csv('datasets/poke_status2.csv',delimiter=',')\n",
    "\n",
    "# open csv table poke legendary\n",
    "table_legen = pd.read_csv('datasets/poke_legen2.csv', delimiter=',')\n",
    "\n",
    "# Droping the column unamed\n",
    "\n",
    "table_status.head()"
   ],
   "metadata": {
    "collapsed": false,
    "ExecuteTime": {
     "end_time": "2023-08-28T19:42:50.869046805Z",
     "start_time": "2023-08-28T19:42:50.814312176Z"
    }
   },
   "id": "778927153294925f"
  },
  {
   "cell_type": "code",
   "execution_count": 30,
   "outputs": [
    {
     "data": {
      "text/plain": "800"
     },
     "execution_count": 30,
     "metadata": {},
     "output_type": "execute_result"
    }
   ],
   "source": [
    "table_legen.to_sql('pokemon_legendary',engine, if_exists='replace',index=False)\n",
    "table_status.to_sql('pokemon_status',engine,if_exists='replace',index=False)"
   ],
   "metadata": {
    "collapsed": false,
    "ExecuteTime": {
     "end_time": "2023-08-28T19:42:53.400612505Z",
     "start_time": "2023-08-28T19:42:53.269514309Z"
    }
   },
   "id": "c3fad8c0f650087e"
  },
  {
   "cell_type": "code",
   "execution_count": null,
   "outputs": [],
   "source": [],
   "metadata": {
    "collapsed": false,
    "ExecuteTime": {
     "start_time": "2023-08-28T19:39:53.927924649Z"
    }
   },
   "id": "e4b0ae7d2782cc8a"
  }
 ],
 "metadata": {
  "kernelspec": {
   "display_name": "Python 3",
   "language": "python",
   "name": "python3"
  },
  "language_info": {
   "codemirror_mode": {
    "name": "ipython",
    "version": 2
   },
   "file_extension": ".py",
   "mimetype": "text/x-python",
   "name": "python",
   "nbconvert_exporter": "python",
   "pygments_lexer": "ipython2",
   "version": "2.7.6"
  }
 },
 "nbformat": 4,
 "nbformat_minor": 5
}
