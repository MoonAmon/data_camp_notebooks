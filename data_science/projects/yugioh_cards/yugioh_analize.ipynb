{
 "cells": [
  {
   "cell_type": "code",
   "execution_count": 7,
   "metadata": {},
   "outputs": [],
   "source": [
    "import pandas as pd\n",
    "import re"
   ]
  },
  {
   "cell_type": "markdown",
   "metadata": {},
   "source": [
    "# Yu-Gi-Oh dataset"
   ]
  },
  {
   "cell_type": "code",
   "execution_count": 13,
   "metadata": {},
   "outputs": [
    {
     "data": {
      "text/plain": [
       "type\n",
       "Effect Monster                     4589\n",
       "Normal Monster                      660\n",
       "XYZ Monster                         502\n",
       "Fusion Monster                      444\n",
       "Tuner Monster                       443\n",
       "Synchro Monster                     411\n",
       "Link Monster                        390\n",
       "Pendulum Effect Monster             263\n",
       "Flip Effect Monster                 179\n",
       "Ritual Effect Monster               114\n",
       "Gemini Monster                       45\n",
       "Pendulum Normal Monster              37\n",
       "Union Effect Monster                 36\n",
       "Spirit Monster                       33\n",
       "Synchro Tuner Monster                24\n",
       "Toon Monster                         17\n",
       "Ritual Monster                       15\n",
       "Pendulum Effect Fusion Monster       11\n",
       "Normal Tuner Monster                 10\n",
       "XYZ Pendulum Effect Monster           9\n",
       "Pendulum Tuner Effect Monster         8\n",
       "Synchro Pendulum Effect Monster       7\n",
       "Pendulum Flip Effect Monster          1\n",
       "Pendulum Effect Ritual Monster        1\n",
       "Name: count, dtype: int64"
      ]
     },
     "execution_count": 13,
     "metadata": {},
     "output_type": "execute_result"
    }
   ],
   "source": [
    "# Open the csv file\n",
    "df = pd.read_csv('all_cards.csv')\n",
    "\n",
    "# Describe the dataframe\n",
    "df.describe()\n",
    "\n",
    "# Get the count of the types\n",
    "count_types = df.value_counts('type')\n",
    "\n",
    "# Regex for filter the monsters cards\n",
    "regex = r'\\bMonster'\n",
    "monsters_df = df[df['type'].str.contains(regex, regex=True)]\n",
    "\n",
    "# Get the count of the monsters types\n",
    "count_monsters = monsters_df.value_counts('type')\n",
    "\n"
   ]
  }
 ],
 "metadata": {
  "kernelspec": {
   "display_name": "Python 3",
   "language": "python",
   "name": "python3"
  },
  "language_info": {
   "codemirror_mode": {
    "name": "ipython",
    "version": 3
   },
   "file_extension": ".py",
   "mimetype": "text/x-python",
   "name": "python",
   "nbconvert_exporter": "python",
   "pygments_lexer": "ipython3",
   "version": "3.12.0"
  }
 },
 "nbformat": 4,
 "nbformat_minor": 2
}
