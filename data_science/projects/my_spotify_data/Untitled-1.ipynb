{
 "cells": [
  {
   "cell_type": "markdown",
   "metadata": {},
   "source": [
    "# Import Required Libraries\n",
    "Import the necessary libraries, including pandas."
   ]
  },
  {
   "cell_type": "code",
   "execution_count": 4,
   "metadata": {},
   "outputs": [],
   "source": [
    "import pandas as pd\n",
    "import numpy as np"
   ]
  },
  {
   "cell_type": "markdown",
   "metadata": {},
   "source": [
    "# Load the Dataset\n",
    "Load the Spotify streaming history dataset into a pandas DataFrame."
   ]
  },
  {
   "cell_type": "code",
   "execution_count": 18,
   "metadata": {},
   "outputs": [
    {
     "data": {
      "text/plain": [
       "ts\n",
       "October      3524\n",
       "September    3478\n",
       "August       2950\n",
       "November     2240\n",
       "June         1889\n",
       "July         1733\n",
       "December      279\n",
       "March           3\n",
       "January         1\n",
       "Name: count, dtype: int64"
      ]
     },
     "execution_count": 18,
     "metadata": {},
     "output_type": "execute_result"
    }
   ],
   "source": [
    "# Path of datasets\n",
    "path = 'datasets/streaming_history/Streaming_History_Audio_2017-2018_0.json'\n",
    "\n",
    "# Load the dataset into a pandas DataFrame\n",
    "spotify_data = pd.read_json(path)\n",
    "spotify_data['ts'] = pd.to_datetime(spotify_data['ts'])\n",
    "\n",
    "# Display the first few rows of the DataFrame to verify it was loaded correctly\n",
    "spotify_data['ts'].dt.month_name().value_counts()\n",
    "\n"
   ]
  },
  {
   "cell_type": "markdown",
   "metadata": {},
   "source": [
    "# Inspect the Dataset\n",
    "Inspect the dataset using methods like info() and describe()."
   ]
  },
  {
   "cell_type": "code",
   "execution_count": 9,
   "metadata": {},
   "outputs": [
    {
     "name": "stdout",
     "output_type": "stream",
     "text": [
      "<class 'pandas.core.frame.DataFrame'>\n",
      "RangeIndex: 16097 entries, 0 to 16096\n",
      "Data columns (total 21 columns):\n",
      " #   Column                             Non-Null Count  Dtype              \n",
      "---  ------                             --------------  -----              \n",
      " 0   ts                                 16097 non-null  datetime64[ns, UTC]\n",
      " 1   username                           16097 non-null  object             \n",
      " 2   platform                           16097 non-null  object             \n",
      " 3   ms_played                          16097 non-null  int64              \n",
      " 4   conn_country                       16097 non-null  object             \n",
      " 5   ip_addr_decrypted                  8255 non-null   object             \n",
      " 6   user_agent_decrypted               8255 non-null   object             \n",
      " 7   master_metadata_track_name         15969 non-null  object             \n",
      " 8   master_metadata_album_artist_name  15969 non-null  object             \n",
      " 9   master_metadata_album_album_name   15969 non-null  object             \n",
      " 10  spotify_track_uri                  15969 non-null  object             \n",
      " 11  episode_name                       2 non-null      object             \n",
      " 12  episode_show_name                  2 non-null      object             \n",
      " 13  spotify_episode_uri                2 non-null      object             \n",
      " 14  reason_start                       16097 non-null  object             \n",
      " 15  reason_end                         8255 non-null   object             \n",
      " 16  shuffle                            16097 non-null  bool               \n",
      " 17  skipped                            10 non-null     float64            \n",
      " 18  offline                            16097 non-null  bool               \n",
      " 19  offline_timestamp                  16097 non-null  int64              \n",
      " 20  incognito_mode                     16097 non-null  bool               \n",
      "dtypes: bool(3), datetime64[ns, UTC](1), float64(1), int64(2), object(14)\n",
      "memory usage: 2.3+ MB\n"
     ]
    },
    {
     "data": {
      "text/html": [
       "<div>\n",
       "<style scoped>\n",
       "    .dataframe tbody tr th:only-of-type {\n",
       "        vertical-align: middle;\n",
       "    }\n",
       "\n",
       "    .dataframe tbody tr th {\n",
       "        vertical-align: top;\n",
       "    }\n",
       "\n",
       "    .dataframe thead th {\n",
       "        text-align: right;\n",
       "    }\n",
       "</style>\n",
       "<table border=\"1\" class=\"dataframe\">\n",
       "  <thead>\n",
       "    <tr style=\"text-align: right;\">\n",
       "      <th></th>\n",
       "      <th>ms_played</th>\n",
       "      <th>skipped</th>\n",
       "      <th>offline_timestamp</th>\n",
       "    </tr>\n",
       "  </thead>\n",
       "  <tbody>\n",
       "    <tr>\n",
       "      <th>count</th>\n",
       "      <td>16097.000000</td>\n",
       "      <td>10.0</td>\n",
       "      <td>1.609700e+04</td>\n",
       "    </tr>\n",
       "    <tr>\n",
       "      <th>mean</th>\n",
       "      <td>116160.007703</td>\n",
       "      <td>0.0</td>\n",
       "      <td>1.432568e+12</td>\n",
       "    </tr>\n",
       "    <tr>\n",
       "      <th>std</th>\n",
       "      <td>106978.649011</td>\n",
       "      <td>0.0</td>\n",
       "      <td>3.584190e+11</td>\n",
       "    </tr>\n",
       "    <tr>\n",
       "      <th>min</th>\n",
       "      <td>0.000000</td>\n",
       "      <td>0.0</td>\n",
       "      <td>0.000000e+00</td>\n",
       "    </tr>\n",
       "    <tr>\n",
       "      <th>25%</th>\n",
       "      <td>4979.000000</td>\n",
       "      <td>0.0</td>\n",
       "      <td>1.508683e+12</td>\n",
       "    </tr>\n",
       "    <tr>\n",
       "      <th>50%</th>\n",
       "      <td>102663.000000</td>\n",
       "      <td>0.0</td>\n",
       "      <td>1.529621e+12</td>\n",
       "    </tr>\n",
       "    <tr>\n",
       "      <th>75%</th>\n",
       "      <td>214425.000000</td>\n",
       "      <td>0.0</td>\n",
       "      <td>1.534514e+12</td>\n",
       "    </tr>\n",
       "    <tr>\n",
       "      <th>max</th>\n",
       "      <td>861083.000000</td>\n",
       "      <td>0.0</td>\n",
       "      <td>1.538428e+12</td>\n",
       "    </tr>\n",
       "  </tbody>\n",
       "</table>\n",
       "</div>"
      ],
      "text/plain": [
       "           ms_played  skipped  offline_timestamp\n",
       "count   16097.000000     10.0       1.609700e+04\n",
       "mean   116160.007703      0.0       1.432568e+12\n",
       "std    106978.649011      0.0       3.584190e+11\n",
       "min         0.000000      0.0       0.000000e+00\n",
       "25%      4979.000000      0.0       1.508683e+12\n",
       "50%    102663.000000      0.0       1.529621e+12\n",
       "75%    214425.000000      0.0       1.534514e+12\n",
       "max    861083.000000      0.0       1.538428e+12"
      ]
     },
     "execution_count": 9,
     "metadata": {},
     "output_type": "execute_result"
    }
   ],
   "source": [
    "# Use the info() method to get a concise summary of the DataFrame\n",
    "spotify_data.info()\n",
    "\n",
    "# Use the describe() method to generate descriptive statistics of the DataFrame\n",
    "spotify_data.describe()"
   ]
  },
  {
   "cell_type": "markdown",
   "metadata": {},
   "source": [
    "# Handle Missing Data\n",
    "Handle any missing data in the dataset, either by removing it or filling it in."
   ]
  },
  {
   "cell_type": "code",
   "execution_count": 6,
   "metadata": {},
   "outputs": [
    {
     "name": "stdout",
     "output_type": "stream",
     "text": [
      "ts                                       0\n",
      "username                                 0\n",
      "platform                                 0\n",
      "ms_played                                0\n",
      "conn_country                             0\n",
      "ip_addr_decrypted                     7842\n",
      "user_agent_decrypted                  7842\n",
      "master_metadata_track_name             128\n",
      "master_metadata_album_artist_name      128\n",
      "master_metadata_album_album_name       128\n",
      "spotify_track_uri                      128\n",
      "episode_name                         16095\n",
      "episode_show_name                    16095\n",
      "spotify_episode_uri                  16095\n",
      "reason_start                             0\n",
      "reason_end                            7842\n",
      "shuffle                                  0\n",
      "skipped                              16087\n",
      "offline                                  0\n",
      "offline_timestamp                        0\n",
      "incognito_mode                           0\n",
      "dtype: int64\n"
     ]
    }
   ],
   "source": [
    "# Count the missing values \n",
    "sum_missing_values = spotify_data.isna().sum()\n",
    "print(sum_missing_values)"
   ]
  },
  {
   "cell_type": "markdown",
   "metadata": {},
   "source": [
    "# Convert Data Types\n",
    "Convert the data types of any columns that are not correctly typed."
   ]
  },
  {
   "cell_type": "code",
   "execution_count": null,
   "metadata": {},
   "outputs": [],
   "source": []
  },
  {
   "cell_type": "markdown",
   "metadata": {},
   "source": [
    "# Normalize Text Data\n",
    "Normalize the text data by converting it to lowercase and removing any special characters."
   ]
  },
  {
   "cell_type": "code",
   "execution_count": null,
   "metadata": {},
   "outputs": [],
   "source": [
    "# Normalize Text Data\n",
    "\n",
    "```python\n",
    "# Importing the re library for regular expressions\n",
    "import re\n",
    "\n",
    "# Function to normalize text data\n",
    "def normalize_text(text):\n",
    "    # Convert text to lowercase\n",
    "    text = text.lower()\n",
    "    # Remove special characters\n",
    "    text = re.sub(r'\\W', ' ', text)\n",
    "    # Replace multiple spaces with a single space\n",
    "    text = re.sub(r'\\s+', ' ', text)\n",
    "    return text\n",
    "\n",
    "# Apply the normalize_text function to all text columns\n",
    "for col in spotify_data.select_dtypes(include=[np.object]).columns:\n",
    "    spotify_data[col] = spotify_data[col].apply(normalize_text)\n",
    "\n",
    "# Verify the changes\n",
    "spotify_data.head()\n",
    "```\n"
   ]
  },
  {
   "cell_type": "markdown",
   "metadata": {},
   "source": [
    "# Extract Date and Time Features\n",
    "Extract useful features from any date and time columns, such as the day of the week or the hour of the day."
   ]
  },
  {
   "cell_type": "code",
   "execution_count": null,
   "metadata": {},
   "outputs": [],
   "source": [
    "# Extract Date and Time Features\n",
    "\n",
    "```python\n",
    "# Extract the day of the week from the 'endTime' column\n",
    "# The day of the week with Monday=0, Sunday=6\n",
    "spotify_data['day_of_week'] = spotify_data['endTime'].dt.dayofweek\n",
    "\n",
    "# Extract the hour of the day from the 'endTime' column\n",
    "spotify_data['hour_of_day'] = spotify_data['endTime'].dt.hour\n",
    "\n",
    "# Verify the changes\n",
    "spotify_data.head()\n",
    "```"
   ]
  },
  {
   "cell_type": "markdown",
   "metadata": {},
   "source": [
    "# Save Cleaned Data\n",
    "Save the cleaned data to a new CSV file for further analysis."
   ]
  },
  {
   "cell_type": "code",
   "execution_count": null,
   "metadata": {},
   "outputs": [],
   "source": [
    "# Save Cleaned Data\n",
    "\n",
    "```python\n",
    "# Define the path to the new CSV file where the cleaned data will be saved\n",
    "cleaned_file_path = 'cleaned_spotify_streaming_history.csv'\n",
    "\n",
    "# Save the cleaned data to the new CSV file\n",
    "# The index=False parameter prevents pandas from writing row indices into the CSV file\n",
    "spotify_data.to_csv(cleaned_file_path, index=False)\n",
    "```"
   ]
  }
 ],
 "metadata": {
  "kernelspec": {
   "display_name": "Python 3",
   "language": "python",
   "name": "python3"
  },
  "language_info": {
   "codemirror_mode": {
    "name": "ipython",
    "version": 3
   },
   "file_extension": ".py",
   "mimetype": "text/x-python",
   "name": "python",
   "nbconvert_exporter": "python",
   "pygments_lexer": "ipython3",
   "version": "3.12.0"
  },
  "orig_nbformat": 4
 },
 "nbformat": 4,
 "nbformat_minor": 2
}
