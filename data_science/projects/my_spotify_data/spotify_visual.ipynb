{
 "cells": [
  {
   "cell_type": "code",
   "execution_count": 13,
   "metadata": {},
   "outputs": [],
   "source": [
    "import pandas as pd\n",
    "import matplotlib.pyplot as plt\n",
    "import spotipy\n",
    "from spotipy.oauth2 import SpotifyClientCredentials\n",
    "from spotipy.oauth2 import SpotifyOAuth"
   ]
  },
  {
   "cell_type": "code",
   "execution_count": 11,
   "metadata": {},
   "outputs": [
    {
     "name": "stdout",
     "output_type": "stream",
     "text": [
      "{'tracks': {'href': 'https://api.spotify.com/v1/search?query=artist%3AQueen&type=track&offset=0&limit=10', 'items': [{'album': {'album_type': 'album', 'artists': [{'external_urls': {'spotify': 'https://open.spotify.com/artist/1dfeR4HaWDbWqFHLkxsg1d'}, 'href': 'https://api.spotify.com/v1/artists/1dfeR4HaWDbWqFHLkxsg1d', 'id': '1dfeR4HaWDbWqFHLkxsg1d', 'name': 'Queen', 'type': 'artist', 'uri': 'spotify:artist:1dfeR4HaWDbWqFHLkxsg1d'}], 'available_markets': ['CA', 'US'], 'external_urls': {'spotify': 'https://open.spotify.com/album/21HMAUrbbYSj9NiPPlGumy'}, 'href': 'https://api.spotify.com/v1/albums/21HMAUrbbYSj9NiPPlGumy', 'id': '21HMAUrbbYSj9NiPPlGumy', 'images': [{'height': 640, 'url': 'https://i.scdn.co/image/ab67616d0000b273008b06ec71019afd70153889', 'width': 640}, {'height': 300, 'url': 'https://i.scdn.co/image/ab67616d00001e02008b06ec71019afd70153889', 'width': 300}, {'height': 64, 'url': 'https://i.scdn.co/image/ab67616d00004851008b06ec71019afd70153889', 'width': 64}], 'name': 'Jazz (Deluxe Remastered Version)', 'release_date': '1978-11-10', 'release_date_precision': 'day', 'total_tracks': 18, 'type': 'album', 'uri': 'spotify:album:21HMAUrbbYSj9NiPPlGumy'}, 'artists': [{'external_urls': {'spotify': 'https://open.spotify.com/artist/1dfeR4HaWDbWqFHLkxsg1d'}, 'href': 'https://api.spotify.com/v1/artists/1dfeR4HaWDbWqFHLkxsg1d', 'id': '1dfeR4HaWDbWqFHLkxsg1d', 'name': 'Queen', 'type': 'artist', 'uri': 'spotify:artist:1dfeR4HaWDbWqFHLkxsg1d'}], 'available_markets': ['CA', 'US'], 'disc_number': 1, 'duration_ms': 209413, 'explicit': False, 'external_ids': {'isrc': 'GBUM71029610'}, 'external_urls': {'spotify': 'https://open.spotify.com/track/7hQJA50XrCWABAu5v6QZ4i'}, 'href': 'https://api.spotify.com/v1/tracks/7hQJA50XrCWABAu5v6QZ4i', 'id': '7hQJA50XrCWABAu5v6QZ4i', 'is_local': False, 'name': \"Don't Stop Me Now - Remastered 2011\", 'popularity': 77, 'preview_url': None, 'track_number': 12, 'type': 'track', 'uri': 'spotify:track:7hQJA50XrCWABAu5v6QZ4i'}, {'album': {'album_type': 'album', 'artists': [{'external_urls': {'spotify': 'https://open.spotify.com/artist/1dfeR4HaWDbWqFHLkxsg1d'}, 'href': 'https://api.spotify.com/v1/artists/1dfeR4HaWDbWqFHLkxsg1d', 'id': '1dfeR4HaWDbWqFHLkxsg1d', 'name': 'Queen', 'type': 'artist', 'uri': 'spotify:artist:1dfeR4HaWDbWqFHLkxsg1d'}], 'available_markets': ['CA', 'US'], 'external_urls': {'spotify': 'https://open.spotify.com/album/6wPXUmYJ9mOWrKlLzZ5cCa'}, 'href': 'https://api.spotify.com/v1/albums/6wPXUmYJ9mOWrKlLzZ5cCa', 'id': '6wPXUmYJ9mOWrKlLzZ5cCa', 'images': [{'height': 640, 'url': 'https://i.scdn.co/image/ab67616d0000b27307744e2ed983efa3e6620a47', 'width': 640}, {'height': 300, 'url': 'https://i.scdn.co/image/ab67616d00001e0207744e2ed983efa3e6620a47', 'width': 300}, {'height': 64, 'url': 'https://i.scdn.co/image/ab67616d0000485107744e2ed983efa3e6620a47', 'width': 64}], 'name': 'The Game (Deluxe Remastered Version)', 'release_date': '1980-06-27', 'release_date_precision': 'day', 'total_tracks': 15, 'type': 'album', 'uri': 'spotify:album:6wPXUmYJ9mOWrKlLzZ5cCa'}, 'artists': [{'external_urls': {'spotify': 'https://open.spotify.com/artist/1dfeR4HaWDbWqFHLkxsg1d'}, 'href': 'https://api.spotify.com/v1/artists/1dfeR4HaWDbWqFHLkxsg1d', 'id': '1dfeR4HaWDbWqFHLkxsg1d', 'name': 'Queen', 'type': 'artist', 'uri': 'spotify:artist:1dfeR4HaWDbWqFHLkxsg1d'}], 'available_markets': ['CA', 'US'], 'disc_number': 1, 'duration_ms': 214653, 'explicit': False, 'external_ids': {'isrc': 'GBUM71029605'}, 'external_urls': {'spotify': 'https://open.spotify.com/track/57JVGBtBLCfHw2muk5416J'}, 'href': 'https://api.spotify.com/v1/tracks/57JVGBtBLCfHw2muk5416J', 'id': '57JVGBtBLCfHw2muk5416J', 'is_local': False, 'name': 'Another One Bites The Dust - Remastered 2011', 'popularity': 76, 'preview_url': None, 'track_number': 3, 'type': 'track', 'uri': 'spotify:track:57JVGBtBLCfHw2muk5416J'}, {'album': {'album_type': 'album', 'artists': [{'external_urls': {'spotify': 'https://open.spotify.com/artist/1dfeR4HaWDbWqFHLkxsg1d'}, 'href': 'https://api.spotify.com/v1/artists/1dfeR4HaWDbWqFHLkxsg1d', 'id': '1dfeR4HaWDbWqFHLkxsg1d', 'name': 'Queen', 'type': 'artist', 'uri': 'spotify:artist:1dfeR4HaWDbWqFHLkxsg1d'}], 'available_markets': ['CA', 'US'], 'external_urls': {'spotify': 'https://open.spotify.com/album/6X9k3hSsvQck2OfKYdBbXr'}, 'href': 'https://api.spotify.com/v1/albums/6X9k3hSsvQck2OfKYdBbXr', 'id': '6X9k3hSsvQck2OfKYdBbXr', 'images': [{'height': 640, 'url': 'https://i.scdn.co/image/ab67616d0000b273ce4f1737bc8a646c8c4bd25a', 'width': 640}, {'height': 300, 'url': 'https://i.scdn.co/image/ab67616d00001e02ce4f1737bc8a646c8c4bd25a', 'width': 300}, {'height': 64, 'url': 'https://i.scdn.co/image/ab67616d00004851ce4f1737bc8a646c8c4bd25a', 'width': 64}], 'name': 'A Night At The Opera (Deluxe Remastered Version)', 'release_date': '1975-11-21', 'release_date_precision': 'day', 'total_tracks': 18, 'type': 'album', 'uri': 'spotify:album:6X9k3hSsvQck2OfKYdBbXr'}, 'artists': [{'external_urls': {'spotify': 'https://open.spotify.com/artist/1dfeR4HaWDbWqFHLkxsg1d'}, 'href': 'https://api.spotify.com/v1/artists/1dfeR4HaWDbWqFHLkxsg1d', 'id': '1dfeR4HaWDbWqFHLkxsg1d', 'name': 'Queen', 'type': 'artist', 'uri': 'spotify:artist:1dfeR4HaWDbWqFHLkxsg1d'}], 'available_markets': ['CA', 'US'], 'disc_number': 1, 'duration_ms': 354320, 'explicit': False, 'external_ids': {'isrc': 'GBUM71029604'}, 'external_urls': {'spotify': 'https://open.spotify.com/track/7tFiyTwD0nx5a1eklYtX2J'}, 'href': 'https://api.spotify.com/v1/tracks/7tFiyTwD0nx5a1eklYtX2J', 'id': '7tFiyTwD0nx5a1eklYtX2J', 'is_local': False, 'name': 'Bohemian Rhapsody - Remastered 2011', 'popularity': 75, 'preview_url': None, 'track_number': 11, 'type': 'track', 'uri': 'spotify:track:7tFiyTwD0nx5a1eklYtX2J'}, {'album': {'album_type': 'album', 'artists': [{'external_urls': {'spotify': 'https://open.spotify.com/artist/1dfeR4HaWDbWqFHLkxsg1d'}, 'href': 'https://api.spotify.com/v1/artists/1dfeR4HaWDbWqFHLkxsg1d', 'id': '1dfeR4HaWDbWqFHLkxsg1d', 'name': 'Queen', 'type': 'artist', 'uri': 'spotify:artist:1dfeR4HaWDbWqFHLkxsg1d'}], 'available_markets': ['CA', 'US'], 'external_urls': {'spotify': 'https://open.spotify.com/album/0xc5IpJM39eEEYSKDrm5kf'}, 'href': 'https://api.spotify.com/v1/albums/0xc5IpJM39eEEYSKDrm5kf', 'id': '0xc5IpJM39eEEYSKDrm5kf', 'images': [{'height': 640, 'url': 'https://i.scdn.co/image/ab67616d0000b273a1e05e1048e2cf2737adf742', 'width': 640}, {'height': 300, 'url': 'https://i.scdn.co/image/ab67616d00001e02a1e05e1048e2cf2737adf742', 'width': 300}, {'height': 64, 'url': 'https://i.scdn.co/image/ab67616d00004851a1e05e1048e2cf2737adf742', 'width': 64}], 'name': 'Hot Space (Deluxe Remastered Version)', 'release_date': '1982-05-03', 'release_date_precision': 'day', 'total_tracks': 16, 'type': 'album', 'uri': 'spotify:album:0xc5IpJM39eEEYSKDrm5kf'}, 'artists': [{'external_urls': {'spotify': 'https://open.spotify.com/artist/1dfeR4HaWDbWqFHLkxsg1d'}, 'href': 'https://api.spotify.com/v1/artists/1dfeR4HaWDbWqFHLkxsg1d', 'id': '1dfeR4HaWDbWqFHLkxsg1d', 'name': 'Queen', 'type': 'artist', 'uri': 'spotify:artist:1dfeR4HaWDbWqFHLkxsg1d'}, {'external_urls': {'spotify': 'https://open.spotify.com/artist/0oSGxfWSnnOXhD2fKuz2Gy'}, 'href': 'https://api.spotify.com/v1/artists/0oSGxfWSnnOXhD2fKuz2Gy', 'id': '0oSGxfWSnnOXhD2fKuz2Gy', 'name': 'David Bowie', 'type': 'artist', 'uri': 'spotify:artist:0oSGxfWSnnOXhD2fKuz2Gy'}], 'available_markets': ['CA', 'US'], 'disc_number': 1, 'duration_ms': 248440, 'explicit': False, 'external_ids': {'isrc': 'GBUM71029622'}, 'external_urls': {'spotify': 'https://open.spotify.com/track/11IzgLRXV7Cgek3tEgGgjw'}, 'href': 'https://api.spotify.com/v1/tracks/11IzgLRXV7Cgek3tEgGgjw', 'id': '11IzgLRXV7Cgek3tEgGgjw', 'is_local': False, 'name': 'Under Pressure - Remastered 2011', 'popularity': 75, 'preview_url': None, 'track_number': 11, 'type': 'track', 'uri': 'spotify:track:11IzgLRXV7Cgek3tEgGgjw'}, {'album': {'album_type': 'album', 'artists': [{'external_urls': {'spotify': 'https://open.spotify.com/artist/1dfeR4HaWDbWqFHLkxsg1d'}, 'href': 'https://api.spotify.com/v1/artists/1dfeR4HaWDbWqFHLkxsg1d', 'id': '1dfeR4HaWDbWqFHLkxsg1d', 'name': 'Queen', 'type': 'artist', 'uri': 'spotify:artist:1dfeR4HaWDbWqFHLkxsg1d'}], 'available_markets': ['CA', 'US'], 'external_urls': {'spotify': 'https://open.spotify.com/album/6wPXUmYJ9mOWrKlLzZ5cCa'}, 'href': 'https://api.spotify.com/v1/albums/6wPXUmYJ9mOWrKlLzZ5cCa', 'id': '6wPXUmYJ9mOWrKlLzZ5cCa', 'images': [{'height': 640, 'url': 'https://i.scdn.co/image/ab67616d0000b27307744e2ed983efa3e6620a47', 'width': 640}, {'height': 300, 'url': 'https://i.scdn.co/image/ab67616d00001e0207744e2ed983efa3e6620a47', 'width': 300}, {'height': 64, 'url': 'https://i.scdn.co/image/ab67616d0000485107744e2ed983efa3e6620a47', 'width': 64}], 'name': 'The Game (Deluxe Remastered Version)', 'release_date': '1980-06-27', 'release_date_precision': 'day', 'total_tracks': 15, 'type': 'album', 'uri': 'spotify:album:6wPXUmYJ9mOWrKlLzZ5cCa'}, 'artists': [{'external_urls': {'spotify': 'https://open.spotify.com/artist/1dfeR4HaWDbWqFHLkxsg1d'}, 'href': 'https://api.spotify.com/v1/artists/1dfeR4HaWDbWqFHLkxsg1d', 'id': '1dfeR4HaWDbWqFHLkxsg1d', 'name': 'Queen', 'type': 'artist', 'uri': 'spotify:artist:1dfeR4HaWDbWqFHLkxsg1d'}], 'available_markets': ['CA', 'US'], 'disc_number': 1, 'duration_ms': 163373, 'explicit': False, 'external_ids': {'isrc': 'GBUM71029612'}, 'external_urls': {'spotify': 'https://open.spotify.com/track/35ItUJlMtjOQW3SSiTCrrw'}, 'href': 'https://api.spotify.com/v1/tracks/35ItUJlMtjOQW3SSiTCrrw', 'id': '35ItUJlMtjOQW3SSiTCrrw', 'is_local': False, 'name': 'Crazy Little Thing Called Love - Remastered 2011', 'popularity': 73, 'preview_url': None, 'track_number': 5, 'type': 'track', 'uri': 'spotify:track:35ItUJlMtjOQW3SSiTCrrw'}, {'album': {'album_type': 'album', 'artists': [{'external_urls': {'spotify': 'https://open.spotify.com/artist/1dfeR4HaWDbWqFHLkxsg1d'}, 'href': 'https://api.spotify.com/v1/artists/1dfeR4HaWDbWqFHLkxsg1d', 'id': '1dfeR4HaWDbWqFHLkxsg1d', 'name': 'Queen', 'type': 'artist', 'uri': 'spotify:artist:1dfeR4HaWDbWqFHLkxsg1d'}], 'available_markets': ['CA', 'US'], 'external_urls': {'spotify': 'https://open.spotify.com/album/6RJyYMIrOtx3VnNIoq31kj'}, 'href': 'https://api.spotify.com/v1/albums/6RJyYMIrOtx3VnNIoq31kj', 'id': '6RJyYMIrOtx3VnNIoq31kj', 'images': [{'height': 640, 'url': 'https://i.scdn.co/image/ab67616d0000b27359998815d706661e2c404d9f', 'width': 640}, {'height': 300, 'url': 'https://i.scdn.co/image/ab67616d00001e0259998815d706661e2c404d9f', 'width': 300}, {'height': 64, 'url': 'https://i.scdn.co/image/ab67616d0000485159998815d706661e2c404d9f', 'width': 64}], 'name': 'Sheer Heart Attack (Deluxe Remastered Version)', 'release_date': '1974-11-08', 'release_date_precision': 'day', 'total_tracks': 18, 'type': 'album', 'uri': 'spotify:album:6RJyYMIrOtx3VnNIoq31kj'}, 'artists': [{'external_urls': {'spotify': 'https://open.spotify.com/artist/1dfeR4HaWDbWqFHLkxsg1d'}, 'href': 'https://api.spotify.com/v1/artists/1dfeR4HaWDbWqFHLkxsg1d', 'id': '1dfeR4HaWDbWqFHLkxsg1d', 'name': 'Queen', 'type': 'artist', 'uri': 'spotify:artist:1dfeR4HaWDbWqFHLkxsg1d'}], 'available_markets': ['CA', 'US'], 'disc_number': 1, 'duration_ms': 179600, 'explicit': False, 'external_ids': {'isrc': 'GBUM71029606'}, 'external_urls': {'spotify': 'https://open.spotify.com/track/7GqWnsKhMtEW0nzki5o0d8'}, 'href': 'https://api.spotify.com/v1/tracks/7GqWnsKhMtEW0nzki5o0d8', 'id': '7GqWnsKhMtEW0nzki5o0d8', 'is_local': False, 'name': 'Killer Queen - Remastered 2011', 'popularity': 72, 'preview_url': None, 'track_number': 2, 'type': 'track', 'uri': 'spotify:track:7GqWnsKhMtEW0nzki5o0d8'}, {'album': {'album_type': 'album', 'artists': [{'external_urls': {'spotify': 'https://open.spotify.com/artist/1dfeR4HaWDbWqFHLkxsg1d'}, 'href': 'https://api.spotify.com/v1/artists/1dfeR4HaWDbWqFHLkxsg1d', 'id': '1dfeR4HaWDbWqFHLkxsg1d', 'name': 'Queen', 'type': 'artist', 'uri': 'spotify:artist:1dfeR4HaWDbWqFHLkxsg1d'}], 'available_markets': ['CA', 'US'], 'external_urls': {'spotify': 'https://open.spotify.com/album/6Di4m5k1BtMJ0R44bWNutu'}, 'href': 'https://api.spotify.com/v1/albums/6Di4m5k1BtMJ0R44bWNutu', 'id': '6Di4m5k1BtMJ0R44bWNutu', 'images': [{'height': 640, 'url': 'https://i.scdn.co/image/ab67616d0000b27393c65b02f4a72cd6eccf446d', 'width': 640}, {'height': 300, 'url': 'https://i.scdn.co/image/ab67616d00001e0293c65b02f4a72cd6eccf446d', 'width': 300}, {'height': 64, 'url': 'https://i.scdn.co/image/ab67616d0000485193c65b02f4a72cd6eccf446d', 'width': 64}], 'name': 'News Of The World (Deluxe Remastered Version)', 'release_date': '1977-10-28', 'release_date_precision': 'day', 'total_tracks': 16, 'type': 'album', 'uri': 'spotify:album:6Di4m5k1BtMJ0R44bWNutu'}, 'artists': [{'external_urls': {'spotify': 'https://open.spotify.com/artist/1dfeR4HaWDbWqFHLkxsg1d'}, 'href': 'https://api.spotify.com/v1/artists/1dfeR4HaWDbWqFHLkxsg1d', 'id': '1dfeR4HaWDbWqFHLkxsg1d', 'name': 'Queen', 'type': 'artist', 'uri': 'spotify:artist:1dfeR4HaWDbWqFHLkxsg1d'}], 'available_markets': ['CA', 'US'], 'disc_number': 1, 'duration_ms': 122066, 'explicit': False, 'external_ids': {'isrc': 'GBUM71029618'}, 'external_urls': {'spotify': 'https://open.spotify.com/track/54flyrjcdnQdco7300avMJ'}, 'href': 'https://api.spotify.com/v1/tracks/54flyrjcdnQdco7300avMJ', 'id': '54flyrjcdnQdco7300avMJ', 'is_local': False, 'name': 'We Will Rock You - Remastered 2011', 'popularity': 72, 'preview_url': None, 'track_number': 1, 'type': 'track', 'uri': 'spotify:track:54flyrjcdnQdco7300avMJ'}, {'album': {'album_type': 'album', 'artists': [{'external_urls': {'spotify': 'https://open.spotify.com/artist/1dfeR4HaWDbWqFHLkxsg1d'}, 'href': 'https://api.spotify.com/v1/artists/1dfeR4HaWDbWqFHLkxsg1d', 'id': '1dfeR4HaWDbWqFHLkxsg1d', 'name': 'Queen', 'type': 'artist', 'uri': 'spotify:artist:1dfeR4HaWDbWqFHLkxsg1d'}], 'available_markets': ['CA', 'US'], 'external_urls': {'spotify': 'https://open.spotify.com/album/0lmQ6rAGcChLjGXM52Qu3i'}, 'href': 'https://api.spotify.com/v1/albums/0lmQ6rAGcChLjGXM52Qu3i', 'id': '0lmQ6rAGcChLjGXM52Qu3i', 'images': [{'height': 640, 'url': 'https://i.scdn.co/image/ab67616d0000b27395313a5eee00d9bdf37883e2', 'width': 640}, {'height': 300, 'url': 'https://i.scdn.co/image/ab67616d00001e0295313a5eee00d9bdf37883e2', 'width': 300}, {'height': 64, 'url': 'https://i.scdn.co/image/ab67616d0000485195313a5eee00d9bdf37883e2', 'width': 64}], 'name': 'A Day At The Races (Deluxe Remastered Version)', 'release_date': '1976-12-10', 'release_date_precision': 'day', 'total_tracks': 15, 'type': 'album', 'uri': 'spotify:album:0lmQ6rAGcChLjGXM52Qu3i'}, 'artists': [{'external_urls': {'spotify': 'https://open.spotify.com/artist/1dfeR4HaWDbWqFHLkxsg1d'}, 'href': 'https://api.spotify.com/v1/artists/1dfeR4HaWDbWqFHLkxsg1d', 'id': '1dfeR4HaWDbWqFHLkxsg1d', 'name': 'Queen', 'type': 'artist', 'uri': 'spotify:artist:1dfeR4HaWDbWqFHLkxsg1d'}], 'available_markets': ['CA', 'US'], 'disc_number': 1, 'duration_ms': 296493, 'explicit': False, 'external_ids': {'isrc': 'GBUM71029613'}, 'external_urls': {'spotify': 'https://open.spotify.com/track/6cFZ4PLC19taNlpl9pbGMf'}, 'href': 'https://api.spotify.com/v1/tracks/6cFZ4PLC19taNlpl9pbGMf', 'id': '6cFZ4PLC19taNlpl9pbGMf', 'is_local': False, 'name': 'Somebody To Love - Remastered 2011', 'popularity': 71, 'preview_url': None, 'track_number': 6, 'type': 'track', 'uri': 'spotify:track:6cFZ4PLC19taNlpl9pbGMf'}, {'album': {'album_type': 'album', 'artists': [{'external_urls': {'spotify': 'https://open.spotify.com/artist/1dfeR4HaWDbWqFHLkxsg1d'}, 'href': 'https://api.spotify.com/v1/artists/1dfeR4HaWDbWqFHLkxsg1d', 'id': '1dfeR4HaWDbWqFHLkxsg1d', 'name': 'Queen', 'type': 'artist', 'uri': 'spotify:artist:1dfeR4HaWDbWqFHLkxsg1d'}], 'available_markets': ['CA', 'US'], 'external_urls': {'spotify': 'https://open.spotify.com/album/21HMAUrbbYSj9NiPPlGumy'}, 'href': 'https://api.spotify.com/v1/albums/21HMAUrbbYSj9NiPPlGumy', 'id': '21HMAUrbbYSj9NiPPlGumy', 'images': [{'height': 640, 'url': 'https://i.scdn.co/image/ab67616d0000b273008b06ec71019afd70153889', 'width': 640}, {'height': 300, 'url': 'https://i.scdn.co/image/ab67616d00001e02008b06ec71019afd70153889', 'width': 300}, {'height': 64, 'url': 'https://i.scdn.co/image/ab67616d00004851008b06ec71019afd70153889', 'width': 64}], 'name': 'Jazz (Deluxe Remastered Version)', 'release_date': '1978-11-10', 'release_date_precision': 'day', 'total_tracks': 18, 'type': 'album', 'uri': 'spotify:album:21HMAUrbbYSj9NiPPlGumy'}, 'artists': [{'external_urls': {'spotify': 'https://open.spotify.com/artist/1dfeR4HaWDbWqFHLkxsg1d'}, 'href': 'https://api.spotify.com/v1/artists/1dfeR4HaWDbWqFHLkxsg1d', 'id': '1dfeR4HaWDbWqFHLkxsg1d', 'name': 'Queen', 'type': 'artist', 'uri': 'spotify:artist:1dfeR4HaWDbWqFHLkxsg1d'}], 'available_markets': ['CA', 'US'], 'disc_number': 1, 'duration_ms': 255600, 'explicit': False, 'external_ids': {'isrc': 'GBUM71029607'}, 'external_urls': {'spotify': 'https://open.spotify.com/track/4igIYHF3B5VBxEafHauVo3'}, 'href': 'https://api.spotify.com/v1/tracks/4igIYHF3B5VBxEafHauVo3', 'id': '4igIYHF3B5VBxEafHauVo3', 'is_local': False, 'name': 'Fat Bottomed Girls - Remastered 2011', 'popularity': 70, 'preview_url': None, 'track_number': 2, 'type': 'track', 'uri': 'spotify:track:4igIYHF3B5VBxEafHauVo3'}, {'album': {'album_type': 'album', 'artists': [{'external_urls': {'spotify': 'https://open.spotify.com/artist/4pejUc4iciQfgdX6OKulQn'}, 'href': 'https://api.spotify.com/v1/artists/4pejUc4iciQfgdX6OKulQn', 'id': '4pejUc4iciQfgdX6OKulQn', 'name': 'Queens of the Stone Age', 'type': 'artist', 'uri': 'spotify:artist:4pejUc4iciQfgdX6OKulQn'}], 'available_markets': ['CA', 'MX', 'US'], 'external_urls': {'spotify': 'https://open.spotify.com/album/58HZZpS0wxJKwGjoerg0mk'}, 'href': 'https://api.spotify.com/v1/albums/58HZZpS0wxJKwGjoerg0mk', 'id': '58HZZpS0wxJKwGjoerg0mk', 'images': [{'height': 640, 'url': 'https://i.scdn.co/image/ab67616d0000b2739b62c36a1f8ac00d60f460cc', 'width': 640}, {'height': 300, 'url': 'https://i.scdn.co/image/ab67616d00001e029b62c36a1f8ac00d60f460cc', 'width': 300}, {'height': 64, 'url': 'https://i.scdn.co/image/ab67616d000048519b62c36a1f8ac00d60f460cc', 'width': 64}], 'name': 'Songs For The Deaf', 'release_date': '2002', 'release_date_precision': 'year', 'total_tracks': 15, 'type': 'album', 'uri': 'spotify:album:58HZZpS0wxJKwGjoerg0mk'}, 'artists': [{'external_urls': {'spotify': 'https://open.spotify.com/artist/4pejUc4iciQfgdX6OKulQn'}, 'href': 'https://api.spotify.com/v1/artists/4pejUc4iciQfgdX6OKulQn', 'id': '4pejUc4iciQfgdX6OKulQn', 'name': 'Queens of the Stone Age', 'type': 'artist', 'uri': 'spotify:artist:4pejUc4iciQfgdX6OKulQn'}], 'available_markets': ['CA', 'MX', 'US'], 'disc_number': 1, 'duration_ms': 278706, 'explicit': False, 'external_ids': {'isrc': 'USIR10211291'}, 'external_urls': {'spotify': 'https://open.spotify.com/track/6NvRxjfYkkT2SpirAlmsjH'}, 'href': 'https://api.spotify.com/v1/tracks/6NvRxjfYkkT2SpirAlmsjH', 'id': '6NvRxjfYkkT2SpirAlmsjH', 'is_local': False, 'name': 'No One Knows', 'popularity': 70, 'preview_url': None, 'track_number': 3, 'type': 'track', 'uri': 'spotify:track:6NvRxjfYkkT2SpirAlmsjH'}], 'limit': 10, 'next': 'https://api.spotify.com/v1/search?query=artist%3AQueen&type=track&offset=10&limit=10', 'offset': 0, 'previous': None, 'total': 1000}}\n"
     ]
    }
   ],
   "source": [
    "# definindo as credenciais do cliente\n",
    "client_id = '024994ccb0af4c2fa99c620ed123447f'\n",
    "client_secret = 'ac4eb3b3e86f43caabd7020fe4a9059f'\n",
    "\n",
    "# autenticando com a API\n",
    "client_credentials = SpotifyClientCredentials(client_id=client_id, client_secret=client_secret)\n",
    "sp = spotipy.Spotify(client_credentials_manager=client_credentials)\n",
    "\n",
    "# usando a API para buscar informações sobre uma musica\n",
    "results = sp.search(q='artist:Queen')\n",
    "print(results)"
   ]
  },
  {
   "cell_type": "code",
   "execution_count": 18,
   "metadata": {},
   "outputs": [],
   "source": [
    "# Definindo o escopo da API\n",
    "scope = \"user-top-read\"\n",
    "\n",
    "# Autentincando com a API\n",
    "sp = spotipy.Spotify(auth_manager=SpotifyOAuth(scope=scope, client_id=client_id, client_secret=client_secret, redirect_uri='http://localhost:8888/callback')) \n",
    "\n",
    "# Obtendo as informações dos artistas\n",
    "top_artists = sp.current_user_top_artists(limit=50, time_range='medium_term')\n",
    "\n",
    "# Criando o DataFrame com as informações\n",
    "df = pd.json_normalize(top_artists['items'])\n",
    "\n",
    "# Selecionando as colunas relevantes\n",
    "df = df[['name', 'popularity', 'genres']]\n",
    "scope = \"user-top-read\"\n",
    "\n",
    "# Autentincando com a API\n",
    "sp = spotipy.Spotify(auth_manager=SpotifyOAuth(scope=scope, client_id=client_id)) \n",
    "\n",
    "# Obtendo as informações dos artistas\n",
    "top_artists = sp.current_user_top_artists(limit=50, time_range='medium_term')\n",
    "\n",
    "# Criando o DataFrame com as informações\n",
    "df = pd.json_normalize(top_artists['items'])\n",
    "\n",
    "# Selecionando as colunas relevantes\n",
    "df = df[['name', 'popularity', 'genres']]\n",
    "\n",
    "# Ordenar os artistas por popularidade\n",
    "df = df.sort_values(by='popularity', ascending=False)\n",
    "\n",
    "# Imprimindo os 20 artistas\n",
    "df.head(20)"
   ]
  },
  {
   "cell_type": "markdown",
   "metadata": {},
   "source": [
    "Hey Vic, buenas tardes!\n",
    "\n",
    "Como vc está? Espero que esteja bem. Estou passando para te falar que acabei de terminar de ler o livro do Rilke que você me deu. Achei incrível, sério! Amei de verdade. O jeito como ele escreve sobre a solidão sendo algo tão necessário para nosso crescimento na vida é incrivel, me lembra um pouco o Camus. Também achei interessante o fato de ele ser contra a crítica em questões que apenas nosso sentimento íntimo pode responder. E tbm dá para entender por que vc fez tantas marcações nele, dkskkdkk. Eu também me dei o direito de fazer algumas novas marcações, e uma das minhas favoritas foi: \"Não investigue agora as respostas que não lhe podem ser dadas, porque não poderia vivê-las. Viva agora as perguntas. Talvez passe, gradativamente, em um belo dia, sem perceber, a viver as respostas.\" eu estava meio ansioso esse dias, sabe preocupações da vida, ler essa cartas me deixou mais tranquilo. Agradeço de verdade pelo presente. Tenha certeza de que estarei consultando-o sempre.\n",
    "\n",
    "E você, como está? Está se cuidando? Tomando água e se alimentando direito? Depois que me contou que tinha três empregos, não posso negar que fiquei um pouco preocupado kskskklk\n",
    "\n",
    "Quero aproveitar para dizer que, além de ter apreciado muito o livro, aprecio ainda mais a pessoa incrível que você é.\n"
   ]
  }
 ],
 "metadata": {
  "kernelspec": {
   "display_name": "Python 3",
   "language": "python",
   "name": "python3"
  },
  "language_info": {
   "codemirror_mode": {
    "name": "ipython",
    "version": 3
   },
   "file_extension": ".py",
   "mimetype": "text/x-python",
   "name": "python",
   "nbconvert_exporter": "python",
   "pygments_lexer": "ipython3",
   "version": "3.12.0"
  }
 },
 "nbformat": 4,
 "nbformat_minor": 2
}
