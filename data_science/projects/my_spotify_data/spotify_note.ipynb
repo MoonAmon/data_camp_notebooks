{
 "cells": [
  {
   "cell_type": "markdown",
   "id": "3081276864782b60",
   "metadata": {
    "collapsed": false
   },
   "source": [
    "# My Spotify data"
   ]
  },
  {
   "cell_type": "code",
   "execution_count": 2,
   "id": "3591be91f6be4101",
   "metadata": {
    "ExecuteTime": {
     "end_time": "2023-09-03T16:29:29.462997300Z",
     "start_time": "2023-09-03T16:29:26.051225300Z"
    },
    "collapsed": false
   },
   "outputs": [],
   "source": [
    "import pandas as pd\n",
    "import numpy as np"
   ]
  },
  {
   "cell_type": "code",
   "execution_count": 15,
   "id": "edfe3a1c18a3f3e4",
   "metadata": {
    "ExecuteTime": {
     "end_time": "2023-09-03T16:30:24.758785300Z",
     "start_time": "2023-09-03T16:30:24.550681300Z"
    },
    "collapsed": false
   },
   "outputs": [
    {
     "data": {
      "text/html": [
       "<div>\n",
       "<style scoped>\n",
       "    .dataframe tbody tr th:only-of-type {\n",
       "        vertical-align: middle;\n",
       "    }\n",
       "\n",
       "    .dataframe tbody tr th {\n",
       "        vertical-align: top;\n",
       "    }\n",
       "\n",
       "    .dataframe thead th {\n",
       "        text-align: right;\n",
       "    }\n",
       "</style>\n",
       "<table border=\"1\" class=\"dataframe\">\n",
       "  <thead>\n",
       "    <tr style=\"text-align: right;\">\n",
       "      <th></th>\n",
       "      <th>endTime</th>\n",
       "      <th>artistName</th>\n",
       "      <th>trackName</th>\n",
       "      <th>msPlayed</th>\n",
       "    </tr>\n",
       "  </thead>\n",
       "  <tbody>\n",
       "    <tr>\n",
       "      <th>0</th>\n",
       "      <td>2022-08-28 15:20</td>\n",
       "      <td>boy pablo</td>\n",
       "      <td>Feeling Lonely</td>\n",
       "      <td>30122</td>\n",
       "    </tr>\n",
       "    <tr>\n",
       "      <th>1</th>\n",
       "      <td>2022-08-28 15:23</td>\n",
       "      <td>Twenty One Pilots</td>\n",
       "      <td>Good Day</td>\n",
       "      <td>204400</td>\n",
       "    </tr>\n",
       "    <tr>\n",
       "      <th>2</th>\n",
       "      <td>2022-08-28 15:24</td>\n",
       "      <td>Gym Class Heroes</td>\n",
       "      <td>Cupid's Chokehold / Breakfast in America - Rad...</td>\n",
       "      <td>20498</td>\n",
       "    </tr>\n",
       "    <tr>\n",
       "      <th>3</th>\n",
       "      <td>2022-08-28 15:27</td>\n",
       "      <td>Twenty One Pilots</td>\n",
       "      <td>Choker</td>\n",
       "      <td>223065</td>\n",
       "    </tr>\n",
       "    <tr>\n",
       "      <th>4</th>\n",
       "      <td>2022-08-28 15:30</td>\n",
       "      <td>Twenty One Pilots</td>\n",
       "      <td>Shy Away</td>\n",
       "      <td>175044</td>\n",
       "    </tr>\n",
       "  </tbody>\n",
       "</table>\n",
       "</div>"
      ],
      "text/plain": [
       "            endTime         artistName  \\\n",
       "0  2022-08-28 15:20          boy pablo   \n",
       "1  2022-08-28 15:23  Twenty One Pilots   \n",
       "2  2022-08-28 15:24   Gym Class Heroes   \n",
       "3  2022-08-28 15:27  Twenty One Pilots   \n",
       "4  2022-08-28 15:30  Twenty One Pilots   \n",
       "\n",
       "                                           trackName  msPlayed  \n",
       "0                                     Feeling Lonely     30122  \n",
       "1                                           Good Day    204400  \n",
       "2  Cupid's Chokehold / Breakfast in America - Rad...     20498  \n",
       "3                                             Choker    223065  \n",
       "4                                           Shy Away    175044  "
      ]
     },
     "execution_count": 15,
     "metadata": {},
     "output_type": "execute_result"
    }
   ],
   "source": [
    "streming_data0 = pd.read_json(\"datasets/StreamingHistory0.json\")\n",
    "streming_data1 = pd.read_json(\"datasets/StreamingHistory1.json\")\n",
    "streming_data2 = pd.read_json(\"datasets/StreamingHistory2.json\")\n",
    "streming_data3 = pd.read_json(\"datasets/StreamingHistory3.json\")\n",
    "streming_data4 = pd.read_json(\"datasets/StreamingHistory4.json\")\n",
    "streming_data5 = pd.read_json(\"datasets/StreamingHistory5.json\")\n",
    "\n",
    "lista_data_stream = [streming_data0,streming_data1,streming_data2,streming_data3,streming_data4,streming_data5]\n",
    "\n",
    "full_data_streaming = pd.concat(lista_data_stream, ignore_index=True) \n",
    "\n",
    "\n",
    "full_data_streaming.head()"
   ]
  },
  {
   "cell_type": "code",
   "execution_count": 19,
   "id": "67f2b915eecca2ad",
   "metadata": {
    "ExecuteTime": {
     "end_time": "2023-09-03T16:32:43.017823700Z",
     "start_time": "2023-09-03T16:32:42.945036500Z"
    },
    "collapsed": false
   },
   "outputs": [
    {
     "data": {
      "text/plain": [
       "artistName\n",
       "Twenty One Pilots    2646\n",
       "The Killers          2278\n",
       "Gorillaz             1518\n",
       "The Beatles          1209\n",
       "Yago Oproprio        1079\n",
       "                     ... \n",
       "Anna Kendrick           1\n",
       "Kiesza                  1\n",
       "Timeflies               1\n",
       "Tom Morello             1\n",
       "Cutting Crew            1\n",
       "Name: count, Length: 3023, dtype: int64"
      ]
     },
     "execution_count": 19,
     "metadata": {},
     "output_type": "execute_result"
    }
   ],
   "source": [
    "full_data_streaming['artistName'].value_counts()"
   ]
  }
 ],
 "metadata": {
  "kernelspec": {
   "display_name": "Python 3",
   "language": "python",
   "name": "python3"
  },
  "language_info": {
   "codemirror_mode": {
    "name": "ipython",
    "version": 3
   },
   "file_extension": ".py",
   "mimetype": "text/x-python",
   "name": "python",
   "nbconvert_exporter": "python",
   "pygments_lexer": "ipython3",
   "version": "3.10.12"
  }
 },
 "nbformat": 4,
 "nbformat_minor": 5
}
