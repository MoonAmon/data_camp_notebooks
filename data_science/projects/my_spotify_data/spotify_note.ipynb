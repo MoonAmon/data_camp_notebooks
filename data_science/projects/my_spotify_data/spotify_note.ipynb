{
 "cells": [
  {
   "cell_type": "markdown",
   "source": [
    "# My Spotify data"
   ],
   "metadata": {
    "collapsed": false
   },
   "id": "3081276864782b60"
  },
  {
   "cell_type": "code",
   "execution_count": 2,
   "outputs": [],
   "source": [
    "import pandas as pd\n",
    "import numpy as np"
   ],
   "metadata": {
    "collapsed": false,
    "ExecuteTime": {
     "end_time": "2023-09-03T16:29:29.462997300Z",
     "start_time": "2023-09-03T16:29:26.051225300Z"
    }
   },
   "id": "3591be91f6be4101"
  },
  {
   "cell_type": "code",
   "execution_count": 3,
   "outputs": [
    {
     "data": {
      "text/plain": "            endTime         artistName  \\\n0  2022-08-28 15:20          boy pablo   \n1  2022-08-28 15:23  Twenty One Pilots   \n2  2022-08-28 15:24   Gym Class Heroes   \n3  2022-08-28 15:27  Twenty One Pilots   \n4  2022-08-28 15:30  Twenty One Pilots   \n\n                                           trackName  msPlayed  \n0                                     Feeling Lonely     30122  \n1                                           Good Day    204400  \n2  Cupid's Chokehold / Breakfast in America - Rad...     20498  \n3                                             Choker    223065  \n4                                           Shy Away    175044  ",
      "text/html": "<div>\n<style scoped>\n    .dataframe tbody tr th:only-of-type {\n        vertical-align: middle;\n    }\n\n    .dataframe tbody tr th {\n        vertical-align: top;\n    }\n\n    .dataframe thead th {\n        text-align: right;\n    }\n</style>\n<table border=\"1\" class=\"dataframe\">\n  <thead>\n    <tr style=\"text-align: right;\">\n      <th></th>\n      <th>endTime</th>\n      <th>artistName</th>\n      <th>trackName</th>\n      <th>msPlayed</th>\n    </tr>\n  </thead>\n  <tbody>\n    <tr>\n      <th>0</th>\n      <td>2022-08-28 15:20</td>\n      <td>boy pablo</td>\n      <td>Feeling Lonely</td>\n      <td>30122</td>\n    </tr>\n    <tr>\n      <th>1</th>\n      <td>2022-08-28 15:23</td>\n      <td>Twenty One Pilots</td>\n      <td>Good Day</td>\n      <td>204400</td>\n    </tr>\n    <tr>\n      <th>2</th>\n      <td>2022-08-28 15:24</td>\n      <td>Gym Class Heroes</td>\n      <td>Cupid's Chokehold / Breakfast in America - Rad...</td>\n      <td>20498</td>\n    </tr>\n    <tr>\n      <th>3</th>\n      <td>2022-08-28 15:27</td>\n      <td>Twenty One Pilots</td>\n      <td>Choker</td>\n      <td>223065</td>\n    </tr>\n    <tr>\n      <th>4</th>\n      <td>2022-08-28 15:30</td>\n      <td>Twenty One Pilots</td>\n      <td>Shy Away</td>\n      <td>175044</td>\n    </tr>\n  </tbody>\n</table>\n</div>"
     },
     "execution_count": 3,
     "metadata": {},
     "output_type": "execute_result"
    }
   ],
   "source": [
    "streming_data = pd.read_json(\"datasets/StreamingHistory0.json\")\n",
    "streming_data.head()"
   ],
   "metadata": {
    "collapsed": false,
    "ExecuteTime": {
     "end_time": "2023-09-03T16:30:24.758785300Z",
     "start_time": "2023-09-03T16:30:24.550681300Z"
    }
   },
   "id": "edfe3a1c18a3f3e4"
  },
  {
   "cell_type": "code",
   "execution_count": 4,
   "outputs": [
    {
     "data": {
      "text/plain": "            msPlayed\ncount   10000.000000\nmean   119130.292200\nstd    100884.316989\nmin         0.000000\n25%      3250.000000\n50%    149080.000000\n75%    202466.000000\nmax    576449.000000",
      "text/html": "<div>\n<style scoped>\n    .dataframe tbody tr th:only-of-type {\n        vertical-align: middle;\n    }\n\n    .dataframe tbody tr th {\n        vertical-align: top;\n    }\n\n    .dataframe thead th {\n        text-align: right;\n    }\n</style>\n<table border=\"1\" class=\"dataframe\">\n  <thead>\n    <tr style=\"text-align: right;\">\n      <th></th>\n      <th>msPlayed</th>\n    </tr>\n  </thead>\n  <tbody>\n    <tr>\n      <th>count</th>\n      <td>10000.000000</td>\n    </tr>\n    <tr>\n      <th>mean</th>\n      <td>119130.292200</td>\n    </tr>\n    <tr>\n      <th>std</th>\n      <td>100884.316989</td>\n    </tr>\n    <tr>\n      <th>min</th>\n      <td>0.000000</td>\n    </tr>\n    <tr>\n      <th>25%</th>\n      <td>3250.000000</td>\n    </tr>\n    <tr>\n      <th>50%</th>\n      <td>149080.000000</td>\n    </tr>\n    <tr>\n      <th>75%</th>\n      <td>202466.000000</td>\n    </tr>\n    <tr>\n      <th>max</th>\n      <td>576449.000000</td>\n    </tr>\n  </tbody>\n</table>\n</div>"
     },
     "execution_count": 4,
     "metadata": {},
     "output_type": "execute_result"
    }
   ],
   "source": [
    "streming_data.describe()"
   ],
   "metadata": {
    "collapsed": false,
    "ExecuteTime": {
     "end_time": "2023-09-03T16:32:43.017823700Z",
     "start_time": "2023-09-03T16:32:42.945036500Z"
    }
   },
   "id": "67f2b915eecca2ad"
  }
 ],
 "metadata": {
  "kernelspec": {
   "display_name": "Python 3",
   "language": "python",
   "name": "python3"
  },
  "language_info": {
   "codemirror_mode": {
    "name": "ipython",
    "version": 2
   },
   "file_extension": ".py",
   "mimetype": "text/x-python",
   "name": "python",
   "nbconvert_exporter": "python",
   "pygments_lexer": "ipython2",
   "version": "2.7.6"
  }
 },
 "nbformat": 4,
 "nbformat_minor": 5
}
