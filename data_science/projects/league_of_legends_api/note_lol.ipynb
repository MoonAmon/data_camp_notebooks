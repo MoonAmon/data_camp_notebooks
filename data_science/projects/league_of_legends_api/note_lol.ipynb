{
 "cells": [
  {
   "cell_type": "markdown",
   "source": [
    "# Importing the dataset"
   ],
   "metadata": {
    "collapsed": false
   },
   "id": "e705daedcfade9de"
  },
  {
   "cell_type": "code",
   "execution_count": 2,
   "outputs": [
    {
     "name": "stdout",
     "output_type": "stream",
     "text": [
      "Collecting pandas\n",
      "  Downloading pandas-2.1.3-cp311-cp311-win_amd64.whl (10.6 MB)\n",
      "     ---------------------------------------- 10.6/10.6 MB 6.7 MB/s eta 0:00:00\n",
      "Collecting numpy<2,>=1.23.2\n",
      "  Downloading numpy-1.26.2-cp311-cp311-win_amd64.whl (15.8 MB)\n",
      "     ---------------------------------------- 15.8/15.8 MB 4.4 MB/s eta 0:00:00\n",
      "Requirement already satisfied: python-dateutil>=2.8.2 in c:\\users\\user\\appdata\\local\\programs\\python\\python311\\lib\\site-packages (from pandas) (2.8.2)\n",
      "Collecting pytz>=2020.1\n",
      "  Downloading pytz-2023.3.post1-py2.py3-none-any.whl (502 kB)\n",
      "     -------------------------------------- 502.5/502.5 kB 3.9 MB/s eta 0:00:00\n",
      "Collecting tzdata>=2022.1\n",
      "  Downloading tzdata-2023.3-py2.py3-none-any.whl (341 kB)\n",
      "     -------------------------------------- 341.8/341.8 kB 4.3 MB/s eta 0:00:00\n",
      "Requirement already satisfied: six>=1.5 in c:\\users\\user\\appdata\\local\\programs\\python\\python311\\lib\\site-packages (from python-dateutil>=2.8.2->pandas) (1.16.0)\n",
      "Installing collected packages: pytz, tzdata, numpy, pandas\n",
      "Successfully installed numpy-1.26.2 pandas-2.1.3 pytz-2023.3.post1 tzdata-2023.3\n"
     ]
    },
    {
     "name": "stderr",
     "output_type": "stream",
     "text": [
      "\n",
      "[notice] A new release of pip available: 22.3.1 -> 23.3.1\n",
      "[notice] To update, run: C:\\Users\\USER\\AppData\\Local\\Programs\\Python\\Python311\\python.exe -m pip install --upgrade pip\n"
     ]
    }
   ],
   "source": [
    "!pip install pandas"
   ],
   "metadata": {
    "collapsed": false,
    "ExecuteTime": {
     "end_time": "2023-12-02T14:17:39.861918300Z",
     "start_time": "2023-12-02T14:16:42.014709900Z"
    }
   },
   "id": "6832ab59bcaf942"
  },
  {
   "cell_type": "code",
   "execution_count": 8,
   "outputs": [],
   "source": [
    "import requests \n",
    "import time\n",
    "import json\n",
    "import pandas as pd"
   ],
   "metadata": {
    "collapsed": false,
    "ExecuteTime": {
     "end_time": "2023-12-02T14:29:00.523418800Z",
     "start_time": "2023-12-02T14:29:00.510429400Z"
    }
   },
   "id": "6fe10725207e71f8"
  },
  {
   "cell_type": "markdown",
   "source": [
    "## Get the api response"
   ],
   "metadata": {
    "collapsed": false
   },
   "id": "961a4f4fc65688dd"
  },
  {
   "cell_type": "code",
   "execution_count": 24,
   "outputs": [],
   "source": [
    "URL = \"https://americas.api.riotgames.com\"\n",
    "\n",
    "def get_summoner_id(summoner_name, api_key):\n",
    "    url = f'{URL}/lol/summoner/v4/summoners/by-name/{summoner_name}?api_key={api_key}'\n",
    "    response = requests.get(url)\n",
    "    time.sleep(1)\n",
    "    return response.json()\n",
    "\n",
    "def get_match_list(api_key, summoner_id, start=0, count=10):\n",
    "    url = f'{URL}/lol/match/v5/matches/by-puuid/{summoner_id}/ids?start={start}&count={count}&api_key={api_key}'\n",
    "    response = requests.get(url)\n",
    "    time.sleep(1)\n",
    "    return response.json()\n",
    "\n",
    "def get_match_data(match_id, api_key):\n",
    "    url = f'{URL}/lol/match/v5/matches/{match_id}?api_key={api_key}'\n",
    "    response = requests.get(url)\n",
    "    time.sleep(1)\n",
    "    return response.json()\n",
    "\n",
    "def extract_match_info(match_data):\n",
    "    game_duration = match_data['info']['gameDuration']\n",
    "    game_mode = match_data['info']['gameMode']\n",
    "    participants = match_data['info']['participants']\n",
    "    \n",
    "    participants_df = pd.DataFrame()\n",
    "    \n",
    "    for participant in participants:\n",
    "        participant_info = {\n",
    "            'championName': participant['championName'],\n",
    "            'kills': participant['kills'],\n",
    "            'death': participant['deaths'],\n",
    "            'assists': participant['assists'],\n",
    "            'totalDamageToChampions': participant['totalDamageDealtToChampions'],\n",
    "            'goldEarned': participant['goldEarned'],\n",
    "            'visioScore': participant['visionScore'],\n",
    "            'role': participant['individualPosition'],\n",
    "            'teamId': participant['teamId']\n",
    "        }\n",
    "        participants_df = pd.concat([participants_df, pd.DataFrame([participant_info])], ignore_index=True)\n",
    "      \n",
    "        \n",
    "    return game_duration, game_mode, participants_df\n",
    "\n",
    "api_key = ''\n",
    "summoner_id = 'YKfiig2deMN2x_h6ifhd6PhXDGCwhxlhxzqLv_I1Ca17pegJT3v39UIOF1lewJufghu5_pdRyH103g'\n"
   ],
   "metadata": {
    "collapsed": false,
    "ExecuteTime": {
     "end_time": "2023-12-02T15:26:04.064231900Z",
     "start_time": "2023-12-02T15:26:04.055681800Z"
    }
   },
   "id": "bc191a996c601c2c"
  },
  {
   "cell_type": "markdown",
   "source": [
    "## Get the match ids"
   ],
   "metadata": {
    "collapsed": false
   },
   "id": "7328b17dfa5d00b4"
  },
  {
   "cell_type": "code",
   "execution_count": 12,
   "outputs": [
    {
     "name": "stdout",
     "output_type": "stream",
     "text": [
      "BR1_2847053435\n",
      "BR1_2843172863\n",
      "BR1_2842671445\n",
      "BR1_2839902431\n",
      "BR1_2839881285\n",
      "BR1_2781568879\n",
      "BR1_2771129978\n",
      "BR1_2771108401\n",
      "BR1_2750887149\n",
      "BR1_2694862769\n",
      "BR1_2669047041\n",
      "BR1_2665961872\n",
      "BR1_2659616048\n",
      "BR1_2656700458\n",
      "BR1_2653987651\n",
      "BR1_2600408638\n",
      "BR1_2600373571\n",
      "BR1_2599910191\n",
      "BR1_2599226745\n",
      "BR1_2599198937\n",
      "BR1_2599021230\n",
      "BR1_2598679980\n",
      "BR1_2598666600\n",
      "BR1_2598638392\n",
      "BR1_2597488531\n",
      "BR1_2597504050\n",
      "BR1_2597084187\n",
      "BR1_2596938130\n",
      "BR1_2596750230\n",
      "BR1_2596521403\n",
      "BR1_2596449342\n",
      "BR1_2596416779\n",
      "BR1_2596414617\n",
      "BR1_2594935729\n",
      "BR1_2594971633\n",
      "BR1_2594844071\n",
      "BR1_2594841616\n",
      "BR1_2594820026\n",
      "BR1_2594609398\n",
      "BR1_2594513971\n",
      "BR1_2594349691\n",
      "BR1_2594356075\n",
      "BR1_2594343639\n",
      "BR1_2594371727\n",
      "BR1_2593969852\n",
      "BR1_2593986163\n",
      "BR1_2593973346\n",
      "BR1_2593980046\n",
      "BR1_2593896362\n",
      "BR1_2593920498\n",
      "BR1_2593866660\n",
      "BR1_2593852981\n",
      "BR1_2593697781\n",
      "BR1_2593553822\n",
      "BR1_2593580273\n",
      "BR1_2593489985\n",
      "BR1_2593527881\n",
      "BR1_2592923837\n",
      "BR1_2592899839\n",
      "BR1_2592886556\n",
      "BR1_2592846044\n",
      "BR1_2592890629\n",
      "BR1_2592447361\n",
      "BR1_2592472420\n",
      "BR1_2592368732\n",
      "BR1_2592356247\n",
      "BR1_2592380528\n",
      "BR1_2592326739\n",
      "BR1_2592272819\n",
      "BR1_2591756971\n",
      "BR1_2591764001\n",
      "BR1_2591731145\n",
      "BR1_2591681461\n",
      "BR1_2591607717\n",
      "BR1_2591593884\n",
      "BR1_2590729549\n",
      "BR1_2590717050\n",
      "BR1_2590712923\n",
      "BR1_2585739010\n",
      "BR1_2585765744\n",
      "BR1_2585735021\n",
      "BR1_2585331683\n",
      "BR1_2584043627\n",
      "BR1_2584010382\n",
      "BR1_2583177678\n",
      "BR1_2583183608\n",
      "BR1_2583150200\n",
      "BR1_2582754726\n",
      "BR1_2582730906\n",
      "BR1_2582686294\n",
      "BR1_2582662631\n",
      "BR1_2582609597\n",
      "BR1_2582585078\n",
      "BR1_2582559533\n",
      "BR1_2582349574\n",
      "BR1_2582356160\n",
      "BR1_2581765793\n",
      "BR1_2581791096\n",
      "BR1_2581712784\n",
      "BR1_2581449061\n"
     ]
    }
   ],
   "source": [
    "match_list = get_match_list(api_key, summoner_id, 0, 100)\n",
    "\n",
    "for match in match_list:\n",
    "    print(match)"
   ],
   "metadata": {
    "collapsed": false,
    "ExecuteTime": {
     "end_time": "2023-12-02T14:31:55.647865200Z",
     "start_time": "2023-12-02T14:31:53.258782600Z"
    }
   },
   "id": "14493b08ff582587"
  },
  {
   "cell_type": "code",
   "execution_count": 23,
   "outputs": [
    {
     "data": {
      "text/plain": "  championName  kills  death  assists  totalDamageToChampions  goldEarned  \\\n0         Gnar      4      3        1                   30214       19312   \n1       Lillia      1      7        6                   25110       15328   \n2        Yasuo     12     10        4                   44392       20347   \n3         Zeri     10      9        5                   50128       21029   \n4        Janna      0     10       14                    8265       10773   \n5    Gangplank      5      6        6                   17004       17193   \n6        Ivern      5      8       19                   23585       16433   \n7         Ryze      7      7        6                   33867       20850   \n8       Darius     19      3       13                   44216       22313   \n9         Lulu      3      3       27                   14694       12214   \n\n   visioScore     role  teamId  \n0          28      TOP     100  \n1          37   JUNGLE     100  \n2          29   MIDDLE     100  \n3          29   BOTTOM     100  \n4          72  UTILITY     100  \n5          20      TOP     200  \n6          26   JUNGLE     200  \n7          21   MIDDLE     200  \n8          15   BOTTOM     200  \n9          87  UTILITY     200  ",
      "text/html": "<div>\n<style scoped>\n    .dataframe tbody tr th:only-of-type {\n        vertical-align: middle;\n    }\n\n    .dataframe tbody tr th {\n        vertical-align: top;\n    }\n\n    .dataframe thead th {\n        text-align: right;\n    }\n</style>\n<table border=\"1\" class=\"dataframe\">\n  <thead>\n    <tr style=\"text-align: right;\">\n      <th></th>\n      <th>championName</th>\n      <th>kills</th>\n      <th>death</th>\n      <th>assists</th>\n      <th>totalDamageToChampions</th>\n      <th>goldEarned</th>\n      <th>visioScore</th>\n      <th>role</th>\n      <th>teamId</th>\n    </tr>\n  </thead>\n  <tbody>\n    <tr>\n      <th>0</th>\n      <td>Gnar</td>\n      <td>4</td>\n      <td>3</td>\n      <td>1</td>\n      <td>30214</td>\n      <td>19312</td>\n      <td>28</td>\n      <td>TOP</td>\n      <td>100</td>\n    </tr>\n    <tr>\n      <th>1</th>\n      <td>Lillia</td>\n      <td>1</td>\n      <td>7</td>\n      <td>6</td>\n      <td>25110</td>\n      <td>15328</td>\n      <td>37</td>\n      <td>JUNGLE</td>\n      <td>100</td>\n    </tr>\n    <tr>\n      <th>2</th>\n      <td>Yasuo</td>\n      <td>12</td>\n      <td>10</td>\n      <td>4</td>\n      <td>44392</td>\n      <td>20347</td>\n      <td>29</td>\n      <td>MIDDLE</td>\n      <td>100</td>\n    </tr>\n    <tr>\n      <th>3</th>\n      <td>Zeri</td>\n      <td>10</td>\n      <td>9</td>\n      <td>5</td>\n      <td>50128</td>\n      <td>21029</td>\n      <td>29</td>\n      <td>BOTTOM</td>\n      <td>100</td>\n    </tr>\n    <tr>\n      <th>4</th>\n      <td>Janna</td>\n      <td>0</td>\n      <td>10</td>\n      <td>14</td>\n      <td>8265</td>\n      <td>10773</td>\n      <td>72</td>\n      <td>UTILITY</td>\n      <td>100</td>\n    </tr>\n    <tr>\n      <th>5</th>\n      <td>Gangplank</td>\n      <td>5</td>\n      <td>6</td>\n      <td>6</td>\n      <td>17004</td>\n      <td>17193</td>\n      <td>20</td>\n      <td>TOP</td>\n      <td>200</td>\n    </tr>\n    <tr>\n      <th>6</th>\n      <td>Ivern</td>\n      <td>5</td>\n      <td>8</td>\n      <td>19</td>\n      <td>23585</td>\n      <td>16433</td>\n      <td>26</td>\n      <td>JUNGLE</td>\n      <td>200</td>\n    </tr>\n    <tr>\n      <th>7</th>\n      <td>Ryze</td>\n      <td>7</td>\n      <td>7</td>\n      <td>6</td>\n      <td>33867</td>\n      <td>20850</td>\n      <td>21</td>\n      <td>MIDDLE</td>\n      <td>200</td>\n    </tr>\n    <tr>\n      <th>8</th>\n      <td>Darius</td>\n      <td>19</td>\n      <td>3</td>\n      <td>13</td>\n      <td>44216</td>\n      <td>22313</td>\n      <td>15</td>\n      <td>BOTTOM</td>\n      <td>200</td>\n    </tr>\n    <tr>\n      <th>9</th>\n      <td>Lulu</td>\n      <td>3</td>\n      <td>3</td>\n      <td>27</td>\n      <td>14694</td>\n      <td>12214</td>\n      <td>87</td>\n      <td>UTILITY</td>\n      <td>200</td>\n    </tr>\n  </tbody>\n</table>\n</div>"
     },
     "execution_count": 23,
     "metadata": {},
     "output_type": "execute_result"
    }
   ],
   "source": [
    "match_info = get_match_data(match_list[3], api_key)\n",
    "match_info_df = pd.DataFrame(match_info)\n",
    "\n",
    "game_dur, game_md, df_part = extract_match_info(match_info)\n",
    "\n",
    "df_part"
   ],
   "metadata": {
    "collapsed": false,
    "ExecuteTime": {
     "end_time": "2023-12-02T15:10:11.401907Z",
     "start_time": "2023-12-02T15:10:08.976246Z"
    }
   },
   "id": "2f12a215fec96c36"
  }
 ],
 "metadata": {
  "kernelspec": {
   "display_name": "Python 3",
   "language": "python",
   "name": "python3"
  },
  "language_info": {
   "codemirror_mode": {
    "name": "ipython",
    "version": 2
   },
   "file_extension": ".py",
   "mimetype": "text/x-python",
   "name": "python",
   "nbconvert_exporter": "python",
   "pygments_lexer": "ipython2",
   "version": "2.7.6"
  }
 },
 "nbformat": 4,
 "nbformat_minor": 5
}
