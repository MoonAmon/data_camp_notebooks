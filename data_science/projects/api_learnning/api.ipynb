{
 "cells": [
  {
   "cell_type": "code",
   "execution_count": 1,
   "metadata": {},
   "outputs": [],
   "source": [
    "from pycoingecko import CoinGeckoAPI\n",
    "import pandas as pd"
   ]
  },
  {
   "cell_type": "code",
   "execution_count": 3,
   "metadata": {},
   "outputs": [
    {
     "data": {
      "text/html": [
       "<div>\n",
       "<style scoped>\n",
       "    .dataframe tbody tr th:only-of-type {\n",
       "        vertical-align: middle;\n",
       "    }\n",
       "\n",
       "    .dataframe tbody tr th {\n",
       "        vertical-align: top;\n",
       "    }\n",
       "\n",
       "    .dataframe thead th {\n",
       "        text-align: right;\n",
       "    }\n",
       "</style>\n",
       "<table border=\"1\" class=\"dataframe\">\n",
       "  <thead>\n",
       "    <tr style=\"text-align: right;\">\n",
       "      <th></th>\n",
       "      <th>prices</th>\n",
       "      <th>market_caps</th>\n",
       "      <th>total_volumes</th>\n",
       "    </tr>\n",
       "  </thead>\n",
       "  <tbody>\n",
       "    <tr>\n",
       "      <th>0</th>\n",
       "      <td>[1695668437733, 130873.77212338094]</td>\n",
       "      <td>[1695668437733, 2555525422306.9653]</td>\n",
       "      <td>[1695668437733, 64798169964.095665]</td>\n",
       "    </tr>\n",
       "    <tr>\n",
       "      <th>1</th>\n",
       "      <td>[1695672054179, 130834.08290381815]</td>\n",
       "      <td>[1695672054179, 2549719208694.9307]</td>\n",
       "      <td>[1695672054179, 56141802487.977425]</td>\n",
       "    </tr>\n",
       "    <tr>\n",
       "      <th>2</th>\n",
       "      <td>[1695675654169, 130632.27244849688]</td>\n",
       "      <td>[1695675654169, 2548400344408.667]</td>\n",
       "      <td>[1695675654169, 43768572861.18471]</td>\n",
       "    </tr>\n",
       "    <tr>\n",
       "      <th>3</th>\n",
       "      <td>[1695679209652, 130501.48919908266]</td>\n",
       "      <td>[1695679209652, 2545166325624.5635]</td>\n",
       "      <td>[1695679209652, 62830803241.19732]</td>\n",
       "    </tr>\n",
       "    <tr>\n",
       "      <th>4</th>\n",
       "      <td>[1695682807114, 130644.14083634337]</td>\n",
       "      <td>[1695682807114, 2546896248188.0054]</td>\n",
       "      <td>[1695682807114, 52325243649.826584]</td>\n",
       "    </tr>\n",
       "  </tbody>\n",
       "</table>\n",
       "</div>"
      ],
      "text/plain": [
       "                                prices                          market_caps  \\\n",
       "0  [1695668437733, 130873.77212338094]  [1695668437733, 2555525422306.9653]   \n",
       "1  [1695672054179, 130834.08290381815]  [1695672054179, 2549719208694.9307]   \n",
       "2  [1695675654169, 130632.27244849688]   [1695675654169, 2548400344408.667]   \n",
       "3  [1695679209652, 130501.48919908266]  [1695679209652, 2545166325624.5635]   \n",
       "4  [1695682807114, 130644.14083634337]  [1695682807114, 2546896248188.0054]   \n",
       "\n",
       "                         total_volumes  \n",
       "0  [1695668437733, 64798169964.095665]  \n",
       "1  [1695672054179, 56141802487.977425]  \n",
       "2   [1695675654169, 43768572861.18471]  \n",
       "3   [1695679209652, 62830803241.19732]  \n",
       "4  [1695682807114, 52325243649.826584]  "
      ]
     },
     "execution_count": 3,
     "metadata": {},
     "output_type": "execute_result"
    }
   ],
   "source": [
    "cg = CoinGeckoAPI()\n",
    "bitcoin_data = cg.get_coin_market_chart_by_id(id='bitcoin', vs_currency='brl', days=30)\n",
    "bitcoin_df = pd.DataFrame(bitcoin_data)\n",
    "bitcoin_df.head()"
   ]
  }
 ],
 "metadata": {
  "kernelspec": {
   "display_name": "Python 3",
   "language": "python",
   "name": "python3"
  },
  "language_info": {
   "codemirror_mode": {
    "name": "ipython",
    "version": 3
   },
   "file_extension": ".py",
   "mimetype": "text/x-python",
   "name": "python",
   "nbconvert_exporter": "python",
   "pygments_lexer": "ipython3",
   "version": "3.12.0"
  }
 },
 "nbformat": 4,
 "nbformat_minor": 2
}
