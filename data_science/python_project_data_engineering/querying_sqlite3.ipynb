{
 "cells": [
  {
   "cell_type": "markdown",
   "source": [
    "# Querying SQLite 3 database"
   ],
   "metadata": {
    "collapsed": false
   },
   "id": "9ae1f99f7c7faf47"
  },
  {
   "cell_type": "code",
   "outputs": [],
   "source": [
    "import sqlite3\n",
    "sql_connection = sqlite3.connect('database.db')"
   ],
   "metadata": {
    "collapsed": false,
    "ExecuteTime": {
     "end_time": "2024-01-24T15:03:51.940934700Z",
     "start_time": "2024-01-24T15:03:51.919197400Z"
    }
   },
   "id": "bbd967a88ae2d034",
   "execution_count": 2
  },
  {
   "cell_type": "markdown",
   "source": [
    "## How to create a database table using SQLite3 and Pandas?"
   ],
   "metadata": {
    "collapsed": false
   },
   "id": "4ea49aec180c5292"
  },
  {
   "cell_type": "code",
   "outputs": [
    {
     "ename": "NameError",
     "evalue": "name 'df' is not defined",
     "output_type": "error",
     "traceback": [
      "\u001B[1;31m---------------------------------------------------------------------------\u001B[0m",
      "\u001B[1;31mNameError\u001B[0m                                 Traceback (most recent call last)",
      "Cell \u001B[1;32mIn[3], line 1\u001B[0m\n\u001B[1;32m----> 1\u001B[0m \u001B[43mdf\u001B[49m\u001B[38;5;241m.\u001B[39mto_sql(table_name, sql_connection, if_exists\u001B[38;5;241m=\u001B[39m\u001B[38;5;124m'\u001B[39m\u001B[38;5;124mreplace\u001B[39m\u001B[38;5;124m'\u001B[39m, index\u001B[38;5;241m=\u001B[39m\u001B[38;5;28;01mFalse\u001B[39;00m)\n",
      "\u001B[1;31mNameError\u001B[0m: name 'df' is not defined"
     ]
    }
   ],
   "source": [
    "df.to_sql(table_name, sql_connection, if_exists='replace', index=False)"
   ],
   "metadata": {
    "collapsed": false,
    "ExecuteTime": {
     "end_time": "2024-01-24T15:03:55.244684800Z",
     "start_time": "2024-01-24T15:03:54.838517900Z"
    }
   },
   "id": "62aed194eb10a4af",
   "execution_count": 3
  }
 ],
 "metadata": {
  "kernelspec": {
   "display_name": "Python 3",
   "language": "python",
   "name": "python3"
  },
  "language_info": {
   "codemirror_mode": {
    "name": "ipython",
    "version": 2
   },
   "file_extension": ".py",
   "mimetype": "text/x-python",
   "name": "python",
   "nbconvert_exporter": "python",
   "pygments_lexer": "ipython2",
   "version": "2.7.6"
  }
 },
 "nbformat": 4,
 "nbformat_minor": 5
}
