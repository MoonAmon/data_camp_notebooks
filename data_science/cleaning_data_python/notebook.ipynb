{
 "cells": [
  {
   "source": [
    "# Cleaning Data in Python\n",
    "Run the hidden code cell below to import the data used in this course."
   ],
   "metadata": {
    "id": "bA5ajAmk7XH6"
   },
   "id": "prostate-arizona",
   "cell_type": "markdown"
  },
  {
   "source": [
    "# Import the course packages\n",
    "import pandas as pd\n",
    "import numpy as np\n",
    "import datetime as dt\n",
    "import matplotlib.pyplot as plt\n",
    "import missingno as msno\n",
    "import fuzzywuzzy\n",
    "import recordlinkage \n",
    "\n",
    "# Import the course datasets\n",
    "ride_sharing = pd.read_csv('datasets/ride_sharing_new.csv', index_col = 'Unnamed: 0')\n",
    "airlines = pd.read_csv('datasets/airlines_final.csv',  index_col = 'Unnamed: 0')\n",
    "banking = pd.read_csv('datasets/banking_dirty.csv', index_col = 'Unnamed: 0')\n",
    "restaurants = pd.read_csv('datasets/restaurants_L2.csv', index_col = 'Unnamed: 0')\n",
    "restaurants_new = pd.read_csv('datasets/restaurants_L2_dirty.csv', index_col = 'Unnamed: 0')"
   ],
   "metadata": {
    "jupyter": {
     "source_hidden": true
    },
    "collapsed": false
   },
   "id": "2e25fdd8-4d84-45bc-80f0-949917e00a17",
   "cell_type": "code",
   "execution_count": null,
   "outputs": []
  },
  {
   "source": [
    "## Take Notes\n",
    "\n",
    "Add notes about the concepts you've learned and code cells with code you want to keep."
   ],
   "metadata": {},
   "id": "ea3556f0",
   "cell_type": "markdown"
  },
  {
   "source": [
    "_Add your notes here_"
   ],
   "metadata": {},
   "id": "6bad4cdd",
   "cell_type": "markdown"
  },
  {
   "source": [
    "# Strip duration of minutes\n",
    "ride_sharing['duration_trim'] = ride_sharing['duration'].str.strip('minutes')\n",
    "\n",
    "# Convert duration to integer\n",
    "ride_sharing['duration_time'] = ride_sharing['duration_trim'].astype('int')\n",
    "\n",
    "# Write an assert statement making sure of conversion\n",
    "assert ride_sharing['duration_time'].dtype == 'int'\n",
    "\n",
    "# Print formed columns and calculate average ride duration \n",
    "print(ride_sharing[['duration','duration_trim','duration_time']])\n",
    "print(ride_sharing['duration_time'].mean())"
   ],
   "metadata": {},
   "id": "079c7628-464c-471b-9867-b684acc232b9",
   "cell_type": "code",
   "execution_count": null,
   "outputs": []
  },
  {
   "source": [
    "## Explore Datasets\n",
    "Use the DataFrames imported in the first cell to explore the data and practice your skills!\n",
    "- For each DataFrame, inspect the data types of each column and, where needed, clean and convert columns into the correct data type. You should also rename any columns to have more descriptive titles.\n",
    "- Identify and remove all the duplicate rows in `ride_sharing`.\n",
    "- Inspect the unique values of all the columns in `airlines` and clean any inconsistencies.\n",
    "- For the `airlines` DataFrame, create a new column called `International` from `dest_region`, where values representing US regions map to `False` and all other regions map to `True`.\n",
    "- The `banking` DataFrame contains out of date ages. Update the `Age` column using today's date and the `birth_date` column.\n",
    "- Clean the `restaurants_new` DataFrame so that it better matches the categories in the `city` and `type` column of the `restaurants` DataFrame. Afterward, given typos in restaurant names, use record linkage to generate possible pairs of rows between `restaurants` and `restaurants_new` using criteria you think is best.\n"
   ],
   "metadata": {},
   "id": "b3317e25-17e0-4f71-89fb-18d950b5bd85",
   "cell_type": "markdown"
  },
  {
   "source": [],
   "metadata": {},
   "cell_type": "code",
   "id": "0abd9cc7-bd00-4ca6-83f9-96134bca0209",
   "execution_count": null,
   "outputs": []
  }
 ],
 "metadata": {
  "editor": "DataCamp Workspace",
  "kernelspec": {
   "display_name": "Python 3 (ipykernel)",
   "language": "python",
   "name": "python3"
  },
  "language_info": {
   "name": "python",
   "version": "3.8.10",
   "mimetype": "text/x-python",
   "codemirror_mode": {
    "name": "ipython",
    "version": 3
   },
   "pygments_lexer": "ipython3",
   "nbconvert_exporter": "python",
   "file_extension": ".py"
  }
 },
 "nbformat": 4,
 "nbformat_minor": 5
}
