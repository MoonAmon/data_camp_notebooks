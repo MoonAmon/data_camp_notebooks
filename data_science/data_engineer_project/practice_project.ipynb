{
 "cells": [
  {
   "cell_type": "markdown",
   "source": [
    "# Practice Project"
   ],
   "metadata": {
    "collapsed": false
   },
   "id": "21f0aa83e5666815"
  },
  {
   "cell_type": "code",
   "outputs": [
    {
     "name": "stdout",
     "output_type": "stream",
     "text": [
      "Requirement already satisfied: requests in c:\\users\\user\\desktop\\repos_git\\data_camp_notebooks\\venv\\lib\\site-packages (2.31.0)\n",
      "Collecting bs4\n",
      "  Obtaining dependency information for bs4 from https://files.pythonhosted.org/packages/51/bb/bf7aab772a159614954d84aa832c129624ba6c32faa559dfb200a534e50b/bs4-0.0.2-py2.py3-none-any.whl.metadata\n",
      "  Using cached bs4-0.0.2-py2.py3-none-any.whl.metadata (411 bytes)\n",
      "Collecting pandas\n",
      "  Obtaining dependency information for pandas from https://files.pythonhosted.org/packages/87/03/fe50521919aa981f6a1c197037da4623a267b0e5f42246d69ba048e86da3/pandas-2.2.0-cp312-cp312-win_amd64.whl.metadata\n",
      "  Using cached pandas-2.2.0-cp312-cp312-win_amd64.whl.metadata (19 kB)\n",
      "Collecting numpy\n",
      "  Obtaining dependency information for numpy from https://files.pythonhosted.org/packages/ad/11/52fbe97fd84c91105b651d25a122f8deed6d3519afb14f9771fac1c9b7de/numpy-1.26.3-cp312-cp312-win_amd64.whl.metadata\n",
      "  Using cached numpy-1.26.3-cp312-cp312-win_amd64.whl.metadata (61 kB)\n",
      "Collecting datetime\n",
      "  Obtaining dependency information for datetime from https://files.pythonhosted.org/packages/ff/d5/f508192a563ab7415d1efbbe8d39cb9f0e510a1f6aaee3ca7d4ffed2a194/DateTime-5.4-py3-none-any.whl.metadata\n",
      "  Downloading DateTime-5.4-py3-none-any.whl.metadata (33 kB)\n",
      "Requirement already satisfied: charset-normalizer<4,>=2 in c:\\users\\user\\desktop\\repos_git\\data_camp_notebooks\\venv\\lib\\site-packages (from requests) (3.3.2)\n",
      "Requirement already satisfied: idna<4,>=2.5 in c:\\users\\user\\desktop\\repos_git\\data_camp_notebooks\\venv\\lib\\site-packages (from requests) (3.6)\n",
      "Requirement already satisfied: urllib3<3,>=1.21.1 in c:\\users\\user\\desktop\\repos_git\\data_camp_notebooks\\venv\\lib\\site-packages (from requests) (2.2.0)\n",
      "Requirement already satisfied: certifi>=2017.4.17 in c:\\users\\user\\desktop\\repos_git\\data_camp_notebooks\\venv\\lib\\site-packages (from requests) (2023.11.17)\n",
      "Requirement already satisfied: beautifulsoup4 in c:\\users\\user\\desktop\\repos_git\\data_camp_notebooks\\venv\\lib\\site-packages (from bs4) (4.12.3)\n",
      "Requirement already satisfied: python-dateutil>=2.8.2 in c:\\users\\user\\desktop\\repos_git\\data_camp_notebooks\\venv\\lib\\site-packages (from pandas) (2.8.2)\n",
      "Collecting pytz>=2020.1 (from pandas)\n",
      "  Obtaining dependency information for pytz>=2020.1 from https://files.pythonhosted.org/packages/3b/dd/9b84302ba85ac6d3d3042d3e8698374838bde1c386b4adb1223d7a0efd4e/pytz-2023.4-py2.py3-none-any.whl.metadata\n",
      "  Downloading pytz-2023.4-py2.py3-none-any.whl.metadata (22 kB)\n",
      "Collecting tzdata>=2022.7 (from pandas)\n",
      "  Obtaining dependency information for tzdata>=2022.7 from https://files.pythonhosted.org/packages/a3/fb/52b62131e21b24ee297e4e95ed41eba29647dad0e0051a92bb66b43c70ff/tzdata-2023.4-py2.py3-none-any.whl.metadata\n",
      "  Using cached tzdata-2023.4-py2.py3-none-any.whl.metadata (1.4 kB)\n",
      "Collecting zope.interface (from datetime)\n",
      "  Obtaining dependency information for zope.interface from https://files.pythonhosted.org/packages/0f/d5/81f9789311d9773a02ed048af7452fc6cedce059748dba956c1dc040340a/zope.interface-6.1-cp312-cp312-win_amd64.whl.metadata\n",
      "  Using cached zope.interface-6.1-cp312-cp312-win_amd64.whl.metadata (42 kB)\n",
      "Requirement already satisfied: six>=1.5 in c:\\users\\user\\desktop\\repos_git\\data_camp_notebooks\\venv\\lib\\site-packages (from python-dateutil>=2.8.2->pandas) (1.16.0)\n",
      "Requirement already satisfied: soupsieve>1.2 in c:\\users\\user\\desktop\\repos_git\\data_camp_notebooks\\venv\\lib\\site-packages (from beautifulsoup4->bs4) (2.5)\n",
      "Collecting setuptools (from zope.interface->datetime)\n",
      "  Obtaining dependency information for setuptools from https://files.pythonhosted.org/packages/55/3a/5121b58b578a598b269537e09a316ad2a94fdd561a2c6eb75cd68578cc6b/setuptools-69.0.3-py3-none-any.whl.metadata\n",
      "  Using cached setuptools-69.0.3-py3-none-any.whl.metadata (6.3 kB)\n",
      "Using cached bs4-0.0.2-py2.py3-none-any.whl (1.2 kB)\n",
      "Using cached pandas-2.2.0-cp312-cp312-win_amd64.whl (11.5 MB)\n",
      "Using cached numpy-1.26.3-cp312-cp312-win_amd64.whl (15.5 MB)\n",
      "Downloading DateTime-5.4-py3-none-any.whl (52 kB)\n",
      "   ---------------------------------------- 0.0/52.5 kB ? eta -:--:--\n",
      "   ---------------------------------------- 52.5/52.5 kB 2.6 MB/s eta 0:00:00\n",
      "Downloading pytz-2023.4-py2.py3-none-any.whl (506 kB)\n",
      "   ---------------------------------------- 0.0/506.5 kB ? eta -:--:--\n",
      "   ------- -------------------------------- 92.2/506.5 kB 2.6 MB/s eta 0:00:01\n",
      "   ---------------- ----------------------- 215.0/506.5 kB 2.2 MB/s eta 0:00:01\n",
      "   ---------------------------- ----------- 358.4/506.5 kB 2.5 MB/s eta 0:00:01\n",
      "   ---------------------------------------- 506.5/506.5 kB 3.2 MB/s eta 0:00:00\n",
      "Using cached tzdata-2023.4-py2.py3-none-any.whl (346 kB)\n",
      "Using cached zope.interface-6.1-cp312-cp312-win_amd64.whl (204 kB)\n",
      "Using cached setuptools-69.0.3-py3-none-any.whl (819 kB)\n",
      "Installing collected packages: pytz, tzdata, setuptools, numpy, zope.interface, pandas, bs4, datetime\n",
      "Successfully installed bs4-0.0.2 datetime-5.4 numpy-1.26.3 pandas-2.2.0 pytz-2023.4 setuptools-69.0.3 tzdata-2023.4 zope.interface-6.1\n"
     ]
    },
    {
     "name": "stderr",
     "output_type": "stream",
     "text": [
      "Could not find platform independent libraries <prefix>\n",
      "\n",
      "[notice] A new release of pip is available: 23.2.1 -> 23.3.2\n",
      "[notice] To update, run: python.exe -m pip install --upgrade pip\n"
     ]
    }
   ],
   "source": [
    "!pip install requests bs4 pandas numpy datetime"
   ],
   "metadata": {
    "collapsed": false,
    "ExecuteTime": {
     "end_time": "2024-01-30T15:26:56.485195800Z",
     "start_time": "2024-01-30T15:26:25.999188200Z"
    }
   },
   "id": "33eedd0c721203c5",
   "execution_count": 5
  },
  {
   "cell_type": "code",
   "outputs": [],
   "source": [
    "from webscraping_testing import extract"
   ],
   "metadata": {
    "collapsed": false,
    "ExecuteTime": {
     "end_time": "2024-01-30T16:18:54.255169500Z",
     "start_time": "2024-01-30T16:18:54.252655200Z"
    }
   },
   "id": "a9f2b3b83fd8ca81",
   "execution_count": 14
  },
  {
   "cell_type": "code",
   "outputs": [
    {
     "name": "stderr",
     "output_type": "stream",
     "text": [
      "C:\\Users\\USER\\Desktop\\repos_git\\data_camp_notebooks\\data_science\\data_engineer_project\\webscraping_testing.py:9: FutureWarning: Passing literal html to 'read_html' is deprecated and will be removed in a future version. To read from a literal string, wrap it in a 'StringIO' object.\n",
      "  df = pd.read_html(str(table))\n"
     ]
    },
    {
     "data": {
      "text/plain": "[                                   0                                 1  \\\n 0   Mar da Sobrevivência: Grand Line  Mar da Sobrevivência: Grand Line   \n 1                                  №                                 №   \n 2                                NaN                                 1   \n 3                                NaN                               1.1   \n 4                                NaN                               1.2   \n ..                               ...                               ...   \n 66                               NaN                              11.2   \n 67                               NaN                                12   \n 68                               NaN                              12.1   \n 69                               NaN                                13   \n 70                               NaN                              13.1   \n \n                                    2                                 3  \\\n 0   Mar da Sobrevivência: Grand Line  Mar da Sobrevivência: Grand Line   \n 1                          Saga/Arco                         Episódios   \n 2                  Saga de East Blue                              1–61   \n 3               Arco do Romance Dawn                               1–3   \n 4               Arco da Vila Laranja                               4–8   \n ..                               ...                               ...   \n 66                   Arco de Reverie                           878–889   \n 67              Saga do País de Wano                          890–1085   \n 68              Arco do País de Wano                          890–1085   \n 69                        Saga Final                             1086–   \n 70                   Arco de Egghead                             1086–   \n \n                                    4                                 5  \n 0   Mar da Sobrevivência: Grand Line  Mar da Sobrevivência: Grand Line  \n 1                              Total                  Data de exibição  \n 2                                 61                         1999–2001  \n 3                                  3                              1999  \n 4                                  5                              1999  \n ..                               ...                               ...  \n 66                                12                              2019  \n 67                               196                         2019–2023  \n 68                               196                         2019–2023  \n 69                                 3                             2023–  \n 70                                 3                             2023–  \n \n [71 rows x 6 columns]]"
     },
     "execution_count": 15,
     "metadata": {},
     "output_type": "execute_result"
    }
   ],
   "source": [
    "\n",
    "url = 'https://pt.wikipedia.org/wiki/Lista_de_epis%C3%B3dios_de_One_Piece'\n",
    "df = extract(url)\n",
    "\n",
    "df"
   ],
   "metadata": {
    "collapsed": false,
    "ExecuteTime": {
     "end_time": "2024-01-30T16:18:57.795200600Z",
     "start_time": "2024-01-30T16:18:56.827924Z"
    }
   },
   "id": "6a9e83bda28145b4",
   "execution_count": 15
  },
  {
   "cell_type": "code",
   "outputs": [
    {
     "data": {
      "text/plain": "      0     1                                   2         3    4          5\n61  NaN    10                         Saga de Zou   751–782   32  2016–2017\n62  NaN  10.1                         Arco de Zou   751–779   29  2016–2017\n63  NaN  10.2  Arco da Marinha Supernova (filler)   780–782    3       2017\n64  NaN    11                  Saga de Whole Cake   783–889  107  2017–2019\n65  NaN  11.1          Arco da Ilha de Whole Cake   783–877   95  2017–2019\n66  NaN  11.2                     Arco de Reverie   878–889   12       2019\n67  NaN    12                Saga do País de Wano  890–1085  196  2019–2023\n68  NaN  12.1                Arco do País de Wano  890–1085  196  2019–2023\n69  NaN    13                          Saga Final     1086–    3      2023–\n70  NaN  13.1                     Arco de Egghead     1086–    3      2023–",
      "text/html": "<div>\n<style scoped>\n    .dataframe tbody tr th:only-of-type {\n        vertical-align: middle;\n    }\n\n    .dataframe tbody tr th {\n        vertical-align: top;\n    }\n\n    .dataframe thead th {\n        text-align: right;\n    }\n</style>\n<table border=\"1\" class=\"dataframe\">\n  <thead>\n    <tr style=\"text-align: right;\">\n      <th></th>\n      <th>0</th>\n      <th>1</th>\n      <th>2</th>\n      <th>3</th>\n      <th>4</th>\n      <th>5</th>\n    </tr>\n  </thead>\n  <tbody>\n    <tr>\n      <th>61</th>\n      <td>NaN</td>\n      <td>10</td>\n      <td>Saga de Zou</td>\n      <td>751–782</td>\n      <td>32</td>\n      <td>2016–2017</td>\n    </tr>\n    <tr>\n      <th>62</th>\n      <td>NaN</td>\n      <td>10.1</td>\n      <td>Arco de Zou</td>\n      <td>751–779</td>\n      <td>29</td>\n      <td>2016–2017</td>\n    </tr>\n    <tr>\n      <th>63</th>\n      <td>NaN</td>\n      <td>10.2</td>\n      <td>Arco da Marinha Supernova (filler)</td>\n      <td>780–782</td>\n      <td>3</td>\n      <td>2017</td>\n    </tr>\n    <tr>\n      <th>64</th>\n      <td>NaN</td>\n      <td>11</td>\n      <td>Saga de Whole Cake</td>\n      <td>783–889</td>\n      <td>107</td>\n      <td>2017–2019</td>\n    </tr>\n    <tr>\n      <th>65</th>\n      <td>NaN</td>\n      <td>11.1</td>\n      <td>Arco da Ilha de Whole Cake</td>\n      <td>783–877</td>\n      <td>95</td>\n      <td>2017–2019</td>\n    </tr>\n    <tr>\n      <th>66</th>\n      <td>NaN</td>\n      <td>11.2</td>\n      <td>Arco de Reverie</td>\n      <td>878–889</td>\n      <td>12</td>\n      <td>2019</td>\n    </tr>\n    <tr>\n      <th>67</th>\n      <td>NaN</td>\n      <td>12</td>\n      <td>Saga do País de Wano</td>\n      <td>890–1085</td>\n      <td>196</td>\n      <td>2019–2023</td>\n    </tr>\n    <tr>\n      <th>68</th>\n      <td>NaN</td>\n      <td>12.1</td>\n      <td>Arco do País de Wano</td>\n      <td>890–1085</td>\n      <td>196</td>\n      <td>2019–2023</td>\n    </tr>\n    <tr>\n      <th>69</th>\n      <td>NaN</td>\n      <td>13</td>\n      <td>Saga Final</td>\n      <td>1086–</td>\n      <td>3</td>\n      <td>2023–</td>\n    </tr>\n    <tr>\n      <th>70</th>\n      <td>NaN</td>\n      <td>13.1</td>\n      <td>Arco de Egghead</td>\n      <td>1086–</td>\n      <td>3</td>\n      <td>2023–</td>\n    </tr>\n  </tbody>\n</table>\n</div>"
     },
     "execution_count": 20,
     "metadata": {},
     "output_type": "execute_result"
    }
   ],
   "source": [
    "df[0].tail(10)"
   ],
   "metadata": {
    "collapsed": false,
    "ExecuteTime": {
     "end_time": "2024-01-30T16:19:55.623857200Z",
     "start_time": "2024-01-30T16:19:55.582851900Z"
    }
   },
   "id": "b9f649ed90eb6840",
   "execution_count": 20
  }
 ],
 "metadata": {
  "kernelspec": {
   "display_name": "Python 3",
   "language": "python",
   "name": "python3"
  },
  "language_info": {
   "codemirror_mode": {
    "name": "ipython",
    "version": 2
   },
   "file_extension": ".py",
   "mimetype": "text/x-python",
   "name": "python",
   "nbconvert_exporter": "python",
   "pygments_lexer": "ipython2",
   "version": "2.7.6"
  }
 },
 "nbformat": 4,
 "nbformat_minor": 5
}
