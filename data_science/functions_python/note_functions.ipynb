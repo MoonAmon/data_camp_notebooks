{
 "cells": [
  {
   "cell_type": "markdown",
   "id": "ba68c46cc52887f5",
   "metadata": {
    "collapsed": false
   },
   "source": [
    "# Function in python"
   ]
  },
  {
   "cell_type": "code",
   "execution_count": 3,
   "id": "c3bf1b4845517ee2",
   "metadata": {
    "collapsed": false
   },
   "outputs": [],
   "source": [
    "def binary_search_recursive(ordered_list, search_value):\n",
    "    # Define the base case\n",
    "    if len(ordered_list) == 0:\n",
    "        return False\n",
    "    else:\n",
    "        middle = len(ordered_list) // 2\n",
    "        # Check whether the search value equals in the middle\n",
    "        if search_value == ordered_list[middle]:\n",
    "            # Call recursively with the left half of the list\n",
    "            return binary_search_recursive(ordered_list[:middle], search_value)\n",
    "        else:\n",
    "            # Call recursively with the right half of the list\n",
    "            return binary_search_recursive(ordered_list[middle+1:], search_value)"
   ]
  },
  {
   "cell_type": "code",
   "execution_count": null,
   "metadata": {},
   "outputs": [],
   "source": []
  }
 ],
 "metadata": {
  "kernelspec": {
   "display_name": "Python 3",
   "language": "python",
   "name": "python3"
  },
  "language_info": {
   "codemirror_mode": {
    "name": "ipython",
    "version": 3
   },
   "file_extension": ".py",
   "mimetype": "text/x-python",
   "name": "python",
   "nbconvert_exporter": "python",
   "pygments_lexer": "ipython3",
   "version": "3.12.0"
  }
 },
 "nbformat": 4,
 "nbformat_minor": 5
}
