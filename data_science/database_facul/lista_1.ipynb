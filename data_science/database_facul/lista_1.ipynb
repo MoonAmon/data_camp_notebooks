{
 "cells": [
  {
   "cell_type": "markdown",
   "metadata": {},
   "source": [
    "# Lista 1 de Banco de Dados"
   ]
  },
  {
   "cell_type": "markdown",
   "metadata": {},
   "source": [
    "### 1 – Defina:  \n",
    "#### a) Banco de dados  \n",
    "#### b) SGBD  \n",
    "#### c) Modelo de dados conceitual  \n",
    "#### d) Modelo de dados Lógico  \n",
    "#### e) Modelo de dados Físico  "
   ]
  },
  {
   "cell_type": "markdown",
   "metadata": {},
   "source": [
    "a) Um banco de dados é representados com varios dados ligados com alguma relação.\n",
    "\n",
    "b) O SGBD é um software que esta entre o usuario e os dados dos bancos de dados, tendo uma interface para que o usuario possa gerenciar os bancos de dados.   \n",
    "\n",
    "c) É a camada mais abstrata da representação dos dados, aqui usamos DER (Diagramas de Entidade-Relacionamento) para representar nosso modelo conceitual quais objetivos da criação do banco de dados, como trataremos os dados, quais dados relacionam entre etc.  \n",
    "\n",
    "d) Nesse modelo traduzimos o schema que fizemos no modelo conceitual, usamos o SGBD de sua escolha para implementar tabelas, colunas, chaves primarias etc.  \n",
    "\n",
    "e) Nesta camada definimos como os dados seram armazenados nos discos rigidos, quais estrategias de acesso usar e outras considerações visando o desempenho.  "
   ]
  },
  {
   "cell_type": "markdown",
   "metadata": {},
   "source": [
    "### 2 – Cite e explique as vantagens de armazenar dados usando um SGBD ao invés de um sistema de arquivos."
   ]
  },
  {
   "cell_type": "markdown",
   "metadata": {},
   "source": [
    "Usando um SGBD os dados teriam uma relação entre outros dados, com isso em casos de enorme quantidade de dados poderiamos fazer consultas relacionais entres esses dados, como juntar duas tabelas (INNER JOIN), busca de dados com um valor especifico (WHERE), dados unicos (DISTINCT) etc.\n",
    "Temos também a vantagem de os dados serem usados por varios usuarios ao mesmo tempo, podendo tambem ter um controle da segurança desses dados, com controle de acesso, role etc."
   ]
  },
  {
   "cell_type": "markdown",
   "metadata": {},
   "source": [
    "### 3 – Cite e explique as responsabilidades de um projetista de Banco de dados e de um DBA."
   ]
  },
  {
   "cell_type": "markdown",
   "metadata": {},
   "source": [
    "O projetista de Banco de dados tem como responsabilidades em projetar e estruturar de acordo com os modelos de dados conceitual e logico, incluindo a definição de entidades, relacionamento e restrições, alem de tambem escolher o SGBD apropiado para o banco de dados, fica responsavel pela documentação do mesmo.\n",
    "Já o DBA fica responsavel pela instalação e configuração do banco de dados, também pela a manutenção, segurança e resolução de problemas caso aconteça falhas no SGBD."
   ]
  },
  {
   "cell_type": "markdown",
   "metadata": {},
   "source": [
    "### 4 – O que são metadados? Exemplifique"
   ]
  },
  {
   "cell_type": "markdown",
   "metadata": {},
   "source": [
    "Os metadados são aqueles dados que passam informação do dado em si, informações sobre descrição do dado, data de criação, local, formato, tamanho etc.  \n",
    "\n",
    "Exemplo: Metadado de um livro: \n",
    "\n",
    "Nome: Deuses Americanos  \n",
    "Autor: Neil Gaiman  \n",
    "Paginas: 560  "
   ]
  },
  {
   "cell_type": "markdown",
   "metadata": {},
   "source": [
    "### 5 – Explique e exemplifique:\n",
    "#### a) Comandos DDL, DML e DCL\n",
    "#### b) Domínio de um atributo\n",
    "#### c) Domínio de aplicação/minimundo"
   ]
  },
  {
   "cell_type": "markdown",
   "metadata": {},
   "source": [
    "a) **DDL** *Data Definition Language*: São os comandos usados para definir e gerenciar os objetos do banco de dados incluindo a criação, exclusão e alteração.\n",
    "\n",
    "Exemplos: `ALTER`,`CREATE`,`DROP`\n",
    "\n",
    "**DML** *Data Manipulation Language*: São os comandos usados para a modificação dos dados dentro das tables.\n",
    "\n",
    "Exemplo: `INSERT`,`UPDATE`,`DELETE`\n",
    "\n",
    "**DCL** *Data Control Language*: São os comandos usados para controle da segurança dos bancos de dados.\n",
    "\n",
    "Exemplo: `REVOKE`,`GRANT`,`DENY`\n",
    "\n",
    "b) "
   ]
  }
 ],
 "metadata": {
  "language_info": {
   "name": "python"
  },
  "orig_nbformat": 4
 },
 "nbformat": 4,
 "nbformat_minor": 2
}
