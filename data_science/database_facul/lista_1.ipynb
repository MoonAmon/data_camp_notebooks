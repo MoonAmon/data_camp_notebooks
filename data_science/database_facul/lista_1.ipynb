{
 "cells": [
  {
   "cell_type": "markdown",
   "metadata": {},
   "source": [
    "# Lista 1 de Banco de Dados"
   ]
  },
  {
   "cell_type": "markdown",
   "metadata": {},
   "source": [
    "### 1 – Defina:  \n",
    "#### a) Banco de dados  \n",
    "#### b) SGBD  \n",
    "#### c) Modelo de dados conceitual  \n",
    "#### d) Modelo de dados Lógico  \n",
    "#### e) Modelo de dados Físico  "
   ]
  },
  {
   "cell_type": "markdown",
   "metadata": {},
   "source": [
    "a) Um banco de dados é representados com varios dados ligados com alguma relação.\n",
    "\n",
    "b) O SGBD é um software que esta entre o usuario e os dados dos bancos de dados, tendo uma interface para que o usuario possa gerenciar os bancos de dados.   \n",
    "\n",
    "c) É a camada mais abstrata da representação dos dados, aqui usamos DER (Diagramas de Entidade-Relacionamento) para representar nosso modelo conceitual quais objetivos da criação do banco de dados, como trataremos os dados, quais dados relacionam entre etc.  \n",
    "\n",
    "d) Nesse modelo traduzimos o schema que fizemos no modelo conceitual, usamos o SGBD de sua escolha para implementar tabelas, colunas, chaves primarias etc.  \n",
    "\n",
    "e) Nesta camada definimos como os dados seram armazenados nos discos rigidos, quais estrategias de acesso usar e outras considerações visando o desempenho.  "
   ]
  },
  {
   "cell_type": "markdown",
   "metadata": {},
   "source": [
    "### 2 – Cite e explique as vantagens de armazenar dados usando um SGBD ao invés de um sistema de arquivos."
   ]
  },
  {
   "cell_type": "markdown",
   "metadata": {},
   "source": [
    "Usando um SGBD os dados teriam uma relação entre outros dados, com isso em casos de enorme quantidade de dados poderiamos fazer consultas relacionais entres esses dados, como juntar duas tabelas (INNER JOIN), busca de dados com um valor especifico (WHERE), dados unicos (DISTINCT) etc.\n",
    "Temos também a vantagem de os dados serem usados por varios usuarios ao mesmo tempo, podendo tambem ter um controle da segurança desses dados, com controle de acesso, role etc."
   ]
  },
  {
   "cell_type": "markdown",
   "metadata": {},
   "source": [
    "### 3 – Cite e explique as responsabilidades de um projetista de Banco de dados e de um DBA."
   ]
  },
  {
   "cell_type": "markdown",
   "metadata": {},
   "source": [
    "O projetista de Banco de dados tem como responsabilidades em projetar e estruturar de acordo com os modelos de dados conceitual e logico, incluindo a definição de entidades, relacionamento e restrições, alem de tambem escolher o SGBD apropiado para o banco de dados, fica responsavel pela documentação do mesmo.\n",
    "Já o DBA fica responsavel pela instalação e configuração do banco de dados, também pela a manutenção, segurança e resolução de problemas caso aconteça falhas no SGBD."
   ]
  },
  {
   "cell_type": "markdown",
   "metadata": {},
   "source": [
    "### 4 – O que são metadados? Exemplifique"
   ]
  },
  {
   "cell_type": "markdown",
   "metadata": {},
   "source": [
    "Os metadados são aqueles dados que passam informação do dado em si, informações sobre descrição do dado, data de criação, local, formato, tamanho etc.  \n",
    "\n",
    "Exemplo: Metadado de um livro: \n",
    "\n",
    "Nome: Deuses Americanos  \n",
    "Autor: Neil Gaiman  \n",
    "Paginas: 560  "
   ]
  },
  {
   "cell_type": "markdown",
   "metadata": {},
   "source": [
    "### 5 – Explique e exemplifique:\n",
    "#### a) Comandos DDL, DML e DCL\n",
    "#### b) Domínio de um atributo\n",
    "#### c) Domínio de aplicação/minimundo"
   ]
  },
  {
   "cell_type": "markdown",
   "metadata": {},
   "source": [
    "a) **DDL** *Data Definition Language*: São os comandos usados para definir e gerenciar os objetos do banco de dados incluindo a criação, exclusão e alteração.\n",
    "\n",
    "Exemplos: `ALTER`,`CREATE`,`DROP`\n",
    "\n",
    "**DML** *Data Manipulation Language*: São os comandos usados para a modificação dos dados dentro das tables.\n",
    "\n",
    "Exemplo: `INSERT`,`UPDATE`,`DELETE`\n",
    "\n",
    "**DCL** *Data Control Language*: São os comandos usados para controle da segurança dos bancos de dados.\n",
    "\n",
    "Exemplo: `REVOKE`,`GRANT`,`DENY`\n",
    "\n",
    "b) O domínio de um atributo refere-se ao conjunto de valores válidos que esse atributo pode ter, uma faixa de valores permitida para um determinado campo em uma table, com o objetivo de evitar a inserção de valores inválidos.\n",
    "\n",
    "Exemplo: `CREATE TABLE produtos (\n",
    "            produto_id INT PRIMARY KEY,\n",
    "            nome VARCHAR(100),\n",
    "            preço DECIMAL(10,2),\n",
    "            categoria VARCHAR(50) CHECK (cateforia IN ('eletronicos' ,'roupas', 'alimentos'));\n",
    ")`\n",
    "\n",
    "c) O domínio de aplicação refere-se ao contexto e ás características exclusivas de uma determinada aplicação de software, seguindo o contexto, regras e regulamento, á depender do contexto e objetivos do banco de dados.\n",
    "\n",
    "Exemplo: *Sistema de Reservas de Companhias Aéreas*"
   ]
  },
  {
   "cell_type": "markdown",
   "metadata": {},
   "source": [
    "# 6 – Explique o funcionamento das seguintes arquiteturas:\n",
    "## a) Arquitetura Centralizada  \n",
    "## b) Arquitetura Cliente-Servidor de duas camadas  \n",
    "## c) Arquitetura Distribuída  "
   ]
  },
  {
   "cell_type": "markdown",
   "metadata": {},
   "source": [
    "a) A arquitetura dos bancos de dados centralizados tinham o foco de concentrar o processamento, os programas de interface entre outras funcionalidades do SGBD, no mainframe. Com isso o acesso dos usuários ao sistema era feitos via terminais, que não tinha poder computacional de processamento, os processos eram feito pelo mainframe, o motivo da utilização dessa arquitetura tinha motivo, pois na época, os preços de peças de hardware eram de alto custo.\n",
    "\n",
    "b) Na arquitetura cliente-servidr de duas camadas é uma evolução da arquitetura centralizada, pois com a queda dos preços e a evolução da computação, foi possivel a troca dos terminais por PCs e workstations, possibilitando, na camada cliente, o poder de processamento, que antes so era centralizado no mainframe.\n",
    "\n",
    "c) Um banco de dados distribuído é um conjunto de banco de dados distribuídos através de uma rede de computadores, mas logicamente inter-relacionados, enquanto o SGBDD não apenas gerencia o banco de dados distribuído, mas também torna a distribuição e transações transparentes para o usuário."
   ]
  }
 ],
 "metadata": {
  "language_info": {
   "name": "python"
  },
  "orig_nbformat": 4
 },
 "nbformat": 4,
 "nbformat_minor": 2
}
